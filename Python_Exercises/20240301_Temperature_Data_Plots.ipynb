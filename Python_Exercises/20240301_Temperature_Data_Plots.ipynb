{
 "cells": [
  {
   "cell_type": "markdown",
   "metadata": {},
   "source": [
    "# Evolution of Temperature Study 2019-2024\n",
    "\n",
    "### Website: [Regione Lazio](https://www.regione.lazio.it/)\n",
    "### Data source: [Link](https://www.siarl-lazio.it/E9.asp)"
   ]
  },
  {
   "cell_type": "code",
   "execution_count": 143,
   "metadata": {},
   "outputs": [],
   "source": [
    "# Importing libraries\n",
    "\n",
    "import pandas as pd\n",
    "import numpy as np\n",
    "import seaborn as sns\n",
    "import matplotlib.pyplot as plt\n",
    "import warnings\n",
    "import plotly.express as px\n",
    "import datetime as dt\n",
    "import glob as glob\n",
    "warnings.simplefilter(action=\"ignore\",category=FutureWarning)\n",
    "pd.options.mode.chained_assignment = None"
   ]
  },
  {
   "cell_type": "code",
   "execution_count": 144,
   "metadata": {},
   "outputs": [],
   "source": [
    "# Importing Data\n",
    "\n",
    "all_files=glob.glob(\"opdata*.csv\")\n",
    "file_list=[]\n",
    "for file in all_files:\n",
    "    data=pd.read_csv(file,delimiter=\";\",encoding=\"latin1\")\n",
    "    file_list.append(data)\n",
    "df=pd.concat(file_list)"
   ]
  },
  {
   "cell_type": "markdown",
   "metadata": {},
   "source": [
    "### 1. Exploring Data"
   ]
  },
  {
   "cell_type": "code",
   "execution_count": 145,
   "metadata": {},
   "outputs": [
    {
     "data": {
      "text/html": [
       "<div>\n",
       "<style scoped>\n",
       "    .dataframe tbody tr th:only-of-type {\n",
       "        vertical-align: middle;\n",
       "    }\n",
       "\n",
       "    .dataframe tbody tr th {\n",
       "        vertical-align: top;\n",
       "    }\n",
       "\n",
       "    .dataframe thead th {\n",
       "        text-align: right;\n",
       "    }\n",
       "</style>\n",
       "<table border=\"1\" class=\"dataframe\">\n",
       "  <thead>\n",
       "    <tr style=\"text-align: right;\">\n",
       "      <th></th>\n",
       "      <th>Stazione</th>\n",
       "      <th>Grandezza</th>\n",
       "      <th>Data rilevazione</th>\n",
       "      <th>Valore</th>\n",
       "      <th>Indice di validità</th>\n",
       "    </tr>\n",
       "  </thead>\n",
       "  <tbody>\n",
       "    <tr>\n",
       "      <th>0</th>\n",
       "      <td>ACCUMOLI</td>\n",
       "      <td>TEMPARIA2M_MING</td>\n",
       "      <td>01/01/2019 00:00</td>\n",
       "      <td>-1,4</td>\n",
       "      <td>Dato esatto</td>\n",
       "    </tr>\n",
       "    <tr>\n",
       "      <th>1</th>\n",
       "      <td>ACCUMOLI</td>\n",
       "      <td>TEMPARIA2M_MING</td>\n",
       "      <td>02/01/2019 00:00</td>\n",
       "      <td>-4,8</td>\n",
       "      <td>Dato esatto</td>\n",
       "    </tr>\n",
       "    <tr>\n",
       "      <th>2</th>\n",
       "      <td>ACCUMOLI</td>\n",
       "      <td>TEMPARIA2M_MING</td>\n",
       "      <td>03/01/2019 00:00</td>\n",
       "      <td>-7</td>\n",
       "      <td>Dato esatto</td>\n",
       "    </tr>\n",
       "    <tr>\n",
       "      <th>3</th>\n",
       "      <td>ACCUMOLI</td>\n",
       "      <td>TEMPARIA2M_MING</td>\n",
       "      <td>04/01/2019 00:00</td>\n",
       "      <td>-7,9</td>\n",
       "      <td>Dato esatto</td>\n",
       "    </tr>\n",
       "    <tr>\n",
       "      <th>4</th>\n",
       "      <td>ACCUMOLI</td>\n",
       "      <td>TEMPARIA2M_MING</td>\n",
       "      <td>05/01/2019 00:00</td>\n",
       "      <td>-6,1</td>\n",
       "      <td>Dato esatto</td>\n",
       "    </tr>\n",
       "  </tbody>\n",
       "</table>\n",
       "</div>"
      ],
      "text/plain": [
       "   Stazione        Grandezza  Data rilevazione Valore Indice di validità\n",
       "0  ACCUMOLI  TEMPARIA2M_MING  01/01/2019 00:00   -1,4        Dato esatto\n",
       "1  ACCUMOLI  TEMPARIA2M_MING  02/01/2019 00:00   -4,8        Dato esatto\n",
       "2  ACCUMOLI  TEMPARIA2M_MING  03/01/2019 00:00     -7        Dato esatto\n",
       "3  ACCUMOLI  TEMPARIA2M_MING  04/01/2019 00:00   -7,9        Dato esatto\n",
       "4  ACCUMOLI  TEMPARIA2M_MING  05/01/2019 00:00   -6,1        Dato esatto"
      ]
     },
     "execution_count": 145,
     "metadata": {},
     "output_type": "execute_result"
    }
   ],
   "source": [
    "df.head()"
   ]
  },
  {
   "cell_type": "code",
   "execution_count": 146,
   "metadata": {},
   "outputs": [
    {
     "data": {
      "text/plain": [
       "'872600 Rows by 5 Columns'"
      ]
     },
     "execution_count": 146,
     "metadata": {},
     "output_type": "execute_result"
    }
   ],
   "source": [
    "df.shape\n",
    "f\"{df.shape[0]} Rows by {df.shape[1]} Columns\""
   ]
  },
  {
   "cell_type": "code",
   "execution_count": 147,
   "metadata": {},
   "outputs": [
    {
     "data": {
      "text/html": [
       "<div>\n",
       "<style scoped>\n",
       "    .dataframe tbody tr th:only-of-type {\n",
       "        vertical-align: middle;\n",
       "    }\n",
       "\n",
       "    .dataframe tbody tr th {\n",
       "        vertical-align: top;\n",
       "    }\n",
       "\n",
       "    .dataframe thead th {\n",
       "        text-align: right;\n",
       "    }\n",
       "</style>\n",
       "<table border=\"1\" class=\"dataframe\">\n",
       "  <thead>\n",
       "    <tr style=\"text-align: right;\">\n",
       "      <th></th>\n",
       "      <th>Stazione</th>\n",
       "      <th>Grandezza</th>\n",
       "      <th>Data rilevazione</th>\n",
       "      <th>Valore</th>\n",
       "      <th>Indice di validità</th>\n",
       "    </tr>\n",
       "  </thead>\n",
       "  <tbody>\n",
       "    <tr>\n",
       "      <th>count</th>\n",
       "      <td>872600</td>\n",
       "      <td>872600</td>\n",
       "      <td>872600</td>\n",
       "      <td>872600</td>\n",
       "      <td>872600</td>\n",
       "    </tr>\n",
       "    <tr>\n",
       "      <th>unique</th>\n",
       "      <td>96</td>\n",
       "      <td>5</td>\n",
       "      <td>1857</td>\n",
       "      <td>6268</td>\n",
       "      <td>1</td>\n",
       "    </tr>\n",
       "    <tr>\n",
       "      <th>top</th>\n",
       "      <td>MAENZA</td>\n",
       "      <td>PREC_TOTG</td>\n",
       "      <td>26/07/2023 00:00</td>\n",
       "      <td>0</td>\n",
       "      <td>Dato esatto</td>\n",
       "    </tr>\n",
       "    <tr>\n",
       "      <th>freq</th>\n",
       "      <td>9285</td>\n",
       "      <td>174626</td>\n",
       "      <td>480</td>\n",
       "      <td>110267</td>\n",
       "      <td>872600</td>\n",
       "    </tr>\n",
       "  </tbody>\n",
       "</table>\n",
       "</div>"
      ],
      "text/plain": [
       "       Stazione  Grandezza  Data rilevazione  Valore Indice di validità\n",
       "count    872600     872600            872600  872600             872600\n",
       "unique       96          5              1857    6268                  1\n",
       "top      MAENZA  PREC_TOTG  26/07/2023 00:00       0        Dato esatto\n",
       "freq       9285     174626               480  110267             872600"
      ]
     },
     "execution_count": 147,
     "metadata": {},
     "output_type": "execute_result"
    }
   ],
   "source": [
    "df.describe()"
   ]
  },
  {
   "cell_type": "code",
   "execution_count": 148,
   "metadata": {},
   "outputs": [
    {
     "name": "stdout",
     "output_type": "stream",
     "text": [
      "<class 'pandas.core.frame.DataFrame'>\n",
      "Index: 872600 entries, 0 to 14702\n",
      "Data columns (total 5 columns):\n",
      " #   Column              Non-Null Count   Dtype \n",
      "---  ------              --------------   ----- \n",
      " 0   Stazione            872600 non-null  object\n",
      " 1   Grandezza           872600 non-null  object\n",
      " 2   Data rilevazione    872600 non-null  object\n",
      " 3   Valore              872600 non-null  object\n",
      " 4   Indice di validità  872600 non-null  object\n",
      "dtypes: object(5)\n",
      "memory usage: 39.9+ MB\n"
     ]
    }
   ],
   "source": [
    "df.info()"
   ]
  },
  {
   "cell_type": "markdown",
   "metadata": {},
   "source": [
    "### 2. Cleaning up the Data!"
   ]
  },
  {
   "cell_type": "code",
   "execution_count": 149,
   "metadata": {},
   "outputs": [
    {
     "data": {
      "text/html": [
       "<div>\n",
       "<style scoped>\n",
       "    .dataframe tbody tr th:only-of-type {\n",
       "        vertical-align: middle;\n",
       "    }\n",
       "\n",
       "    .dataframe tbody tr th {\n",
       "        vertical-align: top;\n",
       "    }\n",
       "\n",
       "    .dataframe thead th {\n",
       "        text-align: right;\n",
       "    }\n",
       "</style>\n",
       "<table border=\"1\" class=\"dataframe\">\n",
       "  <thead>\n",
       "    <tr style=\"text-align: right;\">\n",
       "      <th></th>\n",
       "      <th>Stazione</th>\n",
       "      <th>Grandezza</th>\n",
       "      <th>Data rilevazione</th>\n",
       "      <th>Valore</th>\n",
       "      <th>Indice di validità</th>\n",
       "    </tr>\n",
       "  </thead>\n",
       "  <tbody>\n",
       "    <tr>\n",
       "      <th>0</th>\n",
       "      <td>ACCUMOLI</td>\n",
       "      <td>TEMPARIA2M_MING</td>\n",
       "      <td>01/01/2019 00:00</td>\n",
       "      <td>-1,4</td>\n",
       "      <td>Dato esatto</td>\n",
       "    </tr>\n",
       "    <tr>\n",
       "      <th>1</th>\n",
       "      <td>ACCUMOLI</td>\n",
       "      <td>TEMPARIA2M_MING</td>\n",
       "      <td>02/01/2019 00:00</td>\n",
       "      <td>-4,8</td>\n",
       "      <td>Dato esatto</td>\n",
       "    </tr>\n",
       "    <tr>\n",
       "      <th>2</th>\n",
       "      <td>ACCUMOLI</td>\n",
       "      <td>TEMPARIA2M_MING</td>\n",
       "      <td>03/01/2019 00:00</td>\n",
       "      <td>-7</td>\n",
       "      <td>Dato esatto</td>\n",
       "    </tr>\n",
       "    <tr>\n",
       "      <th>3</th>\n",
       "      <td>ACCUMOLI</td>\n",
       "      <td>TEMPARIA2M_MING</td>\n",
       "      <td>04/01/2019 00:00</td>\n",
       "      <td>-7,9</td>\n",
       "      <td>Dato esatto</td>\n",
       "    </tr>\n",
       "    <tr>\n",
       "      <th>4</th>\n",
       "      <td>ACCUMOLI</td>\n",
       "      <td>TEMPARIA2M_MING</td>\n",
       "      <td>05/01/2019 00:00</td>\n",
       "      <td>-6,1</td>\n",
       "      <td>Dato esatto</td>\n",
       "    </tr>\n",
       "    <tr>\n",
       "      <th>...</th>\n",
       "      <td>...</td>\n",
       "      <td>...</td>\n",
       "      <td>...</td>\n",
       "      <td>...</td>\n",
       "      <td>...</td>\n",
       "    </tr>\n",
       "    <tr>\n",
       "      <th>14698</th>\n",
       "      <td>TARQUINIA Poggio Nebbia</td>\n",
       "      <td>UMARIA2M_MEDG</td>\n",
       "      <td>27/01/2024 00:00</td>\n",
       "      <td>75,33</td>\n",
       "      <td>Dato esatto</td>\n",
       "    </tr>\n",
       "    <tr>\n",
       "      <th>14699</th>\n",
       "      <td>TARQUINIA Poggio Nebbia</td>\n",
       "      <td>UMARIA2M_MEDG</td>\n",
       "      <td>28/01/2024 00:00</td>\n",
       "      <td>64,58</td>\n",
       "      <td>Dato esatto</td>\n",
       "    </tr>\n",
       "    <tr>\n",
       "      <th>14700</th>\n",
       "      <td>TARQUINIA Poggio Nebbia</td>\n",
       "      <td>UMARIA2M_MEDG</td>\n",
       "      <td>29/01/2024 00:00</td>\n",
       "      <td>60,71</td>\n",
       "      <td>Dato esatto</td>\n",
       "    </tr>\n",
       "    <tr>\n",
       "      <th>14701</th>\n",
       "      <td>TARQUINIA Poggio Nebbia</td>\n",
       "      <td>UMARIA2M_MEDG</td>\n",
       "      <td>30/01/2024 00:00</td>\n",
       "      <td>66,38</td>\n",
       "      <td>Dato esatto</td>\n",
       "    </tr>\n",
       "    <tr>\n",
       "      <th>14702</th>\n",
       "      <td>TARQUINIA Poggio Nebbia</td>\n",
       "      <td>UMARIA2M_MEDG</td>\n",
       "      <td>31/01/2024 00:00</td>\n",
       "      <td>82,62</td>\n",
       "      <td>Dato esatto</td>\n",
       "    </tr>\n",
       "  </tbody>\n",
       "</table>\n",
       "<p>872600 rows × 5 columns</p>\n",
       "</div>"
      ],
      "text/plain": [
       "                      Stazione        Grandezza  Data rilevazione Valore  \\\n",
       "0                     ACCUMOLI  TEMPARIA2M_MING  01/01/2019 00:00   -1,4   \n",
       "1                     ACCUMOLI  TEMPARIA2M_MING  02/01/2019 00:00   -4,8   \n",
       "2                     ACCUMOLI  TEMPARIA2M_MING  03/01/2019 00:00     -7   \n",
       "3                     ACCUMOLI  TEMPARIA2M_MING  04/01/2019 00:00   -7,9   \n",
       "4                     ACCUMOLI  TEMPARIA2M_MING  05/01/2019 00:00   -6,1   \n",
       "...                        ...              ...               ...    ...   \n",
       "14698  TARQUINIA Poggio Nebbia    UMARIA2M_MEDG  27/01/2024 00:00  75,33   \n",
       "14699  TARQUINIA Poggio Nebbia    UMARIA2M_MEDG  28/01/2024 00:00  64,58   \n",
       "14700  TARQUINIA Poggio Nebbia    UMARIA2M_MEDG  29/01/2024 00:00  60,71   \n",
       "14701  TARQUINIA Poggio Nebbia    UMARIA2M_MEDG  30/01/2024 00:00  66,38   \n",
       "14702  TARQUINIA Poggio Nebbia    UMARIA2M_MEDG  31/01/2024 00:00  82,62   \n",
       "\n",
       "      Indice di validità  \n",
       "0            Dato esatto  \n",
       "1            Dato esatto  \n",
       "2            Dato esatto  \n",
       "3            Dato esatto  \n",
       "4            Dato esatto  \n",
       "...                  ...  \n",
       "14698        Dato esatto  \n",
       "14699        Dato esatto  \n",
       "14700        Dato esatto  \n",
       "14701        Dato esatto  \n",
       "14702        Dato esatto  \n",
       "\n",
       "[872600 rows x 5 columns]"
      ]
     },
     "execution_count": 149,
     "metadata": {},
     "output_type": "execute_result"
    }
   ],
   "source": [
    "df"
   ]
  },
  {
   "cell_type": "code",
   "execution_count": 150,
   "metadata": {},
   "outputs": [
    {
     "data": {
      "text/html": [
       "<div>\n",
       "<style scoped>\n",
       "    .dataframe tbody tr th:only-of-type {\n",
       "        vertical-align: middle;\n",
       "    }\n",
       "\n",
       "    .dataframe tbody tr th {\n",
       "        vertical-align: top;\n",
       "    }\n",
       "\n",
       "    .dataframe thead th {\n",
       "        text-align: right;\n",
       "    }\n",
       "</style>\n",
       "<table border=\"1\" class=\"dataframe\">\n",
       "  <thead>\n",
       "    <tr style=\"text-align: right;\">\n",
       "      <th></th>\n",
       "      <th>Stazione</th>\n",
       "      <th>Grandezza</th>\n",
       "      <th>Data rilevazione</th>\n",
       "      <th>Valore</th>\n",
       "      <th>Indice di validità</th>\n",
       "    </tr>\n",
       "  </thead>\n",
       "  <tbody>\n",
       "    <tr>\n",
       "      <th>45611</th>\n",
       "      <td>FIUMICINO T. Lepre</td>\n",
       "      <td>TEMPARIA2M_MING</td>\n",
       "      <td>01/01/2019 00:00</td>\n",
       "      <td>3,1</td>\n",
       "      <td>Dato esatto</td>\n",
       "    </tr>\n",
       "    <tr>\n",
       "      <th>45612</th>\n",
       "      <td>FIUMICINO T. Lepre</td>\n",
       "      <td>TEMPARIA2M_MING</td>\n",
       "      <td>02/01/2019 00:00</td>\n",
       "      <td>2,7</td>\n",
       "      <td>Dato esatto</td>\n",
       "    </tr>\n",
       "    <tr>\n",
       "      <th>45613</th>\n",
       "      <td>FIUMICINO T. Lepre</td>\n",
       "      <td>TEMPARIA2M_MING</td>\n",
       "      <td>03/01/2019 00:00</td>\n",
       "      <td>-0,5</td>\n",
       "      <td>Dato esatto</td>\n",
       "    </tr>\n",
       "    <tr>\n",
       "      <th>45614</th>\n",
       "      <td>FIUMICINO T. Lepre</td>\n",
       "      <td>TEMPARIA2M_MING</td>\n",
       "      <td>04/01/2019 00:00</td>\n",
       "      <td>-1,1</td>\n",
       "      <td>Dato esatto</td>\n",
       "    </tr>\n",
       "    <tr>\n",
       "      <th>45615</th>\n",
       "      <td>FIUMICINO T. Lepre</td>\n",
       "      <td>TEMPARIA2M_MING</td>\n",
       "      <td>05/01/2019 00:00</td>\n",
       "      <td>-2,1</td>\n",
       "      <td>Dato esatto</td>\n",
       "    </tr>\n",
       "    <tr>\n",
       "      <th>...</th>\n",
       "      <td>...</td>\n",
       "      <td>...</td>\n",
       "      <td>...</td>\n",
       "      <td>...</td>\n",
       "      <td>...</td>\n",
       "    </tr>\n",
       "    <tr>\n",
       "      <th>4023</th>\n",
       "      <td>FIUMICINO T. Lepre</td>\n",
       "      <td>UMARIA2M_MEDG</td>\n",
       "      <td>27/01/2024 00:00</td>\n",
       "      <td>78,79</td>\n",
       "      <td>Dato esatto</td>\n",
       "    </tr>\n",
       "    <tr>\n",
       "      <th>4024</th>\n",
       "      <td>FIUMICINO T. Lepre</td>\n",
       "      <td>UMARIA2M_MEDG</td>\n",
       "      <td>28/01/2024 00:00</td>\n",
       "      <td>73,46</td>\n",
       "      <td>Dato esatto</td>\n",
       "    </tr>\n",
       "    <tr>\n",
       "      <th>4025</th>\n",
       "      <td>FIUMICINO T. Lepre</td>\n",
       "      <td>UMARIA2M_MEDG</td>\n",
       "      <td>29/01/2024 00:00</td>\n",
       "      <td>65,79</td>\n",
       "      <td>Dato esatto</td>\n",
       "    </tr>\n",
       "    <tr>\n",
       "      <th>4026</th>\n",
       "      <td>FIUMICINO T. Lepre</td>\n",
       "      <td>UMARIA2M_MEDG</td>\n",
       "      <td>30/01/2024 00:00</td>\n",
       "      <td>71,92</td>\n",
       "      <td>Dato esatto</td>\n",
       "    </tr>\n",
       "    <tr>\n",
       "      <th>4027</th>\n",
       "      <td>FIUMICINO T. Lepre</td>\n",
       "      <td>UMARIA2M_MEDG</td>\n",
       "      <td>31/01/2024 00:00</td>\n",
       "      <td>80,62</td>\n",
       "      <td>Dato esatto</td>\n",
       "    </tr>\n",
       "  </tbody>\n",
       "</table>\n",
       "<p>9215 rows × 5 columns</p>\n",
       "</div>"
      ],
      "text/plain": [
       "                 Stazione        Grandezza  Data rilevazione Valore  \\\n",
       "45611  FIUMICINO T. Lepre  TEMPARIA2M_MING  01/01/2019 00:00    3,1   \n",
       "45612  FIUMICINO T. Lepre  TEMPARIA2M_MING  02/01/2019 00:00    2,7   \n",
       "45613  FIUMICINO T. Lepre  TEMPARIA2M_MING  03/01/2019 00:00   -0,5   \n",
       "45614  FIUMICINO T. Lepre  TEMPARIA2M_MING  04/01/2019 00:00   -1,1   \n",
       "45615  FIUMICINO T. Lepre  TEMPARIA2M_MING  05/01/2019 00:00   -2,1   \n",
       "...                   ...              ...               ...    ...   \n",
       "4023   FIUMICINO T. Lepre    UMARIA2M_MEDG  27/01/2024 00:00  78,79   \n",
       "4024   FIUMICINO T. Lepre    UMARIA2M_MEDG  28/01/2024 00:00  73,46   \n",
       "4025   FIUMICINO T. Lepre    UMARIA2M_MEDG  29/01/2024 00:00  65,79   \n",
       "4026   FIUMICINO T. Lepre    UMARIA2M_MEDG  30/01/2024 00:00  71,92   \n",
       "4027   FIUMICINO T. Lepre    UMARIA2M_MEDG  31/01/2024 00:00  80,62   \n",
       "\n",
       "      Indice di validità  \n",
       "45611        Dato esatto  \n",
       "45612        Dato esatto  \n",
       "45613        Dato esatto  \n",
       "45614        Dato esatto  \n",
       "45615        Dato esatto  \n",
       "...                  ...  \n",
       "4023         Dato esatto  \n",
       "4024         Dato esatto  \n",
       "4025         Dato esatto  \n",
       "4026         Dato esatto  \n",
       "4027         Dato esatto  \n",
       "\n",
       "[9215 rows x 5 columns]"
      ]
     },
     "execution_count": 150,
     "metadata": {},
     "output_type": "execute_result"
    }
   ],
   "source": [
    "# Filtering by Station\n",
    "\n",
    "filter=(df[\"Stazione\"]==\"FIUMICINO T. Lepre\")\n",
    "df=df[filter]\n",
    "df"
   ]
  },
  {
   "cell_type": "code",
   "execution_count": 151,
   "metadata": {},
   "outputs": [
    {
     "data": {
      "text/html": [
       "<div>\n",
       "<style scoped>\n",
       "    .dataframe tbody tr th:only-of-type {\n",
       "        vertical-align: middle;\n",
       "    }\n",
       "\n",
       "    .dataframe tbody tr th {\n",
       "        vertical-align: top;\n",
       "    }\n",
       "\n",
       "    .dataframe thead th {\n",
       "        text-align: right;\n",
       "    }\n",
       "</style>\n",
       "<table border=\"1\" class=\"dataframe\">\n",
       "  <thead>\n",
       "    <tr style=\"text-align: right;\">\n",
       "      <th></th>\n",
       "      <th>Stazione</th>\n",
       "      <th>Grandezza</th>\n",
       "      <th>Data rilevazione</th>\n",
       "      <th>Valore</th>\n",
       "      <th>Indice di validità</th>\n",
       "    </tr>\n",
       "  </thead>\n",
       "  <tbody>\n",
       "    <tr>\n",
       "      <th>45611</th>\n",
       "      <td>FIUMICINO T. Lepre</td>\n",
       "      <td>TEMPARIA2M_MING</td>\n",
       "      <td>01/01/2019 00:00</td>\n",
       "      <td>3,1</td>\n",
       "      <td>Dato esatto</td>\n",
       "    </tr>\n",
       "    <tr>\n",
       "      <th>45612</th>\n",
       "      <td>FIUMICINO T. Lepre</td>\n",
       "      <td>TEMPARIA2M_MING</td>\n",
       "      <td>02/01/2019 00:00</td>\n",
       "      <td>2,7</td>\n",
       "      <td>Dato esatto</td>\n",
       "    </tr>\n",
       "    <tr>\n",
       "      <th>45613</th>\n",
       "      <td>FIUMICINO T. Lepre</td>\n",
       "      <td>TEMPARIA2M_MING</td>\n",
       "      <td>03/01/2019 00:00</td>\n",
       "      <td>-0,5</td>\n",
       "      <td>Dato esatto</td>\n",
       "    </tr>\n",
       "    <tr>\n",
       "      <th>45614</th>\n",
       "      <td>FIUMICINO T. Lepre</td>\n",
       "      <td>TEMPARIA2M_MING</td>\n",
       "      <td>04/01/2019 00:00</td>\n",
       "      <td>-1,1</td>\n",
       "      <td>Dato esatto</td>\n",
       "    </tr>\n",
       "    <tr>\n",
       "      <th>45615</th>\n",
       "      <td>FIUMICINO T. Lepre</td>\n",
       "      <td>TEMPARIA2M_MING</td>\n",
       "      <td>05/01/2019 00:00</td>\n",
       "      <td>-2,1</td>\n",
       "      <td>Dato esatto</td>\n",
       "    </tr>\n",
       "    <tr>\n",
       "      <th>...</th>\n",
       "      <td>...</td>\n",
       "      <td>...</td>\n",
       "      <td>...</td>\n",
       "      <td>...</td>\n",
       "      <td>...</td>\n",
       "    </tr>\n",
       "    <tr>\n",
       "      <th>3930</th>\n",
       "      <td>FIUMICINO T. Lepre</td>\n",
       "      <td>TEMPARIA2M_MAXG</td>\n",
       "      <td>27/01/2024 00:00</td>\n",
       "      <td>17,4</td>\n",
       "      <td>Dato esatto</td>\n",
       "    </tr>\n",
       "    <tr>\n",
       "      <th>3931</th>\n",
       "      <td>FIUMICINO T. Lepre</td>\n",
       "      <td>TEMPARIA2M_MAXG</td>\n",
       "      <td>28/01/2024 00:00</td>\n",
       "      <td>18,1</td>\n",
       "      <td>Dato esatto</td>\n",
       "    </tr>\n",
       "    <tr>\n",
       "      <th>3932</th>\n",
       "      <td>FIUMICINO T. Lepre</td>\n",
       "      <td>TEMPARIA2M_MAXG</td>\n",
       "      <td>29/01/2024 00:00</td>\n",
       "      <td>15,2</td>\n",
       "      <td>Dato esatto</td>\n",
       "    </tr>\n",
       "    <tr>\n",
       "      <th>3933</th>\n",
       "      <td>FIUMICINO T. Lepre</td>\n",
       "      <td>TEMPARIA2M_MAXG</td>\n",
       "      <td>30/01/2024 00:00</td>\n",
       "      <td>14,9</td>\n",
       "      <td>Dato esatto</td>\n",
       "    </tr>\n",
       "    <tr>\n",
       "      <th>3934</th>\n",
       "      <td>FIUMICINO T. Lepre</td>\n",
       "      <td>TEMPARIA2M_MAXG</td>\n",
       "      <td>31/01/2024 00:00</td>\n",
       "      <td>14,8</td>\n",
       "      <td>Dato esatto</td>\n",
       "    </tr>\n",
       "  </tbody>\n",
       "</table>\n",
       "<p>3686 rows × 5 columns</p>\n",
       "</div>"
      ],
      "text/plain": [
       "                 Stazione        Grandezza  Data rilevazione Valore  \\\n",
       "45611  FIUMICINO T. Lepre  TEMPARIA2M_MING  01/01/2019 00:00    3,1   \n",
       "45612  FIUMICINO T. Lepre  TEMPARIA2M_MING  02/01/2019 00:00    2,7   \n",
       "45613  FIUMICINO T. Lepre  TEMPARIA2M_MING  03/01/2019 00:00   -0,5   \n",
       "45614  FIUMICINO T. Lepre  TEMPARIA2M_MING  04/01/2019 00:00   -1,1   \n",
       "45615  FIUMICINO T. Lepre  TEMPARIA2M_MING  05/01/2019 00:00   -2,1   \n",
       "...                   ...              ...               ...    ...   \n",
       "3930   FIUMICINO T. Lepre  TEMPARIA2M_MAXG  27/01/2024 00:00   17,4   \n",
       "3931   FIUMICINO T. Lepre  TEMPARIA2M_MAXG  28/01/2024 00:00   18,1   \n",
       "3932   FIUMICINO T. Lepre  TEMPARIA2M_MAXG  29/01/2024 00:00   15,2   \n",
       "3933   FIUMICINO T. Lepre  TEMPARIA2M_MAXG  30/01/2024 00:00   14,9   \n",
       "3934   FIUMICINO T. Lepre  TEMPARIA2M_MAXG  31/01/2024 00:00   14,8   \n",
       "\n",
       "      Indice di validità  \n",
       "45611        Dato esatto  \n",
       "45612        Dato esatto  \n",
       "45613        Dato esatto  \n",
       "45614        Dato esatto  \n",
       "45615        Dato esatto  \n",
       "...                  ...  \n",
       "3930         Dato esatto  \n",
       "3931         Dato esatto  \n",
       "3932         Dato esatto  \n",
       "3933         Dato esatto  \n",
       "3934         Dato esatto  \n",
       "\n",
       "[3686 rows x 5 columns]"
      ]
     },
     "execution_count": 151,
     "metadata": {},
     "output_type": "execute_result"
    }
   ],
   "source": [
    "filter=(df[\"Grandezza\"]==\"TEMPARIA2M_MING\")|(df[\"Grandezza\"]==\"TEMPARIA2M_MAXG\")\n",
    "df=df[filter]\n",
    "df"
   ]
  },
  {
   "cell_type": "code",
   "execution_count": 152,
   "metadata": {},
   "outputs": [],
   "source": [
    "df[\"Valore\"]=df[\"Valore\"].str.replace(\",\",\".\")"
   ]
  },
  {
   "cell_type": "code",
   "execution_count": 153,
   "metadata": {},
   "outputs": [
    {
     "data": {
      "text/plain": [
       "'en_US.UTF-8'"
      ]
     },
     "execution_count": 153,
     "metadata": {},
     "output_type": "execute_result"
    }
   ],
   "source": [
    "import locale\n",
    "locale.setlocale(locale.LC_ALL,'en_US.UTF-8')"
   ]
  },
  {
   "cell_type": "code",
   "execution_count": 154,
   "metadata": {},
   "outputs": [],
   "source": [
    "df[\"Valore\"]=df[\"Valore\"].apply(locale.atof)"
   ]
  },
  {
   "cell_type": "code",
   "execution_count": 155,
   "metadata": {},
   "outputs": [
    {
     "data": {
      "text/html": [
       "<div>\n",
       "<style scoped>\n",
       "    .dataframe tbody tr th:only-of-type {\n",
       "        vertical-align: middle;\n",
       "    }\n",
       "\n",
       "    .dataframe tbody tr th {\n",
       "        vertical-align: top;\n",
       "    }\n",
       "\n",
       "    .dataframe thead th {\n",
       "        text-align: right;\n",
       "    }\n",
       "</style>\n",
       "<table border=\"1\" class=\"dataframe\">\n",
       "  <thead>\n",
       "    <tr style=\"text-align: right;\">\n",
       "      <th></th>\n",
       "      <th>Stazione</th>\n",
       "      <th>Grandezza</th>\n",
       "      <th>Data rilevazione</th>\n",
       "      <th>Valore</th>\n",
       "      <th>Indice di validità</th>\n",
       "    </tr>\n",
       "  </thead>\n",
       "  <tbody>\n",
       "    <tr>\n",
       "      <th>45611</th>\n",
       "      <td>FIUMICINO T. Lepre</td>\n",
       "      <td>TEMPARIA2M_MING</td>\n",
       "      <td>2019-01-01</td>\n",
       "      <td>3.1</td>\n",
       "      <td>Dato esatto</td>\n",
       "    </tr>\n",
       "    <tr>\n",
       "      <th>45612</th>\n",
       "      <td>FIUMICINO T. Lepre</td>\n",
       "      <td>TEMPARIA2M_MING</td>\n",
       "      <td>2019-01-02</td>\n",
       "      <td>2.7</td>\n",
       "      <td>Dato esatto</td>\n",
       "    </tr>\n",
       "    <tr>\n",
       "      <th>45613</th>\n",
       "      <td>FIUMICINO T. Lepre</td>\n",
       "      <td>TEMPARIA2M_MING</td>\n",
       "      <td>2019-01-03</td>\n",
       "      <td>-0.5</td>\n",
       "      <td>Dato esatto</td>\n",
       "    </tr>\n",
       "    <tr>\n",
       "      <th>45614</th>\n",
       "      <td>FIUMICINO T. Lepre</td>\n",
       "      <td>TEMPARIA2M_MING</td>\n",
       "      <td>2019-01-04</td>\n",
       "      <td>-1.1</td>\n",
       "      <td>Dato esatto</td>\n",
       "    </tr>\n",
       "    <tr>\n",
       "      <th>45615</th>\n",
       "      <td>FIUMICINO T. Lepre</td>\n",
       "      <td>TEMPARIA2M_MING</td>\n",
       "      <td>2019-01-05</td>\n",
       "      <td>-2.1</td>\n",
       "      <td>Dato esatto</td>\n",
       "    </tr>\n",
       "    <tr>\n",
       "      <th>...</th>\n",
       "      <td>...</td>\n",
       "      <td>...</td>\n",
       "      <td>...</td>\n",
       "      <td>...</td>\n",
       "      <td>...</td>\n",
       "    </tr>\n",
       "    <tr>\n",
       "      <th>3930</th>\n",
       "      <td>FIUMICINO T. Lepre</td>\n",
       "      <td>TEMPARIA2M_MAXG</td>\n",
       "      <td>2024-01-27</td>\n",
       "      <td>17.4</td>\n",
       "      <td>Dato esatto</td>\n",
       "    </tr>\n",
       "    <tr>\n",
       "      <th>3931</th>\n",
       "      <td>FIUMICINO T. Lepre</td>\n",
       "      <td>TEMPARIA2M_MAXG</td>\n",
       "      <td>2024-01-28</td>\n",
       "      <td>18.1</td>\n",
       "      <td>Dato esatto</td>\n",
       "    </tr>\n",
       "    <tr>\n",
       "      <th>3932</th>\n",
       "      <td>FIUMICINO T. Lepre</td>\n",
       "      <td>TEMPARIA2M_MAXG</td>\n",
       "      <td>2024-01-29</td>\n",
       "      <td>15.2</td>\n",
       "      <td>Dato esatto</td>\n",
       "    </tr>\n",
       "    <tr>\n",
       "      <th>3933</th>\n",
       "      <td>FIUMICINO T. Lepre</td>\n",
       "      <td>TEMPARIA2M_MAXG</td>\n",
       "      <td>2024-01-30</td>\n",
       "      <td>14.9</td>\n",
       "      <td>Dato esatto</td>\n",
       "    </tr>\n",
       "    <tr>\n",
       "      <th>3934</th>\n",
       "      <td>FIUMICINO T. Lepre</td>\n",
       "      <td>TEMPARIA2M_MAXG</td>\n",
       "      <td>2024-01-31</td>\n",
       "      <td>14.8</td>\n",
       "      <td>Dato esatto</td>\n",
       "    </tr>\n",
       "  </tbody>\n",
       "</table>\n",
       "<p>3686 rows × 5 columns</p>\n",
       "</div>"
      ],
      "text/plain": [
       "                 Stazione        Grandezza Data rilevazione  Valore  \\\n",
       "45611  FIUMICINO T. Lepre  TEMPARIA2M_MING       2019-01-01     3.1   \n",
       "45612  FIUMICINO T. Lepre  TEMPARIA2M_MING       2019-01-02     2.7   \n",
       "45613  FIUMICINO T. Lepre  TEMPARIA2M_MING       2019-01-03    -0.5   \n",
       "45614  FIUMICINO T. Lepre  TEMPARIA2M_MING       2019-01-04    -1.1   \n",
       "45615  FIUMICINO T. Lepre  TEMPARIA2M_MING       2019-01-05    -2.1   \n",
       "...                   ...              ...              ...     ...   \n",
       "3930   FIUMICINO T. Lepre  TEMPARIA2M_MAXG       2024-01-27    17.4   \n",
       "3931   FIUMICINO T. Lepre  TEMPARIA2M_MAXG       2024-01-28    18.1   \n",
       "3932   FIUMICINO T. Lepre  TEMPARIA2M_MAXG       2024-01-29    15.2   \n",
       "3933   FIUMICINO T. Lepre  TEMPARIA2M_MAXG       2024-01-30    14.9   \n",
       "3934   FIUMICINO T. Lepre  TEMPARIA2M_MAXG       2024-01-31    14.8   \n",
       "\n",
       "      Indice di validità  \n",
       "45611        Dato esatto  \n",
       "45612        Dato esatto  \n",
       "45613        Dato esatto  \n",
       "45614        Dato esatto  \n",
       "45615        Dato esatto  \n",
       "...                  ...  \n",
       "3930         Dato esatto  \n",
       "3931         Dato esatto  \n",
       "3932         Dato esatto  \n",
       "3933         Dato esatto  \n",
       "3934         Dato esatto  \n",
       "\n",
       "[3686 rows x 5 columns]"
      ]
     },
     "execution_count": 155,
     "metadata": {},
     "output_type": "execute_result"
    }
   ],
   "source": [
    "df[\"Data rilevazione\"]=pd.to_datetime(df[\"Data rilevazione\"], format=\"%d/%m/%Y %H:%M\")\n",
    "df"
   ]
  },
  {
   "cell_type": "code",
   "execution_count": 156,
   "metadata": {},
   "outputs": [
    {
     "data": {
      "text/html": [
       "<div>\n",
       "<style scoped>\n",
       "    .dataframe tbody tr th:only-of-type {\n",
       "        vertical-align: middle;\n",
       "    }\n",
       "\n",
       "    .dataframe tbody tr th {\n",
       "        vertical-align: top;\n",
       "    }\n",
       "\n",
       "    .dataframe thead th {\n",
       "        text-align: right;\n",
       "    }\n",
       "</style>\n",
       "<table border=\"1\" class=\"dataframe\">\n",
       "  <thead>\n",
       "    <tr style=\"text-align: right;\">\n",
       "      <th></th>\n",
       "      <th>Stazione</th>\n",
       "      <th>Grandezza</th>\n",
       "      <th>Data rilevazione</th>\n",
       "      <th>year-month</th>\n",
       "      <th>Valore</th>\n",
       "      <th>Indice di validità</th>\n",
       "    </tr>\n",
       "  </thead>\n",
       "  <tbody>\n",
       "    <tr>\n",
       "      <th>45611</th>\n",
       "      <td>FIUMICINO T. Lepre</td>\n",
       "      <td>TEMPARIA2M_MING</td>\n",
       "      <td>2019-01-01</td>\n",
       "      <td>2019-01</td>\n",
       "      <td>3.1</td>\n",
       "      <td>Dato esatto</td>\n",
       "    </tr>\n",
       "    <tr>\n",
       "      <th>45612</th>\n",
       "      <td>FIUMICINO T. Lepre</td>\n",
       "      <td>TEMPARIA2M_MING</td>\n",
       "      <td>2019-01-02</td>\n",
       "      <td>2019-01</td>\n",
       "      <td>2.7</td>\n",
       "      <td>Dato esatto</td>\n",
       "    </tr>\n",
       "    <tr>\n",
       "      <th>45613</th>\n",
       "      <td>FIUMICINO T. Lepre</td>\n",
       "      <td>TEMPARIA2M_MING</td>\n",
       "      <td>2019-01-03</td>\n",
       "      <td>2019-01</td>\n",
       "      <td>-0.5</td>\n",
       "      <td>Dato esatto</td>\n",
       "    </tr>\n",
       "    <tr>\n",
       "      <th>45614</th>\n",
       "      <td>FIUMICINO T. Lepre</td>\n",
       "      <td>TEMPARIA2M_MING</td>\n",
       "      <td>2019-01-04</td>\n",
       "      <td>2019-01</td>\n",
       "      <td>-1.1</td>\n",
       "      <td>Dato esatto</td>\n",
       "    </tr>\n",
       "    <tr>\n",
       "      <th>45615</th>\n",
       "      <td>FIUMICINO T. Lepre</td>\n",
       "      <td>TEMPARIA2M_MING</td>\n",
       "      <td>2019-01-05</td>\n",
       "      <td>2019-01</td>\n",
       "      <td>-2.1</td>\n",
       "      <td>Dato esatto</td>\n",
       "    </tr>\n",
       "    <tr>\n",
       "      <th>...</th>\n",
       "      <td>...</td>\n",
       "      <td>...</td>\n",
       "      <td>...</td>\n",
       "      <td>...</td>\n",
       "      <td>...</td>\n",
       "      <td>...</td>\n",
       "    </tr>\n",
       "    <tr>\n",
       "      <th>3930</th>\n",
       "      <td>FIUMICINO T. Lepre</td>\n",
       "      <td>TEMPARIA2M_MAXG</td>\n",
       "      <td>2024-01-27</td>\n",
       "      <td>2024-01</td>\n",
       "      <td>17.4</td>\n",
       "      <td>Dato esatto</td>\n",
       "    </tr>\n",
       "    <tr>\n",
       "      <th>3931</th>\n",
       "      <td>FIUMICINO T. Lepre</td>\n",
       "      <td>TEMPARIA2M_MAXG</td>\n",
       "      <td>2024-01-28</td>\n",
       "      <td>2024-01</td>\n",
       "      <td>18.1</td>\n",
       "      <td>Dato esatto</td>\n",
       "    </tr>\n",
       "    <tr>\n",
       "      <th>3932</th>\n",
       "      <td>FIUMICINO T. Lepre</td>\n",
       "      <td>TEMPARIA2M_MAXG</td>\n",
       "      <td>2024-01-29</td>\n",
       "      <td>2024-01</td>\n",
       "      <td>15.2</td>\n",
       "      <td>Dato esatto</td>\n",
       "    </tr>\n",
       "    <tr>\n",
       "      <th>3933</th>\n",
       "      <td>FIUMICINO T. Lepre</td>\n",
       "      <td>TEMPARIA2M_MAXG</td>\n",
       "      <td>2024-01-30</td>\n",
       "      <td>2024-01</td>\n",
       "      <td>14.9</td>\n",
       "      <td>Dato esatto</td>\n",
       "    </tr>\n",
       "    <tr>\n",
       "      <th>3934</th>\n",
       "      <td>FIUMICINO T. Lepre</td>\n",
       "      <td>TEMPARIA2M_MAXG</td>\n",
       "      <td>2024-01-31</td>\n",
       "      <td>2024-01</td>\n",
       "      <td>14.8</td>\n",
       "      <td>Dato esatto</td>\n",
       "    </tr>\n",
       "  </tbody>\n",
       "</table>\n",
       "<p>3686 rows × 6 columns</p>\n",
       "</div>"
      ],
      "text/plain": [
       "                 Stazione        Grandezza Data rilevazione year-month  \\\n",
       "45611  FIUMICINO T. Lepre  TEMPARIA2M_MING       2019-01-01    2019-01   \n",
       "45612  FIUMICINO T. Lepre  TEMPARIA2M_MING       2019-01-02    2019-01   \n",
       "45613  FIUMICINO T. Lepre  TEMPARIA2M_MING       2019-01-03    2019-01   \n",
       "45614  FIUMICINO T. Lepre  TEMPARIA2M_MING       2019-01-04    2019-01   \n",
       "45615  FIUMICINO T. Lepre  TEMPARIA2M_MING       2019-01-05    2019-01   \n",
       "...                   ...              ...              ...        ...   \n",
       "3930   FIUMICINO T. Lepre  TEMPARIA2M_MAXG       2024-01-27    2024-01   \n",
       "3931   FIUMICINO T. Lepre  TEMPARIA2M_MAXG       2024-01-28    2024-01   \n",
       "3932   FIUMICINO T. Lepre  TEMPARIA2M_MAXG       2024-01-29    2024-01   \n",
       "3933   FIUMICINO T. Lepre  TEMPARIA2M_MAXG       2024-01-30    2024-01   \n",
       "3934   FIUMICINO T. Lepre  TEMPARIA2M_MAXG       2024-01-31    2024-01   \n",
       "\n",
       "       Valore Indice di validità  \n",
       "45611     3.1        Dato esatto  \n",
       "45612     2.7        Dato esatto  \n",
       "45613    -0.5        Dato esatto  \n",
       "45614    -1.1        Dato esatto  \n",
       "45615    -2.1        Dato esatto  \n",
       "...       ...                ...  \n",
       "3930     17.4        Dato esatto  \n",
       "3931     18.1        Dato esatto  \n",
       "3932     15.2        Dato esatto  \n",
       "3933     14.9        Dato esatto  \n",
       "3934     14.8        Dato esatto  \n",
       "\n",
       "[3686 rows x 6 columns]"
      ]
     },
     "execution_count": 156,
     "metadata": {},
     "output_type": "execute_result"
    }
   ],
   "source": [
    "df.insert(3,\"year-month\",\"\")\n",
    "df[\"year-month\"]=df[\"Data rilevazione\"].dt.strftime('%Y-%m')\n",
    "df"
   ]
  },
  {
   "cell_type": "code",
   "execution_count": 157,
   "metadata": {},
   "outputs": [
    {
     "data": {
      "text/html": [
       "<div>\n",
       "<style scoped>\n",
       "    .dataframe tbody tr th:only-of-type {\n",
       "        vertical-align: middle;\n",
       "    }\n",
       "\n",
       "    .dataframe tbody tr th {\n",
       "        vertical-align: top;\n",
       "    }\n",
       "\n",
       "    .dataframe thead th {\n",
       "        text-align: right;\n",
       "    }\n",
       "</style>\n",
       "<table border=\"1\" class=\"dataframe\">\n",
       "  <thead>\n",
       "    <tr style=\"text-align: right;\">\n",
       "      <th></th>\n",
       "      <th>year-month</th>\n",
       "      <th>min</th>\n",
       "      <th>max</th>\n",
       "      <th>mean</th>\n",
       "    </tr>\n",
       "  </thead>\n",
       "  <tbody>\n",
       "    <tr>\n",
       "      <th>0</th>\n",
       "      <td>2019-01</td>\n",
       "      <td>-2.1</td>\n",
       "      <td>15.9</td>\n",
       "      <td>6.637097</td>\n",
       "    </tr>\n",
       "    <tr>\n",
       "      <th>1</th>\n",
       "      <td>2019-02</td>\n",
       "      <td>2.1</td>\n",
       "      <td>22.0</td>\n",
       "      <td>10.058929</td>\n",
       "    </tr>\n",
       "    <tr>\n",
       "      <th>2</th>\n",
       "      <td>2019-03</td>\n",
       "      <td>1.4</td>\n",
       "      <td>23.9</td>\n",
       "      <td>12.524194</td>\n",
       "    </tr>\n",
       "    <tr>\n",
       "      <th>3</th>\n",
       "      <td>2019-04</td>\n",
       "      <td>3.6</td>\n",
       "      <td>26.9</td>\n",
       "      <td>13.658333</td>\n",
       "    </tr>\n",
       "    <tr>\n",
       "      <th>4</th>\n",
       "      <td>2019-05</td>\n",
       "      <td>4.3</td>\n",
       "      <td>22.2</td>\n",
       "      <td>14.822581</td>\n",
       "    </tr>\n",
       "    <tr>\n",
       "      <th>...</th>\n",
       "      <td>...</td>\n",
       "      <td>...</td>\n",
       "      <td>...</td>\n",
       "      <td>...</td>\n",
       "    </tr>\n",
       "    <tr>\n",
       "      <th>56</th>\n",
       "      <td>2023-09</td>\n",
       "      <td>14.0</td>\n",
       "      <td>34.8</td>\n",
       "      <td>24.541667</td>\n",
       "    </tr>\n",
       "    <tr>\n",
       "      <th>57</th>\n",
       "      <td>2023-10</td>\n",
       "      <td>12.4</td>\n",
       "      <td>33.4</td>\n",
       "      <td>21.091935</td>\n",
       "    </tr>\n",
       "    <tr>\n",
       "      <th>58</th>\n",
       "      <td>2023-11</td>\n",
       "      <td>-0.8</td>\n",
       "      <td>22.8</td>\n",
       "      <td>13.968333</td>\n",
       "    </tr>\n",
       "    <tr>\n",
       "      <th>59</th>\n",
       "      <td>2023-12</td>\n",
       "      <td>0.9</td>\n",
       "      <td>19.7</td>\n",
       "      <td>11.361290</td>\n",
       "    </tr>\n",
       "    <tr>\n",
       "      <th>60</th>\n",
       "      <td>2024-01</td>\n",
       "      <td>0.7</td>\n",
       "      <td>18.9</td>\n",
       "      <td>10.646774</td>\n",
       "    </tr>\n",
       "  </tbody>\n",
       "</table>\n",
       "<p>61 rows × 4 columns</p>\n",
       "</div>"
      ],
      "text/plain": [
       "   year-month   min   max       mean\n",
       "0     2019-01  -2.1  15.9   6.637097\n",
       "1     2019-02   2.1  22.0  10.058929\n",
       "2     2019-03   1.4  23.9  12.524194\n",
       "3     2019-04   3.6  26.9  13.658333\n",
       "4     2019-05   4.3  22.2  14.822581\n",
       "..        ...   ...   ...        ...\n",
       "56    2023-09  14.0  34.8  24.541667\n",
       "57    2023-10  12.4  33.4  21.091935\n",
       "58    2023-11  -0.8  22.8  13.968333\n",
       "59    2023-12   0.9  19.7  11.361290\n",
       "60    2024-01   0.7  18.9  10.646774\n",
       "\n",
       "[61 rows x 4 columns]"
      ]
     },
     "execution_count": 157,
     "metadata": {},
     "output_type": "execute_result"
    }
   ],
   "source": [
    "df_roma=df.groupby([\"year-month\"],as_index=False)[\"Valore\"].agg([\"min\",\"max\",\"mean\"])\n",
    "df_roma"
   ]
  },
  {
   "cell_type": "markdown",
   "metadata": {},
   "source": [
    "### 3. Analyse Data"
   ]
  },
  {
   "cell_type": "code",
   "execution_count": 158,
   "metadata": {},
   "outputs": [],
   "source": [
    "roma=df_roma.copy()"
   ]
  },
  {
   "cell_type": "code",
   "execution_count": 159,
   "metadata": {},
   "outputs": [
    {
     "data": {
      "text/html": [
       "<div>\n",
       "<style scoped>\n",
       "    .dataframe tbody tr th:only-of-type {\n",
       "        vertical-align: middle;\n",
       "    }\n",
       "\n",
       "    .dataframe tbody tr th {\n",
       "        vertical-align: top;\n",
       "    }\n",
       "\n",
       "    .dataframe thead th {\n",
       "        text-align: right;\n",
       "    }\n",
       "</style>\n",
       "<table border=\"1\" class=\"dataframe\">\n",
       "  <thead>\n",
       "    <tr style=\"text-align: right;\">\n",
       "      <th></th>\n",
       "      <th>year-month</th>\n",
       "      <th>min</th>\n",
       "      <th>max</th>\n",
       "      <th>mean</th>\n",
       "    </tr>\n",
       "  </thead>\n",
       "  <tbody>\n",
       "    <tr>\n",
       "      <th>0</th>\n",
       "      <td>2019-01</td>\n",
       "      <td>-2.1</td>\n",
       "      <td>15.9</td>\n",
       "      <td>6.637097</td>\n",
       "    </tr>\n",
       "    <tr>\n",
       "      <th>1</th>\n",
       "      <td>2019-02</td>\n",
       "      <td>2.1</td>\n",
       "      <td>22.0</td>\n",
       "      <td>10.058929</td>\n",
       "    </tr>\n",
       "    <tr>\n",
       "      <th>2</th>\n",
       "      <td>2019-03</td>\n",
       "      <td>1.4</td>\n",
       "      <td>23.9</td>\n",
       "      <td>12.524194</td>\n",
       "    </tr>\n",
       "    <tr>\n",
       "      <th>3</th>\n",
       "      <td>2019-04</td>\n",
       "      <td>3.6</td>\n",
       "      <td>26.9</td>\n",
       "      <td>13.658333</td>\n",
       "    </tr>\n",
       "    <tr>\n",
       "      <th>4</th>\n",
       "      <td>2019-05</td>\n",
       "      <td>4.3</td>\n",
       "      <td>22.2</td>\n",
       "      <td>14.822581</td>\n",
       "    </tr>\n",
       "    <tr>\n",
       "      <th>...</th>\n",
       "      <td>...</td>\n",
       "      <td>...</td>\n",
       "      <td>...</td>\n",
       "      <td>...</td>\n",
       "    </tr>\n",
       "    <tr>\n",
       "      <th>56</th>\n",
       "      <td>2023-09</td>\n",
       "      <td>14.0</td>\n",
       "      <td>34.8</td>\n",
       "      <td>24.541667</td>\n",
       "    </tr>\n",
       "    <tr>\n",
       "      <th>57</th>\n",
       "      <td>2023-10</td>\n",
       "      <td>12.4</td>\n",
       "      <td>33.4</td>\n",
       "      <td>21.091935</td>\n",
       "    </tr>\n",
       "    <tr>\n",
       "      <th>58</th>\n",
       "      <td>2023-11</td>\n",
       "      <td>-0.8</td>\n",
       "      <td>22.8</td>\n",
       "      <td>13.968333</td>\n",
       "    </tr>\n",
       "    <tr>\n",
       "      <th>59</th>\n",
       "      <td>2023-12</td>\n",
       "      <td>0.9</td>\n",
       "      <td>19.7</td>\n",
       "      <td>11.361290</td>\n",
       "    </tr>\n",
       "    <tr>\n",
       "      <th>60</th>\n",
       "      <td>2024-01</td>\n",
       "      <td>0.7</td>\n",
       "      <td>18.9</td>\n",
       "      <td>10.646774</td>\n",
       "    </tr>\n",
       "  </tbody>\n",
       "</table>\n",
       "<p>61 rows × 4 columns</p>\n",
       "</div>"
      ],
      "text/plain": [
       "   year-month   min   max       mean\n",
       "0     2019-01  -2.1  15.9   6.637097\n",
       "1     2019-02   2.1  22.0  10.058929\n",
       "2     2019-03   1.4  23.9  12.524194\n",
       "3     2019-04   3.6  26.9  13.658333\n",
       "4     2019-05   4.3  22.2  14.822581\n",
       "..        ...   ...   ...        ...\n",
       "56    2023-09  14.0  34.8  24.541667\n",
       "57    2023-10  12.4  33.4  21.091935\n",
       "58    2023-11  -0.8  22.8  13.968333\n",
       "59    2023-12   0.9  19.7  11.361290\n",
       "60    2024-01   0.7  18.9  10.646774\n",
       "\n",
       "[61 rows x 4 columns]"
      ]
     },
     "execution_count": 159,
     "metadata": {},
     "output_type": "execute_result"
    }
   ],
   "source": [
    "roma"
   ]
  },
  {
   "cell_type": "code",
   "execution_count": 160,
   "metadata": {},
   "outputs": [
    {
     "data": {
      "text/plain": [
       "<Axes: >"
      ]
     },
     "execution_count": 160,
     "metadata": {},
     "output_type": "execute_result"
    },
    {
     "data": {
      "image/png": "[encoded data removed]",
      "text/plain": [
       "<Figure size 640x480 with 1 Axes>"
      ]
     },
     "metadata": {},
     "output_type": "display_data"
    }
   ],
   "source": [
    "roma[\"max\"].plot(kind=\"box\")"
   ]
  },
  {
   "cell_type": "markdown",
   "metadata": {},
   "source": [
    "No outliers found"
   ]
  },
  {
   "cell_type": "code",
   "execution_count": 161,
   "metadata": {},
   "outputs": [
    {
     "data": {
      "text/plain": [
       "<Axes: >"
      ]
     },
     "execution_count": 161,
     "metadata": {},
     "output_type": "execute_result"
    },
    {
     "data": {
      "image/png": "[encoded data removed]",
      "text/plain": [
       "<Figure size 640x480 with 1 Axes>"
      ]
     },
     "metadata": {},
     "output_type": "display_data"
    }
   ],
   "source": [
    "roma[\"min\"].plot(kind=\"box\")"
   ]
  },
  {
   "cell_type": "markdown",
   "metadata": {},
   "source": [
    "No outliers found"
   ]
  },
  {
   "cell_type": "code",
   "execution_count": 162,
   "metadata": {},
   "outputs": [
    {
     "data": {
      "image/png": "[encoded data removed]",
      "text/plain": [
       "<Figure size 1800x600 with 1 Axes>"
      ]
     },
     "metadata": {},
     "output_type": "display_data"
    }
   ],
   "source": [
    "plt.figure(figsize=(18,6))\n",
    "sns.pointplot(data=roma, x=\"year-month\", y=\"min\",label=\"Min\")\n",
    "sns.pointplot(data=roma, x=\"year-month\", y=\"max\",label=\"Max\",color=\"r\")\n",
    "plt.xticks(rotation=45)\n",
    "plt.ylabel(\"Temperature\")\n",
    "plt.xlabel(\"Date\")\n",
    "plt.title(\"Evolution of Temperature - Rome\")\n",
    "plt.grid()\n",
    "plt.show()"
   ]
  },
  {
   "cell_type": "code",
   "execution_count": 163,
   "metadata": {},
   "outputs": [
    {
     "data": {
      "image/png": "[encoded data removed]",
      "text/plain": [
       "<Figure size 1800x600 with 1 Axes>"
      ]
     },
     "metadata": {},
     "output_type": "display_data"
    }
   ],
   "source": [
    "plt.figure(figsize=(18,6))\n",
    "plt.bar(roma[\"year-month\"],roma[\"max\"],color=\"Red\")\n",
    "plt.bar(roma[\"year-month\"],roma[\"min\"],color=\"Blue\")\n",
    "plt.xticks(rotation = 90)\n",
    "plt.title('Evolution of Temperature - Rome')\n",
    "plt.ylabel('Temp')\n",
    "plt.legend(['Max', 'Min'])\n",
    "plt.show()"
   ]
  },
  {
   "cell_type": "code",
   "execution_count": 164,
   "metadata": {},
   "outputs": [
    {
     "data": {
      "image/png": "[encoded data removed]",
      "text/plain": [
       "<Figure size 1800x600 with 1 Axes>"
      ]
     },
     "metadata": {},
     "output_type": "display_data"
    }
   ],
   "source": [
    "plt.figure(figsize=(18,6))\n",
    "sns.pointplot(data=roma, x=\"year-month\", y=\"max\",label=\"max\",color=\"r\")\n",
    "plt.xticks(rotation=45)\n",
    "plt.ylabel(\"Temperature\")\n",
    "plt.xlabel(\"Date\")\n",
    "plt.title(\"Evolution of Max Temperature - Rome\")\n",
    "plt.grid()\n",
    "plt.show()"
   ]
  },
  {
   "cell_type": "code",
   "execution_count": 179,
   "metadata": {},
   "outputs": [
    {
     "data": {
      "application/vnd.plotly.v1+json": {
       "config": {
        "plotlyServerURL": "https://plot.ly"
       },
       "data": [
        {
         "hovertemplate": "<b>%{hovertext}</b><br><br>year-month=%{x}<br>max=%{marker.color}<extra></extra>",
         "hovertext": [
          15.9,
          22,
          23.9,
          26.9,
          22.2,
          38.7,
          36.8,
          37.7,
          33.8,
          27.5,
          21.4,
          18.2,
          16.9,
          19,
          20.3,
          22.9,
          30.2,
          34.7,
          38.3,
          38,
          35.6,
          25.2,
          21.9,
          17.4,
          17,
          20.5,
          23.6,
          25.2,
          29.3,
          36.1,
          36.6,
          39.9,
          33.2,
          29.7,
          25.2,
          19.5,
          16.2,
          22,
          24.4,
          25.6,
          34.9,
          40.4,
          38.9,
          38,
          34.3,
          28.3,
          26.5,
          19.5,
          17.8,
          17.5,
          23.5,
          23.1,
          30,
          35,
          40.3,
          39.6,
          34.8,
          33.4,
          22.8,
          19.7,
          18.9
         ],
         "legendgroup": "",
         "marker": {
          "color": [
           15.9,
           22,
           23.9,
           26.9,
           22.2,
           38.7,
           36.8,
           37.7,
           33.8,
           27.5,
           21.4,
           18.2,
           16.9,
           19,
           20.3,
           22.9,
           30.2,
           34.7,
           38.3,
           38,
           35.6,
           25.2,
           21.9,
           17.4,
           17,
           20.5,
           23.6,
           25.2,
           29.3,
           36.1,
           36.6,
           39.9,
           33.2,
           29.7,
           25.2,
           19.5,
           16.2,
           22,
           24.4,
           25.6,
           34.9,
           40.4,
           38.9,
           38,
           34.3,
           28.3,
           26.5,
           19.5,
           17.8,
           17.5,
           23.5,
           23.1,
           30,
           35,
           40.3,
           39.6,
           34.8,
           33.4,
           22.8,
           19.7,
           18.9
          ],
          "coloraxis": "coloraxis",
          "size": [
           15.9,
           22,
           23.9,
           26.9,
           22.2,
           38.7,
           36.8,
           37.7,
           33.8,
           27.5,
           21.4,
           18.2,
           16.9,
           19,
           20.3,
           22.9,
           30.2,
           34.7,
           38.3,
           38,
           35.6,
           25.2,
           21.9,
           17.4,
           17,
           20.5,
           23.6,
           25.2,
           29.3,
           36.1,
           36.6,
           39.9,
           33.2,
           29.7,
           25.2,
           19.5,
           16.2,
           22,
           24.4,
           25.6,
           34.9,
           40.4,
           38.9,
           38,
           34.3,
           28.3,
           26.5,
           19.5,
           17.8,
           17.5,
           23.5,
           23.1,
           30,
           35,
           40.3,
           39.6,
           34.8,
           33.4,
           22.8,
           19.7,
           18.9
          ],
          "sizemode": "area",
          "sizeref": 0.011222222222222222,
          "symbol": "circle"
         },
         "mode": "markers",
         "name": "",
         "orientation": "v",
         "showlegend": false,
         "type": "scatter",
         "x": [
          "2019-01",
          "2019-02",
          "2019-03",
          "2019-04",
          "2019-05",
          "2019-06",
          "2019-07",
          "2019-08",
          "2019-09",
          "2019-10",
          "2019-11",
          "2019-12",
          "2020-01",
          "2020-02",
          "2020-03",
          "2020-04",
          "2020-05",
          "2020-06",
          "2020-07",
          "2020-08",
          "2020-09",
          "2020-10",
          "2020-11",
          "2020-12",
          "2021-01",
          "2021-02",
          "2021-03",
          "2021-04",
          "2021-05",
          "2021-06",
          "2021-07",
          "2021-08",
          "2021-09",
          "2021-10",
          "2021-11",
          "2021-12",
          "2022-01",
          "2022-02",
          "2022-03",
          "2022-04",
          "2022-05",
          "2022-06",
          "2022-07",
          "2022-08",
          "2022-09",
          "2022-10",
          "2022-11",
          "2022-12",
          "2023-01",
          "2023-02",
          "2023-03",
          "2023-04",
          "2023-05",
          "2023-06",
          "2023-07",
          "2023-08",
          "2023-09",
          "2023-10",
          "2023-11",
          "2023-12",
          "2024-01"
         ],
         "xaxis": "x",
         "y": [
          15.9,
          22,
          23.9,
          26.9,
          22.2,
          38.7,
          36.8,
          37.7,
          33.8,
          27.5,
          21.4,
          18.2,
          16.9,
          19,
          20.3,
          22.9,
          30.2,
          34.7,
          38.3,
          38,
          35.6,
          25.2,
          21.9,
          17.4,
          17,
          20.5,
          23.6,
          25.2,
          29.3,
          36.1,
          36.6,
          39.9,
          33.2,
          29.7,
          25.2,
          19.5,
          16.2,
          22,
          24.4,
          25.6,
          34.9,
          40.4,
          38.9,
          38,
          34.3,
          28.3,
          26.5,
          19.5,
          17.8,
          17.5,
          23.5,
          23.1,
          30,
          35,
          40.3,
          39.6,
          34.8,
          33.4,
          22.8,
          19.7,
          18.9
         ],
         "yaxis": "y"
        }
       ],
       "layout": {
        "coloraxis": {
         "colorbar": {
          "title": {
           "text": "max"
          }
         },
         "colorscale": [
          [
           0,
           "#0d0887"
          ],
          [
           0.1111111111111111,
           "#46039f"
          ],
          [
           0.2222222222222222,
           "#7201a8"
          ],
          [
           0.3333333333333333,
           "#9c179e"
          ],
          [
           0.4444444444444444,
           "#bd3786"
          ],
          [
           0.5555555555555556,
           "#d8576b"
          ],
          [
           0.6666666666666666,
           "#ed7953"
          ],
          [
           0.7777777777777778,
           "#fb9f3a"
          ],
          [
           0.8888888888888888,
           "#fdca26"
          ],
          [
           1,
           "#f0f921"
          ]
         ]
        },
        "legend": {
         "itemsizing": "constant",
         "tracegroupgap": 0
        },
        "template": {
         "data": {
          "bar": [
           {
            "error_x": {
             "color": "#2a3f5f"
            },
            "error_y": {
             "color": "#2a3f5f"
            },
            "marker": {
             "line": {
              "color": "#E5ECF6",
              "width": 0.5
             },
             "pattern": {
              "fillmode": "overlay",
              "size": 10,
              "solidity": 0.2
             }
            },
            "type": "bar"
           }
          ],
          "barpolar": [
           {
            "marker": {
             "line": {
              "color": "#E5ECF6",
              "width": 0.5
             },
             "pattern": {
              "fillmode": "overlay",
              "size": 10,
              "solidity": 0.2
             }
            },
            "type": "barpolar"
           }
          ],
          "carpet": [
           {
            "aaxis": {
             "endlinecolor": "#2a3f5f",
             "gridcolor": "white",
             "linecolor": "white",
             "minorgridcolor": "white",
             "startlinecolor": "#2a3f5f"
            },
            "baxis": {
             "endlinecolor": "#2a3f5f",
             "gridcolor": "white",
             "linecolor": "white",
             "minorgridcolor": "white",
             "startlinecolor": "#2a3f5f"
            },
            "type": "carpet"
           }
          ],
          "choropleth": [
           {
            "colorbar": {
             "outlinewidth": 0,
             "ticks": ""
            },
            "type": "choropleth"
           }
          ],
          "contour": [
           {
            "colorbar": {
             "outlinewidth": 0,
             "ticks": ""
            },
            "colorscale": [
             [
              0,
              "#0d0887"
             ],
             [
              0.1111111111111111,
              "#46039f"
             ],
             [
              0.2222222222222222,
              "#7201a8"
             ],
             [
              0.3333333333333333,
              "#9c179e"
             ],
             [
              0.4444444444444444,
              "#bd3786"
             ],
             [
              0.5555555555555556,
              "#d8576b"
             ],
             [
              0.6666666666666666,
              "#ed7953"
             ],
             [
              0.7777777777777778,
              "#fb9f3a"
             ],
             [
              0.8888888888888888,
              "#fdca26"
             ],
             [
              1,
              "#f0f921"
             ]
            ],
            "type": "contour"
           }
          ],
          "contourcarpet": [
           {
            "colorbar": {
             "outlinewidth": 0,
             "ticks": ""
            },
            "type": "contourcarpet"
           }
          ],
          "heatmap": [
           {
            "colorbar": {
             "outlinewidth": 0,
             "ticks": ""
            },
            "colorscale": [
             [
              0,
              "#0d0887"
             ],
             [
              0.1111111111111111,
              "#46039f"
             ],
             [
              0.2222222222222222,
              "#7201a8"
             ],
             [
              0.3333333333333333,
              "#9c179e"
             ],
             [
              0.4444444444444444,
              "#bd3786"
             ],
             [
              0.5555555555555556,
              "#d8576b"
             ],
             [
              0.6666666666666666,
              "#ed7953"
             ],
             [
              0.7777777777777778,
              "#fb9f3a"
             ],
             [
              0.8888888888888888,
              "#fdca26"
             ],
             [
              1,
              "#f0f921"
             ]
            ],
            "type": "heatmap"
           }
          ],
          "heatmapgl": [
           {
            "colorbar": {
             "outlinewidth": 0,
             "ticks": ""
            },
            "colorscale": [
             [
              0,
              "#0d0887"
             ],
             [
              0.1111111111111111,
              "#46039f"
             ],
             [
              0.2222222222222222,
              "#7201a8"
             ],
             [
              0.3333333333333333,
              "#9c179e"
             ],
             [
              0.4444444444444444,
              "#bd3786"
             ],
             [
              0.5555555555555556,
              "#d8576b"
             ],
             [
              0.6666666666666666,
              "#ed7953"
             ],
             [
              0.7777777777777778,
              "#fb9f3a"
             ],
             [
              0.8888888888888888,
              "#fdca26"
             ],
             [
              1,
              "#f0f921"
             ]
            ],
            "type": "heatmapgl"
           }
          ],
          "histogram": [
           {
            "marker": {
             "pattern": {
              "fillmode": "overlay",
              "size": 10,
              "solidity": 0.2
             }
            },
            "type": "histogram"
           }
          ],
          "histogram2d": [
           {
            "colorbar": {
             "outlinewidth": 0,
             "ticks": ""
            },
            "colorscale": [
             [
              0,
              "#0d0887"
             ],
             [
              0.1111111111111111,
              "#46039f"
             ],
             [
              0.2222222222222222,
              "#7201a8"
             ],
             [
              0.3333333333333333,
              "#9c179e"
             ],
             [
              0.4444444444444444,
              "#bd3786"
             ],
             [
              0.5555555555555556,
              "#d8576b"
             ],
             [
              0.6666666666666666,
              "#ed7953"
             ],
             [
              0.7777777777777778,
              "#fb9f3a"
             ],
             [
              0.8888888888888888,
              "#fdca26"
             ],
             [
              1,
              "#f0f921"
             ]
            ],
            "type": "histogram2d"
           }
          ],
          "histogram2dcontour": [
           {
            "colorbar": {
             "outlinewidth": 0,
             "ticks": ""
            },
            "colorscale": [
             [
              0,
              "#0d0887"
             ],
             [
              0.1111111111111111,
              "#46039f"
             ],
             [
              0.2222222222222222,
              "#7201a8"
             ],
             [
              0.3333333333333333,
              "#9c179e"
             ],
             [
              0.4444444444444444,
              "#bd3786"
             ],
             [
              0.5555555555555556,
              "#d8576b"
             ],
             [
              0.6666666666666666,
              "#ed7953"
             ],
             [
              0.7777777777777778,
              "#fb9f3a"
             ],
             [
              0.8888888888888888,
              "#fdca26"
             ],
             [
              1,
              "#f0f921"
             ]
            ],
            "type": "histogram2dcontour"
           }
          ],
          "mesh3d": [
           {
            "colorbar": {
             "outlinewidth": 0,
             "ticks": ""
            },
            "type": "mesh3d"
           }
          ],
          "parcoords": [
           {
            "line": {
             "colorbar": {
              "outlinewidth": 0,
              "ticks": ""
             }
            },
            "type": "parcoords"
           }
          ],
          "pie": [
           {
            "automargin": true,
            "type": "pie"
           }
          ],
          "scatter": [
           {
            "fillpattern": {
             "fillmode": "overlay",
             "size": 10,
             "solidity": 0.2
            },
            "type": "scatter"
           }
          ],
          "scatter3d": [
           {
            "line": {
             "colorbar": {
              "outlinewidth": 0,
              "ticks": ""
             }
            },
            "marker": {
             "colorbar": {
              "outlinewidth": 0,
              "ticks": ""
             }
            },
            "type": "scatter3d"
           }
          ],
          "scattercarpet": [
           {
            "marker": {
             "colorbar": {
              "outlinewidth": 0,
              "ticks": ""
             }
            },
            "type": "scattercarpet"
           }
          ],
          "scattergeo": [
           {
            "marker": {
             "colorbar": {
              "outlinewidth": 0,
              "ticks": ""
             }
            },
            "type": "scattergeo"
           }
          ],
          "scattergl": [
           {
            "marker": {
             "colorbar": {
              "outlinewidth": 0,
              "ticks": ""
             }
            },
            "type": "scattergl"
           }
          ],
          "scattermapbox": [
           {
            "marker": {
             "colorbar": {
              "outlinewidth": 0,
              "ticks": ""
             }
            },
            "type": "scattermapbox"
           }
          ],
          "scatterpolar": [
           {
            "marker": {
             "colorbar": {
              "outlinewidth": 0,
              "ticks": ""
             }
            },
            "type": "scatterpolar"
           }
          ],
          "scatterpolargl": [
           {
            "marker": {
             "colorbar": {
              "outlinewidth": 0,
              "ticks": ""
             }
            },
            "type": "scatterpolargl"
           }
          ],
          "scatterternary": [
           {
            "marker": {
             "colorbar": {
              "outlinewidth": 0,
              "ticks": ""
             }
            },
            "type": "scatterternary"
           }
          ],
          "surface": [
           {
            "colorbar": {
             "outlinewidth": 0,
             "ticks": ""
            },
            "colorscale": [
             [
              0,
              "#0d0887"
             ],
             [
              0.1111111111111111,
              "#46039f"
             ],
             [
              0.2222222222222222,
              "#7201a8"
             ],
             [
              0.3333333333333333,
              "#9c179e"
             ],
             [
              0.4444444444444444,
              "#bd3786"
             ],
             [
              0.5555555555555556,
              "#d8576b"
             ],
             [
              0.6666666666666666,
              "#ed7953"
             ],
             [
              0.7777777777777778,
              "#fb9f3a"
             ],
             [
              0.8888888888888888,
              "#fdca26"
             ],
             [
              1,
              "#f0f921"
             ]
            ],
            "type": "surface"
           }
          ],
          "table": [
           {
            "cells": {
             "fill": {
              "color": "#EBF0F8"
             },
             "line": {
              "color": "white"
             }
            },
            "header": {
             "fill": {
              "color": "#C8D4E3"
             },
             "line": {
              "color": "white"
             }
            },
            "type": "table"
           }
          ]
         },
         "layout": {
          "annotationdefaults": {
           "arrowcolor": "#2a3f5f",
           "arrowhead": 0,
           "arrowwidth": 1
          },
          "autotypenumbers": "strict",
          "coloraxis": {
           "colorbar": {
            "outlinewidth": 0,
            "ticks": ""
           }
          },
          "colorscale": {
           "diverging": [
            [
             0,
             "#8e0152"
            ],
            [
             0.1,
             "#c51b7d"
            ],
            [
             0.2,
             "#de77ae"
            ],
            [
             0.3,
             "#f1b6da"
            ],
            [
             0.4,
             "#fde0ef"
            ],
            [
             0.5,
             "#f7f7f7"
            ],
            [
             0.6,
             "#e6f5d0"
            ],
            [
             0.7,
             "#b8e186"
            ],
            [
             0.8,
             "#7fbc41"
            ],
            [
             0.9,
             "#4d9221"
            ],
            [
             1,
             "#276419"
            ]
           ],
           "sequential": [
            [
             0,
             "#0d0887"
            ],
            [
             0.1111111111111111,
             "#46039f"
            ],
            [
             0.2222222222222222,
             "#7201a8"
            ],
            [
             0.3333333333333333,
             "#9c179e"
            ],
            [
             0.4444444444444444,
             "#bd3786"
            ],
            [
             0.5555555555555556,
             "#d8576b"
            ],
            [
             0.6666666666666666,
             "#ed7953"
            ],
            [
             0.7777777777777778,
             "#fb9f3a"
            ],
            [
             0.8888888888888888,
             "#fdca26"
            ],
            [
             1,
             "#f0f921"
            ]
           ],
           "sequentialminus": [
            [
             0,
             "#0d0887"
            ],
            [
             0.1111111111111111,
             "#46039f"
            ],
            [
             0.2222222222222222,
             "#7201a8"
            ],
            [
             0.3333333333333333,
             "#9c179e"
            ],
            [
             0.4444444444444444,
             "#bd3786"
            ],
            [
             0.5555555555555556,
             "#d8576b"
            ],
            [
             0.6666666666666666,
             "#ed7953"
            ],
            [
             0.7777777777777778,
             "#fb9f3a"
            ],
            [
             0.8888888888888888,
             "#fdca26"
            ],
            [
             1,
             "#f0f921"
            ]
           ]
          },
          "colorway": [
           "#636efa",
           "#EF553B",
           "#00cc96",
           "#ab63fa",
           "#FFA15A",
           "#19d3f3",
           "#FF6692",
           "#B6E880",
           "#FF97FF",
           "#FECB52"
          ],
          "font": {
           "color": "#2a3f5f"
          },
          "geo": {
           "bgcolor": "white",
           "lakecolor": "white",
           "landcolor": "#E5ECF6",
           "showlakes": true,
           "showland": true,
           "subunitcolor": "white"
          },
          "hoverlabel": {
           "align": "left"
          },
          "hovermode": "closest",
          "mapbox": {
           "style": "light"
          },
          "paper_bgcolor": "white",
          "plot_bgcolor": "#E5ECF6",
          "polar": {
           "angularaxis": {
            "gridcolor": "white",
            "linecolor": "white",
            "ticks": ""
           },
           "bgcolor": "#E5ECF6",
           "radialaxis": {
            "gridcolor": "white",
            "linecolor": "white",
            "ticks": ""
           }
          },
          "scene": {
           "xaxis": {
            "backgroundcolor": "#E5ECF6",
            "gridcolor": "white",
            "gridwidth": 2,
            "linecolor": "white",
            "showbackground": true,
            "ticks": "",
            "zerolinecolor": "white"
           },
           "yaxis": {
            "backgroundcolor": "#E5ECF6",
            "gridcolor": "white",
            "gridwidth": 2,
            "linecolor": "white",
            "showbackground": true,
            "ticks": "",
            "zerolinecolor": "white"
           },
           "zaxis": {
            "backgroundcolor": "#E5ECF6",
            "gridcolor": "white",
            "gridwidth": 2,
            "linecolor": "white",
            "showbackground": true,
            "ticks": "",
            "zerolinecolor": "white"
           }
          },
          "shapedefaults": {
           "line": {
            "color": "#2a3f5f"
           }
          },
          "ternary": {
           "aaxis": {
            "gridcolor": "white",
            "linecolor": "white",
            "ticks": ""
           },
           "baxis": {
            "gridcolor": "white",
            "linecolor": "white",
            "ticks": ""
           },
           "bgcolor": "#E5ECF6",
           "caxis": {
            "gridcolor": "white",
            "linecolor": "white",
            "ticks": ""
           }
          },
          "title": {
           "x": 0.05
          },
          "xaxis": {
           "automargin": true,
           "gridcolor": "white",
           "linecolor": "white",
           "ticks": "",
           "title": {
            "standoff": 15
           },
           "zerolinecolor": "white",
           "zerolinewidth": 2
          },
          "yaxis": {
           "automargin": true,
           "gridcolor": "white",
           "linecolor": "white",
           "ticks": "",
           "title": {
            "standoff": 15
           },
           "zerolinecolor": "white",
           "zerolinewidth": 2
          }
         }
        },
        "title": {
         "text": "Rome Temperature 2023"
        },
        "xaxis": {
         "anchor": "y",
         "domain": [
          0,
          1
         ],
         "title": {
          "text": ""
         }
        },
        "yaxis": {
         "anchor": "x",
         "domain": [
          0,
          1
         ],
         "title": {
          "text": "Temperature"
         }
        }
       }
      }
     },
     "metadata": {},
     "output_type": "display_data"
    }
   ],
   "source": [
    "fig = px.scatter(roma, x=\"year-month\", y=\"max\", size=\"max\", hover_name=\"max\", title='Rome Temperature 2023', size_max=60, color='max')\n",
    "fig.update_xaxes(title_text='')\n",
    "fig.update_yaxes(title_text='Temperature')\n",
    "fig.show()"
   ]
  },
  {
   "cell_type": "code",
   "execution_count": 166,
   "metadata": {},
   "outputs": [
    {
     "data": {
      "image/png": "[encoded data removed]",
      "text/plain": [
       "<Figure size 1800x600 with 1 Axes>"
      ]
     },
     "metadata": {},
     "output_type": "display_data"
    }
   ],
   "source": [
    "plt.figure(figsize=(18,6))\n",
    "sns.pointplot(data=roma, x=\"year-month\", y=\"min\",label=\"Min\")\n",
    "plt.xticks(rotation=45)\n",
    "plt.ylabel(\"Temperature\")\n",
    "plt.xlabel(\"Date\")\n",
    "plt.title(\"Evolution of Min Temperature - Rome\")\n",
    "plt.grid()\n",
    "plt.show()"
   ]
  },
  {
   "cell_type": "code",
   "execution_count": 167,
   "metadata": {},
   "outputs": [],
   "source": [
    "#roma.to_csv(\"Roma\",index=False)"
   ]
  },
  {
   "cell_type": "markdown",
   "metadata": {},
   "source": [
    "## What happened in 2023?"
   ]
  },
  {
   "cell_type": "code",
   "execution_count": 168,
   "metadata": {},
   "outputs": [
    {
     "data": {
      "text/html": [
       "<div>\n",
       "<style scoped>\n",
       "    .dataframe tbody tr th:only-of-type {\n",
       "        vertical-align: middle;\n",
       "    }\n",
       "\n",
       "    .dataframe tbody tr th {\n",
       "        vertical-align: top;\n",
       "    }\n",
       "\n",
       "    .dataframe thead th {\n",
       "        text-align: right;\n",
       "    }\n",
       "</style>\n",
       "<table border=\"1\" class=\"dataframe\">\n",
       "  <thead>\n",
       "    <tr style=\"text-align: right;\">\n",
       "      <th></th>\n",
       "      <th>Stazione</th>\n",
       "      <th>Grandezza</th>\n",
       "      <th>Data rilevazione</th>\n",
       "      <th>year-month</th>\n",
       "      <th>Valore</th>\n",
       "      <th>Indice di validità</th>\n",
       "    </tr>\n",
       "  </thead>\n",
       "  <tbody>\n",
       "    <tr>\n",
       "      <th>45611</th>\n",
       "      <td>FIUMICINO T. Lepre</td>\n",
       "      <td>TEMPARIA2M_MING</td>\n",
       "      <td>2019-01-01</td>\n",
       "      <td>2019-01</td>\n",
       "      <td>3.1</td>\n",
       "      <td>Dato esatto</td>\n",
       "    </tr>\n",
       "    <tr>\n",
       "      <th>45612</th>\n",
       "      <td>FIUMICINO T. Lepre</td>\n",
       "      <td>TEMPARIA2M_MING</td>\n",
       "      <td>2019-01-02</td>\n",
       "      <td>2019-01</td>\n",
       "      <td>2.7</td>\n",
       "      <td>Dato esatto</td>\n",
       "    </tr>\n",
       "    <tr>\n",
       "      <th>45613</th>\n",
       "      <td>FIUMICINO T. Lepre</td>\n",
       "      <td>TEMPARIA2M_MING</td>\n",
       "      <td>2019-01-03</td>\n",
       "      <td>2019-01</td>\n",
       "      <td>-0.5</td>\n",
       "      <td>Dato esatto</td>\n",
       "    </tr>\n",
       "    <tr>\n",
       "      <th>45614</th>\n",
       "      <td>FIUMICINO T. Lepre</td>\n",
       "      <td>TEMPARIA2M_MING</td>\n",
       "      <td>2019-01-04</td>\n",
       "      <td>2019-01</td>\n",
       "      <td>-1.1</td>\n",
       "      <td>Dato esatto</td>\n",
       "    </tr>\n",
       "    <tr>\n",
       "      <th>45615</th>\n",
       "      <td>FIUMICINO T. Lepre</td>\n",
       "      <td>TEMPARIA2M_MING</td>\n",
       "      <td>2019-01-05</td>\n",
       "      <td>2019-01</td>\n",
       "      <td>-2.1</td>\n",
       "      <td>Dato esatto</td>\n",
       "    </tr>\n",
       "    <tr>\n",
       "      <th>...</th>\n",
       "      <td>...</td>\n",
       "      <td>...</td>\n",
       "      <td>...</td>\n",
       "      <td>...</td>\n",
       "      <td>...</td>\n",
       "      <td>...</td>\n",
       "    </tr>\n",
       "    <tr>\n",
       "      <th>3930</th>\n",
       "      <td>FIUMICINO T. Lepre</td>\n",
       "      <td>TEMPARIA2M_MAXG</td>\n",
       "      <td>2024-01-27</td>\n",
       "      <td>2024-01</td>\n",
       "      <td>17.4</td>\n",
       "      <td>Dato esatto</td>\n",
       "    </tr>\n",
       "    <tr>\n",
       "      <th>3931</th>\n",
       "      <td>FIUMICINO T. Lepre</td>\n",
       "      <td>TEMPARIA2M_MAXG</td>\n",
       "      <td>2024-01-28</td>\n",
       "      <td>2024-01</td>\n",
       "      <td>18.1</td>\n",
       "      <td>Dato esatto</td>\n",
       "    </tr>\n",
       "    <tr>\n",
       "      <th>3932</th>\n",
       "      <td>FIUMICINO T. Lepre</td>\n",
       "      <td>TEMPARIA2M_MAXG</td>\n",
       "      <td>2024-01-29</td>\n",
       "      <td>2024-01</td>\n",
       "      <td>15.2</td>\n",
       "      <td>Dato esatto</td>\n",
       "    </tr>\n",
       "    <tr>\n",
       "      <th>3933</th>\n",
       "      <td>FIUMICINO T. Lepre</td>\n",
       "      <td>TEMPARIA2M_MAXG</td>\n",
       "      <td>2024-01-30</td>\n",
       "      <td>2024-01</td>\n",
       "      <td>14.9</td>\n",
       "      <td>Dato esatto</td>\n",
       "    </tr>\n",
       "    <tr>\n",
       "      <th>3934</th>\n",
       "      <td>FIUMICINO T. Lepre</td>\n",
       "      <td>TEMPARIA2M_MAXG</td>\n",
       "      <td>2024-01-31</td>\n",
       "      <td>2024-01</td>\n",
       "      <td>14.8</td>\n",
       "      <td>Dato esatto</td>\n",
       "    </tr>\n",
       "  </tbody>\n",
       "</table>\n",
       "<p>3686 rows × 6 columns</p>\n",
       "</div>"
      ],
      "text/plain": [
       "                 Stazione        Grandezza Data rilevazione year-month  \\\n",
       "45611  FIUMICINO T. Lepre  TEMPARIA2M_MING       2019-01-01    2019-01   \n",
       "45612  FIUMICINO T. Lepre  TEMPARIA2M_MING       2019-01-02    2019-01   \n",
       "45613  FIUMICINO T. Lepre  TEMPARIA2M_MING       2019-01-03    2019-01   \n",
       "45614  FIUMICINO T. Lepre  TEMPARIA2M_MING       2019-01-04    2019-01   \n",
       "45615  FIUMICINO T. Lepre  TEMPARIA2M_MING       2019-01-05    2019-01   \n",
       "...                   ...              ...              ...        ...   \n",
       "3930   FIUMICINO T. Lepre  TEMPARIA2M_MAXG       2024-01-27    2024-01   \n",
       "3931   FIUMICINO T. Lepre  TEMPARIA2M_MAXG       2024-01-28    2024-01   \n",
       "3932   FIUMICINO T. Lepre  TEMPARIA2M_MAXG       2024-01-29    2024-01   \n",
       "3933   FIUMICINO T. Lepre  TEMPARIA2M_MAXG       2024-01-30    2024-01   \n",
       "3934   FIUMICINO T. Lepre  TEMPARIA2M_MAXG       2024-01-31    2024-01   \n",
       "\n",
       "       Valore Indice di validità  \n",
       "45611     3.1        Dato esatto  \n",
       "45612     2.7        Dato esatto  \n",
       "45613    -0.5        Dato esatto  \n",
       "45614    -1.1        Dato esatto  \n",
       "45615    -2.1        Dato esatto  \n",
       "...       ...                ...  \n",
       "3930     17.4        Dato esatto  \n",
       "3931     18.1        Dato esatto  \n",
       "3932     15.2        Dato esatto  \n",
       "3933     14.9        Dato esatto  \n",
       "3934     14.8        Dato esatto  \n",
       "\n",
       "[3686 rows x 6 columns]"
      ]
     },
     "execution_count": 168,
     "metadata": {},
     "output_type": "execute_result"
    }
   ],
   "source": [
    "df"
   ]
  },
  {
   "cell_type": "code",
   "execution_count": 169,
   "metadata": {},
   "outputs": [
    {
     "data": {
      "text/html": [
       "<div>\n",
       "<style scoped>\n",
       "    .dataframe tbody tr th:only-of-type {\n",
       "        vertical-align: middle;\n",
       "    }\n",
       "\n",
       "    .dataframe tbody tr th {\n",
       "        vertical-align: top;\n",
       "    }\n",
       "\n",
       "    .dataframe thead th {\n",
       "        text-align: right;\n",
       "    }\n",
       "</style>\n",
       "<table border=\"1\" class=\"dataframe\">\n",
       "  <thead>\n",
       "    <tr style=\"text-align: right;\">\n",
       "      <th></th>\n",
       "      <th>Stazione</th>\n",
       "      <th>Grandezza</th>\n",
       "      <th>Data rilevazione</th>\n",
       "      <th>year-month</th>\n",
       "      <th>Valore</th>\n",
       "      <th>Indice di validità</th>\n",
       "    </tr>\n",
       "  </thead>\n",
       "  <tbody>\n",
       "    <tr>\n",
       "      <th>45557</th>\n",
       "      <td>FIUMICINO T. Lepre</td>\n",
       "      <td>TEMPARIA2M_MING</td>\n",
       "      <td>2023-01-01</td>\n",
       "      <td>2023-01</td>\n",
       "      <td>7.8</td>\n",
       "      <td>Dato esatto</td>\n",
       "    </tr>\n",
       "    <tr>\n",
       "      <th>45558</th>\n",
       "      <td>FIUMICINO T. Lepre</td>\n",
       "      <td>TEMPARIA2M_MING</td>\n",
       "      <td>2023-01-02</td>\n",
       "      <td>2023-01</td>\n",
       "      <td>9.5</td>\n",
       "      <td>Dato esatto</td>\n",
       "    </tr>\n",
       "    <tr>\n",
       "      <th>45559</th>\n",
       "      <td>FIUMICINO T. Lepre</td>\n",
       "      <td>TEMPARIA2M_MING</td>\n",
       "      <td>2023-01-03</td>\n",
       "      <td>2023-01</td>\n",
       "      <td>10.1</td>\n",
       "      <td>Dato esatto</td>\n",
       "    </tr>\n",
       "    <tr>\n",
       "      <th>45560</th>\n",
       "      <td>FIUMICINO T. Lepre</td>\n",
       "      <td>TEMPARIA2M_MING</td>\n",
       "      <td>2023-01-04</td>\n",
       "      <td>2023-01</td>\n",
       "      <td>7.7</td>\n",
       "      <td>Dato esatto</td>\n",
       "    </tr>\n",
       "    <tr>\n",
       "      <th>45561</th>\n",
       "      <td>FIUMICINO T. Lepre</td>\n",
       "      <td>TEMPARIA2M_MING</td>\n",
       "      <td>2023-01-05</td>\n",
       "      <td>2023-01</td>\n",
       "      <td>5.1</td>\n",
       "      <td>Dato esatto</td>\n",
       "    </tr>\n",
       "    <tr>\n",
       "      <th>...</th>\n",
       "      <td>...</td>\n",
       "      <td>...</td>\n",
       "      <td>...</td>\n",
       "      <td>...</td>\n",
       "      <td>...</td>\n",
       "      <td>...</td>\n",
       "    </tr>\n",
       "    <tr>\n",
       "      <th>46282</th>\n",
       "      <td>FIUMICINO T. Lepre</td>\n",
       "      <td>TEMPARIA2M_MAXG</td>\n",
       "      <td>2023-12-27</td>\n",
       "      <td>2023-12</td>\n",
       "      <td>16.1</td>\n",
       "      <td>Dato esatto</td>\n",
       "    </tr>\n",
       "    <tr>\n",
       "      <th>46283</th>\n",
       "      <td>FIUMICINO T. Lepre</td>\n",
       "      <td>TEMPARIA2M_MAXG</td>\n",
       "      <td>2023-12-28</td>\n",
       "      <td>2023-12</td>\n",
       "      <td>11.8</td>\n",
       "      <td>Dato esatto</td>\n",
       "    </tr>\n",
       "    <tr>\n",
       "      <th>46284</th>\n",
       "      <td>FIUMICINO T. Lepre</td>\n",
       "      <td>TEMPARIA2M_MAXG</td>\n",
       "      <td>2023-12-29</td>\n",
       "      <td>2023-12</td>\n",
       "      <td>15.1</td>\n",
       "      <td>Dato esatto</td>\n",
       "    </tr>\n",
       "    <tr>\n",
       "      <th>46285</th>\n",
       "      <td>FIUMICINO T. Lepre</td>\n",
       "      <td>TEMPARIA2M_MAXG</td>\n",
       "      <td>2023-12-30</td>\n",
       "      <td>2023-12</td>\n",
       "      <td>17.4</td>\n",
       "      <td>Dato esatto</td>\n",
       "    </tr>\n",
       "    <tr>\n",
       "      <th>46286</th>\n",
       "      <td>FIUMICINO T. Lepre</td>\n",
       "      <td>TEMPARIA2M_MAXG</td>\n",
       "      <td>2023-12-31</td>\n",
       "      <td>2023-12</td>\n",
       "      <td>15.2</td>\n",
       "      <td>Dato esatto</td>\n",
       "    </tr>\n",
       "  </tbody>\n",
       "</table>\n",
       "<p>730 rows × 6 columns</p>\n",
       "</div>"
      ],
      "text/plain": [
       "                 Stazione        Grandezza Data rilevazione year-month  \\\n",
       "45557  FIUMICINO T. Lepre  TEMPARIA2M_MING       2023-01-01    2023-01   \n",
       "45558  FIUMICINO T. Lepre  TEMPARIA2M_MING       2023-01-02    2023-01   \n",
       "45559  FIUMICINO T. Lepre  TEMPARIA2M_MING       2023-01-03    2023-01   \n",
       "45560  FIUMICINO T. Lepre  TEMPARIA2M_MING       2023-01-04    2023-01   \n",
       "45561  FIUMICINO T. Lepre  TEMPARIA2M_MING       2023-01-05    2023-01   \n",
       "...                   ...              ...              ...        ...   \n",
       "46282  FIUMICINO T. Lepre  TEMPARIA2M_MAXG       2023-12-27    2023-12   \n",
       "46283  FIUMICINO T. Lepre  TEMPARIA2M_MAXG       2023-12-28    2023-12   \n",
       "46284  FIUMICINO T. Lepre  TEMPARIA2M_MAXG       2023-12-29    2023-12   \n",
       "46285  FIUMICINO T. Lepre  TEMPARIA2M_MAXG       2023-12-30    2023-12   \n",
       "46286  FIUMICINO T. Lepre  TEMPARIA2M_MAXG       2023-12-31    2023-12   \n",
       "\n",
       "       Valore Indice di validità  \n",
       "45557     7.8        Dato esatto  \n",
       "45558     9.5        Dato esatto  \n",
       "45559    10.1        Dato esatto  \n",
       "45560     7.7        Dato esatto  \n",
       "45561     5.1        Dato esatto  \n",
       "...       ...                ...  \n",
       "46282    16.1        Dato esatto  \n",
       "46283    11.8        Dato esatto  \n",
       "46284    15.1        Dato esatto  \n",
       "46285    17.4        Dato esatto  \n",
       "46286    15.2        Dato esatto  \n",
       "\n",
       "[730 rows x 6 columns]"
      ]
     },
     "execution_count": 169,
     "metadata": {},
     "output_type": "execute_result"
    }
   ],
   "source": [
    "filter=df[\"Data rilevazione\"].dt.year.isin([2023])\n",
    "roma_2023=df[filter]\n",
    "roma_2023"
   ]
  },
  {
   "cell_type": "code",
   "execution_count": 170,
   "metadata": {},
   "outputs": [],
   "source": [
    "roma_2023.insert(4,\"month\",\"\")\n",
    "roma_2023.insert(5,\"month name\",\"\")"
   ]
  },
  {
   "cell_type": "code",
   "execution_count": 171,
   "metadata": {},
   "outputs": [
    {
     "data": {
      "text/html": [
       "<div>\n",
       "<style scoped>\n",
       "    .dataframe tbody tr th:only-of-type {\n",
       "        vertical-align: middle;\n",
       "    }\n",
       "\n",
       "    .dataframe tbody tr th {\n",
       "        vertical-align: top;\n",
       "    }\n",
       "\n",
       "    .dataframe thead th {\n",
       "        text-align: right;\n",
       "    }\n",
       "</style>\n",
       "<table border=\"1\" class=\"dataframe\">\n",
       "  <thead>\n",
       "    <tr style=\"text-align: right;\">\n",
       "      <th></th>\n",
       "      <th>Stazione</th>\n",
       "      <th>Grandezza</th>\n",
       "      <th>Data rilevazione</th>\n",
       "      <th>year-month</th>\n",
       "      <th>month</th>\n",
       "      <th>month name</th>\n",
       "      <th>Valore</th>\n",
       "      <th>Indice di validità</th>\n",
       "    </tr>\n",
       "  </thead>\n",
       "  <tbody>\n",
       "    <tr>\n",
       "      <th>45557</th>\n",
       "      <td>FIUMICINO T. Lepre</td>\n",
       "      <td>TEMPARIA2M_MING</td>\n",
       "      <td>2023-01-01</td>\n",
       "      <td>2023-01</td>\n",
       "      <td>1</td>\n",
       "      <td>January</td>\n",
       "      <td>7.8</td>\n",
       "      <td>Dato esatto</td>\n",
       "    </tr>\n",
       "    <tr>\n",
       "      <th>45558</th>\n",
       "      <td>FIUMICINO T. Lepre</td>\n",
       "      <td>TEMPARIA2M_MING</td>\n",
       "      <td>2023-01-02</td>\n",
       "      <td>2023-01</td>\n",
       "      <td>1</td>\n",
       "      <td>January</td>\n",
       "      <td>9.5</td>\n",
       "      <td>Dato esatto</td>\n",
       "    </tr>\n",
       "    <tr>\n",
       "      <th>45559</th>\n",
       "      <td>FIUMICINO T. Lepre</td>\n",
       "      <td>TEMPARIA2M_MING</td>\n",
       "      <td>2023-01-03</td>\n",
       "      <td>2023-01</td>\n",
       "      <td>1</td>\n",
       "      <td>January</td>\n",
       "      <td>10.1</td>\n",
       "      <td>Dato esatto</td>\n",
       "    </tr>\n",
       "    <tr>\n",
       "      <th>45560</th>\n",
       "      <td>FIUMICINO T. Lepre</td>\n",
       "      <td>TEMPARIA2M_MING</td>\n",
       "      <td>2023-01-04</td>\n",
       "      <td>2023-01</td>\n",
       "      <td>1</td>\n",
       "      <td>January</td>\n",
       "      <td>7.7</td>\n",
       "      <td>Dato esatto</td>\n",
       "    </tr>\n",
       "    <tr>\n",
       "      <th>45561</th>\n",
       "      <td>FIUMICINO T. Lepre</td>\n",
       "      <td>TEMPARIA2M_MING</td>\n",
       "      <td>2023-01-05</td>\n",
       "      <td>2023-01</td>\n",
       "      <td>1</td>\n",
       "      <td>January</td>\n",
       "      <td>5.1</td>\n",
       "      <td>Dato esatto</td>\n",
       "    </tr>\n",
       "    <tr>\n",
       "      <th>...</th>\n",
       "      <td>...</td>\n",
       "      <td>...</td>\n",
       "      <td>...</td>\n",
       "      <td>...</td>\n",
       "      <td>...</td>\n",
       "      <td>...</td>\n",
       "      <td>...</td>\n",
       "      <td>...</td>\n",
       "    </tr>\n",
       "    <tr>\n",
       "      <th>46282</th>\n",
       "      <td>FIUMICINO T. Lepre</td>\n",
       "      <td>TEMPARIA2M_MAXG</td>\n",
       "      <td>2023-12-27</td>\n",
       "      <td>2023-12</td>\n",
       "      <td>12</td>\n",
       "      <td>December</td>\n",
       "      <td>16.1</td>\n",
       "      <td>Dato esatto</td>\n",
       "    </tr>\n",
       "    <tr>\n",
       "      <th>46283</th>\n",
       "      <td>FIUMICINO T. Lepre</td>\n",
       "      <td>TEMPARIA2M_MAXG</td>\n",
       "      <td>2023-12-28</td>\n",
       "      <td>2023-12</td>\n",
       "      <td>12</td>\n",
       "      <td>December</td>\n",
       "      <td>11.8</td>\n",
       "      <td>Dato esatto</td>\n",
       "    </tr>\n",
       "    <tr>\n",
       "      <th>46284</th>\n",
       "      <td>FIUMICINO T. Lepre</td>\n",
       "      <td>TEMPARIA2M_MAXG</td>\n",
       "      <td>2023-12-29</td>\n",
       "      <td>2023-12</td>\n",
       "      <td>12</td>\n",
       "      <td>December</td>\n",
       "      <td>15.1</td>\n",
       "      <td>Dato esatto</td>\n",
       "    </tr>\n",
       "    <tr>\n",
       "      <th>46285</th>\n",
       "      <td>FIUMICINO T. Lepre</td>\n",
       "      <td>TEMPARIA2M_MAXG</td>\n",
       "      <td>2023-12-30</td>\n",
       "      <td>2023-12</td>\n",
       "      <td>12</td>\n",
       "      <td>December</td>\n",
       "      <td>17.4</td>\n",
       "      <td>Dato esatto</td>\n",
       "    </tr>\n",
       "    <tr>\n",
       "      <th>46286</th>\n",
       "      <td>FIUMICINO T. Lepre</td>\n",
       "      <td>TEMPARIA2M_MAXG</td>\n",
       "      <td>2023-12-31</td>\n",
       "      <td>2023-12</td>\n",
       "      <td>12</td>\n",
       "      <td>December</td>\n",
       "      <td>15.2</td>\n",
       "      <td>Dato esatto</td>\n",
       "    </tr>\n",
       "  </tbody>\n",
       "</table>\n",
       "<p>730 rows × 8 columns</p>\n",
       "</div>"
      ],
      "text/plain": [
       "                 Stazione        Grandezza Data rilevazione year-month  month  \\\n",
       "45557  FIUMICINO T. Lepre  TEMPARIA2M_MING       2023-01-01    2023-01      1   \n",
       "45558  FIUMICINO T. Lepre  TEMPARIA2M_MING       2023-01-02    2023-01      1   \n",
       "45559  FIUMICINO T. Lepre  TEMPARIA2M_MING       2023-01-03    2023-01      1   \n",
       "45560  FIUMICINO T. Lepre  TEMPARIA2M_MING       2023-01-04    2023-01      1   \n",
       "45561  FIUMICINO T. Lepre  TEMPARIA2M_MING       2023-01-05    2023-01      1   \n",
       "...                   ...              ...              ...        ...    ...   \n",
       "46282  FIUMICINO T. Lepre  TEMPARIA2M_MAXG       2023-12-27    2023-12     12   \n",
       "46283  FIUMICINO T. Lepre  TEMPARIA2M_MAXG       2023-12-28    2023-12     12   \n",
       "46284  FIUMICINO T. Lepre  TEMPARIA2M_MAXG       2023-12-29    2023-12     12   \n",
       "46285  FIUMICINO T. Lepre  TEMPARIA2M_MAXG       2023-12-30    2023-12     12   \n",
       "46286  FIUMICINO T. Lepre  TEMPARIA2M_MAXG       2023-12-31    2023-12     12   \n",
       "\n",
       "      month name  Valore Indice di validità  \n",
       "45557    January     7.8        Dato esatto  \n",
       "45558    January     9.5        Dato esatto  \n",
       "45559    January    10.1        Dato esatto  \n",
       "45560    January     7.7        Dato esatto  \n",
       "45561    January     5.1        Dato esatto  \n",
       "...          ...     ...                ...  \n",
       "46282   December    16.1        Dato esatto  \n",
       "46283   December    11.8        Dato esatto  \n",
       "46284   December    15.1        Dato esatto  \n",
       "46285   December    17.4        Dato esatto  \n",
       "46286   December    15.2        Dato esatto  \n",
       "\n",
       "[730 rows x 8 columns]"
      ]
     },
     "execution_count": 171,
     "metadata": {},
     "output_type": "execute_result"
    }
   ],
   "source": [
    "roma_2023[\"month\"]=roma_2023[\"Data rilevazione\"].dt.month\n",
    "roma_2023[\"month name\"]=roma_2023[\"Data rilevazione\"].dt.month_name()\n",
    "roma_2023"
   ]
  },
  {
   "cell_type": "code",
   "execution_count": 172,
   "metadata": {},
   "outputs": [
    {
     "data": {
      "text/html": [
       "<div>\n",
       "<style scoped>\n",
       "    .dataframe tbody tr th:only-of-type {\n",
       "        vertical-align: middle;\n",
       "    }\n",
       "\n",
       "    .dataframe tbody tr th {\n",
       "        vertical-align: top;\n",
       "    }\n",
       "\n",
       "    .dataframe thead th {\n",
       "        text-align: right;\n",
       "    }\n",
       "</style>\n",
       "<table border=\"1\" class=\"dataframe\">\n",
       "  <thead>\n",
       "    <tr style=\"text-align: right;\">\n",
       "      <th></th>\n",
       "      <th>month</th>\n",
       "      <th>month name</th>\n",
       "      <th>min</th>\n",
       "      <th>max</th>\n",
       "      <th>mean</th>\n",
       "    </tr>\n",
       "  </thead>\n",
       "  <tbody>\n",
       "    <tr>\n",
       "      <th>0</th>\n",
       "      <td>1</td>\n",
       "      <td>January</td>\n",
       "      <td>0.3</td>\n",
       "      <td>17.8</td>\n",
       "      <td>9.358065</td>\n",
       "    </tr>\n",
       "    <tr>\n",
       "      <th>1</th>\n",
       "      <td>2</td>\n",
       "      <td>February</td>\n",
       "      <td>-0.5</td>\n",
       "      <td>17.5</td>\n",
       "      <td>9.342857</td>\n",
       "    </tr>\n",
       "    <tr>\n",
       "      <th>2</th>\n",
       "      <td>3</td>\n",
       "      <td>March</td>\n",
       "      <td>2.3</td>\n",
       "      <td>23.5</td>\n",
       "      <td>12.408065</td>\n",
       "    </tr>\n",
       "    <tr>\n",
       "      <th>3</th>\n",
       "      <td>4</td>\n",
       "      <td>April</td>\n",
       "      <td>1.8</td>\n",
       "      <td>23.1</td>\n",
       "      <td>13.635000</td>\n",
       "    </tr>\n",
       "    <tr>\n",
       "      <th>4</th>\n",
       "      <td>5</td>\n",
       "      <td>May</td>\n",
       "      <td>9.8</td>\n",
       "      <td>30.0</td>\n",
       "      <td>18.375806</td>\n",
       "    </tr>\n",
       "    <tr>\n",
       "      <th>5</th>\n",
       "      <td>6</td>\n",
       "      <td>June</td>\n",
       "      <td>14.6</td>\n",
       "      <td>35.0</td>\n",
       "      <td>23.588333</td>\n",
       "    </tr>\n",
       "    <tr>\n",
       "      <th>6</th>\n",
       "      <td>7</td>\n",
       "      <td>July</td>\n",
       "      <td>17.5</td>\n",
       "      <td>40.3</td>\n",
       "      <td>27.704839</td>\n",
       "    </tr>\n",
       "    <tr>\n",
       "      <th>7</th>\n",
       "      <td>8</td>\n",
       "      <td>August</td>\n",
       "      <td>14.7</td>\n",
       "      <td>39.6</td>\n",
       "      <td>26.137097</td>\n",
       "    </tr>\n",
       "    <tr>\n",
       "      <th>8</th>\n",
       "      <td>9</td>\n",
       "      <td>September</td>\n",
       "      <td>14.0</td>\n",
       "      <td>34.8</td>\n",
       "      <td>24.541667</td>\n",
       "    </tr>\n",
       "    <tr>\n",
       "      <th>9</th>\n",
       "      <td>10</td>\n",
       "      <td>October</td>\n",
       "      <td>12.4</td>\n",
       "      <td>33.4</td>\n",
       "      <td>21.091935</td>\n",
       "    </tr>\n",
       "    <tr>\n",
       "      <th>10</th>\n",
       "      <td>11</td>\n",
       "      <td>November</td>\n",
       "      <td>-0.8</td>\n",
       "      <td>22.8</td>\n",
       "      <td>13.968333</td>\n",
       "    </tr>\n",
       "    <tr>\n",
       "      <th>11</th>\n",
       "      <td>12</td>\n",
       "      <td>December</td>\n",
       "      <td>0.9</td>\n",
       "      <td>19.7</td>\n",
       "      <td>11.361290</td>\n",
       "    </tr>\n",
       "  </tbody>\n",
       "</table>\n",
       "</div>"
      ],
      "text/plain": [
       "    month month name   min   max       mean\n",
       "0       1    January   0.3  17.8   9.358065\n",
       "1       2   February  -0.5  17.5   9.342857\n",
       "2       3      March   2.3  23.5  12.408065\n",
       "3       4      April   1.8  23.1  13.635000\n",
       "4       5        May   9.8  30.0  18.375806\n",
       "5       6       June  14.6  35.0  23.588333\n",
       "6       7       July  17.5  40.3  27.704839\n",
       "7       8     August  14.7  39.6  26.137097\n",
       "8       9  September  14.0  34.8  24.541667\n",
       "9      10    October  12.4  33.4  21.091935\n",
       "10     11   November  -0.8  22.8  13.968333\n",
       "11     12   December   0.9  19.7  11.361290"
      ]
     },
     "execution_count": 172,
     "metadata": {},
     "output_type": "execute_result"
    }
   ],
   "source": [
    "roma_2023=roma_2023.groupby([\"month\",\"month name\"],as_index=False)[\"Valore\"].agg([\"min\",\"max\",\"mean\"])\n",
    "roma_2023"
   ]
  },
  {
   "cell_type": "code",
   "execution_count": 178,
   "metadata": {},
   "outputs": [
    {
     "data": {
      "application/vnd.plotly.v1+json": {
       "config": {
        "plotlyServerURL": "https://plot.ly"
       },
       "data": [
        {
         "hovertemplate": "<b>%{hovertext}</b><br><br>month name=%{x}<br>max=%{marker.color}<extra></extra>",
         "hovertext": [
          17.8,
          17.5,
          23.5,
          23.1,
          30,
          35,
          40.3,
          39.6,
          34.8,
          33.4,
          22.8,
          19.7
         ],
         "legendgroup": "",
         "marker": {
          "color": [
           17.8,
           17.5,
           23.5,
           23.1,
           30,
           35,
           40.3,
           39.6,
           34.8,
           33.4,
           22.8,
           19.7
          ],
          "coloraxis": "coloraxis",
          "size": [
           17.8,
           17.5,
           23.5,
           23.1,
           30,
           35,
           40.3,
           39.6,
           34.8,
           33.4,
           22.8,
           19.7
          ],
          "sizemode": "area",
          "sizeref": 0.011194444444444444,
          "symbol": "circle"
         },
         "mode": "markers",
         "name": "",
         "orientation": "v",
         "showlegend": false,
         "type": "scatter",
         "x": [
          "January",
          "February",
          "March",
          "April",
          "May",
          "June",
          "July",
          "August",
          "September",
          "October",
          "November",
          "December"
         ],
         "xaxis": "x",
         "y": [
          17.8,
          17.5,
          23.5,
          23.1,
          30,
          35,
          40.3,
          39.6,
          34.8,
          33.4,
          22.8,
          19.7
         ],
         "yaxis": "y"
        }
       ],
       "layout": {
        "coloraxis": {
         "colorbar": {
          "title": {
           "text": "max"
          }
         },
         "colorscale": [
          [
           0,
           "#0d0887"
          ],
          [
           0.1111111111111111,
           "#46039f"
          ],
          [
           0.2222222222222222,
           "#7201a8"
          ],
          [
           0.3333333333333333,
           "#9c179e"
          ],
          [
           0.4444444444444444,
           "#bd3786"
          ],
          [
           0.5555555555555556,
           "#d8576b"
          ],
          [
           0.6666666666666666,
           "#ed7953"
          ],
          [
           0.7777777777777778,
           "#fb9f3a"
          ],
          [
           0.8888888888888888,
           "#fdca26"
          ],
          [
           1,
           "#f0f921"
          ]
         ]
        },
        "legend": {
         "itemsizing": "constant",
         "tracegroupgap": 0
        },
        "template": {
         "data": {
          "bar": [
           {
            "error_x": {
             "color": "#2a3f5f"
            },
            "error_y": {
             "color": "#2a3f5f"
            },
            "marker": {
             "line": {
              "color": "#E5ECF6",
              "width": 0.5
             },
             "pattern": {
              "fillmode": "overlay",
              "size": 10,
              "solidity": 0.2
             }
            },
            "type": "bar"
           }
          ],
          "barpolar": [
           {
            "marker": {
             "line": {
              "color": "#E5ECF6",
              "width": 0.5
             },
             "pattern": {
              "fillmode": "overlay",
              "size": 10,
              "solidity": 0.2
             }
            },
            "type": "barpolar"
           }
          ],
          "carpet": [
           {
            "aaxis": {
             "endlinecolor": "#2a3f5f",
             "gridcolor": "white",
             "linecolor": "white",
             "minorgridcolor": "white",
             "startlinecolor": "#2a3f5f"
            },
            "baxis": {
             "endlinecolor": "#2a3f5f",
             "gridcolor": "white",
             "linecolor": "white",
             "minorgridcolor": "white",
             "startlinecolor": "#2a3f5f"
            },
            "type": "carpet"
           }
          ],
          "choropleth": [
           {
            "colorbar": {
             "outlinewidth": 0,
             "ticks": ""
            },
            "type": "choropleth"
           }
          ],
          "contour": [
           {
            "colorbar": {
             "outlinewidth": 0,
             "ticks": ""
            },
            "colorscale": [
             [
              0,
              "#0d0887"
             ],
             [
              0.1111111111111111,
              "#46039f"
             ],
             [
              0.2222222222222222,
              "#7201a8"
             ],
             [
              0.3333333333333333,
              "#9c179e"
             ],
             [
              0.4444444444444444,
              "#bd3786"
             ],
             [
              0.5555555555555556,
              "#d8576b"
             ],
             [
              0.6666666666666666,
              "#ed7953"
             ],
             [
              0.7777777777777778,
              "#fb9f3a"
             ],
             [
              0.8888888888888888,
              "#fdca26"
             ],
             [
              1,
              "#f0f921"
             ]
            ],
            "type": "contour"
           }
          ],
          "contourcarpet": [
           {
            "colorbar": {
             "outlinewidth": 0,
             "ticks": ""
            },
            "type": "contourcarpet"
           }
          ],
          "heatmap": [
           {
            "colorbar": {
             "outlinewidth": 0,
             "ticks": ""
            },
            "colorscale": [
             [
              0,
              "#0d0887"
             ],
             [
              0.1111111111111111,
              "#46039f"
             ],
             [
              0.2222222222222222,
              "#7201a8"
             ],
             [
              0.3333333333333333,
              "#9c179e"
             ],
             [
              0.4444444444444444,
              "#bd3786"
             ],
             [
              0.5555555555555556,
              "#d8576b"
             ],
             [
              0.6666666666666666,
              "#ed7953"
             ],
             [
              0.7777777777777778,
              "#fb9f3a"
             ],
             [
              0.8888888888888888,
              "#fdca26"
             ],
             [
              1,
              "#f0f921"
             ]
            ],
            "type": "heatmap"
           }
          ],
          "heatmapgl": [
           {
            "colorbar": {
             "outlinewidth": 0,
             "ticks": ""
            },
            "colorscale": [
             [
              0,
              "#0d0887"
             ],
             [
              0.1111111111111111,
              "#46039f"
             ],
             [
              0.2222222222222222,
              "#7201a8"
             ],
             [
              0.3333333333333333,
              "#9c179e"
             ],
             [
              0.4444444444444444,
              "#bd3786"
             ],
             [
              0.5555555555555556,
              "#d8576b"
             ],
             [
              0.6666666666666666,
              "#ed7953"
             ],
             [
              0.7777777777777778,
              "#fb9f3a"
             ],
             [
              0.8888888888888888,
              "#fdca26"
             ],
             [
              1,
              "#f0f921"
             ]
            ],
            "type": "heatmapgl"
           }
          ],
          "histogram": [
           {
            "marker": {
             "pattern": {
              "fillmode": "overlay",
              "size": 10,
              "solidity": 0.2
             }
            },
            "type": "histogram"
           }
          ],
          "histogram2d": [
           {
            "colorbar": {
             "outlinewidth": 0,
             "ticks": ""
            },
            "colorscale": [
             [
              0,
              "#0d0887"
             ],
             [
              0.1111111111111111,
              "#46039f"
             ],
             [
              0.2222222222222222,
              "#7201a8"
             ],
             [
              0.3333333333333333,
              "#9c179e"
             ],
             [
              0.4444444444444444,
              "#bd3786"
             ],
             [
              0.5555555555555556,
              "#d8576b"
             ],
             [
              0.6666666666666666,
              "#ed7953"
             ],
             [
              0.7777777777777778,
              "#fb9f3a"
             ],
             [
              0.8888888888888888,
              "#fdca26"
             ],
             [
              1,
              "#f0f921"
             ]
            ],
            "type": "histogram2d"
           }
          ],
          "histogram2dcontour": [
           {
            "colorbar": {
             "outlinewidth": 0,
             "ticks": ""
            },
            "colorscale": [
             [
              0,
              "#0d0887"
             ],
             [
              0.1111111111111111,
              "#46039f"
             ],
             [
              0.2222222222222222,
              "#7201a8"
             ],
             [
              0.3333333333333333,
              "#9c179e"
             ],
             [
              0.4444444444444444,
              "#bd3786"
             ],
             [
              0.5555555555555556,
              "#d8576b"
             ],
             [
              0.6666666666666666,
              "#ed7953"
             ],
             [
              0.7777777777777778,
              "#fb9f3a"
             ],
             [
              0.8888888888888888,
              "#fdca26"
             ],
             [
              1,
              "#f0f921"
             ]
            ],
            "type": "histogram2dcontour"
           }
          ],
          "mesh3d": [
           {
            "colorbar": {
             "outlinewidth": 0,
             "ticks": ""
            },
            "type": "mesh3d"
           }
          ],
          "parcoords": [
           {
            "line": {
             "colorbar": {
              "outlinewidth": 0,
              "ticks": ""
             }
            },
            "type": "parcoords"
           }
          ],
          "pie": [
           {
            "automargin": true,
            "type": "pie"
           }
          ],
          "scatter": [
           {
            "fillpattern": {
             "fillmode": "overlay",
             "size": 10,
             "solidity": 0.2
            },
            "type": "scatter"
           }
          ],
          "scatter3d": [
           {
            "line": {
             "colorbar": {
              "outlinewidth": 0,
              "ticks": ""
             }
            },
            "marker": {
             "colorbar": {
              "outlinewidth": 0,
              "ticks": ""
             }
            },
            "type": "scatter3d"
           }
          ],
          "scattercarpet": [
           {
            "marker": {
             "colorbar": {
              "outlinewidth": 0,
              "ticks": ""
             }
            },
            "type": "scattercarpet"
           }
          ],
          "scattergeo": [
           {
            "marker": {
             "colorbar": {
              "outlinewidth": 0,
              "ticks": ""
             }
            },
            "type": "scattergeo"
           }
          ],
          "scattergl": [
           {
            "marker": {
             "colorbar": {
              "outlinewidth": 0,
              "ticks": ""
             }
            },
            "type": "scattergl"
           }
          ],
          "scattermapbox": [
           {
            "marker": {
             "colorbar": {
              "outlinewidth": 0,
              "ticks": ""
             }
            },
            "type": "scattermapbox"
           }
          ],
          "scatterpolar": [
           {
            "marker": {
             "colorbar": {
              "outlinewidth": 0,
              "ticks": ""
             }
            },
            "type": "scatterpolar"
           }
          ],
          "scatterpolargl": [
           {
            "marker": {
             "colorbar": {
              "outlinewidth": 0,
              "ticks": ""
             }
            },
            "type": "scatterpolargl"
           }
          ],
          "scatterternary": [
           {
            "marker": {
             "colorbar": {
              "outlinewidth": 0,
              "ticks": ""
             }
            },
            "type": "scatterternary"
           }
          ],
          "surface": [
           {
            "colorbar": {
             "outlinewidth": 0,
             "ticks": ""
            },
            "colorscale": [
             [
              0,
              "#0d0887"
             ],
             [
              0.1111111111111111,
              "#46039f"
             ],
             [
              0.2222222222222222,
              "#7201a8"
             ],
             [
              0.3333333333333333,
              "#9c179e"
             ],
             [
              0.4444444444444444,
              "#bd3786"
             ],
             [
              0.5555555555555556,
              "#d8576b"
             ],
             [
              0.6666666666666666,
              "#ed7953"
             ],
             [
              0.7777777777777778,
              "#fb9f3a"
             ],
             [
              0.8888888888888888,
              "#fdca26"
             ],
             [
              1,
              "#f0f921"
             ]
            ],
            "type": "surface"
           }
          ],
          "table": [
           {
            "cells": {
             "fill": {
              "color": "#EBF0F8"
             },
             "line": {
              "color": "white"
             }
            },
            "header": {
             "fill": {
              "color": "#C8D4E3"
             },
             "line": {
              "color": "white"
             }
            },
            "type": "table"
           }
          ]
         },
         "layout": {
          "annotationdefaults": {
           "arrowcolor": "#2a3f5f",
           "arrowhead": 0,
           "arrowwidth": 1
          },
          "autotypenumbers": "strict",
          "coloraxis": {
           "colorbar": {
            "outlinewidth": 0,
            "ticks": ""
           }
          },
          "colorscale": {
           "diverging": [
            [
             0,
             "#8e0152"
            ],
            [
             0.1,
             "#c51b7d"
            ],
            [
             0.2,
             "#de77ae"
            ],
            [
             0.3,
             "#f1b6da"
            ],
            [
             0.4,
             "#fde0ef"
            ],
            [
             0.5,
             "#f7f7f7"
            ],
            [
             0.6,
             "#e6f5d0"
            ],
            [
             0.7,
             "#b8e186"
            ],
            [
             0.8,
             "#7fbc41"
            ],
            [
             0.9,
             "#4d9221"
            ],
            [
             1,
             "#276419"
            ]
           ],
           "sequential": [
            [
             0,
             "#0d0887"
            ],
            [
             0.1111111111111111,
             "#46039f"
            ],
            [
             0.2222222222222222,
             "#7201a8"
            ],
            [
             0.3333333333333333,
             "#9c179e"
            ],
            [
             0.4444444444444444,
             "#bd3786"
            ],
            [
             0.5555555555555556,
             "#d8576b"
            ],
            [
             0.6666666666666666,
             "#ed7953"
            ],
            [
             0.7777777777777778,
             "#fb9f3a"
            ],
            [
             0.8888888888888888,
             "#fdca26"
            ],
            [
             1,
             "#f0f921"
            ]
           ],
           "sequentialminus": [
            [
             0,
             "#0d0887"
            ],
            [
             0.1111111111111111,
             "#46039f"
            ],
            [
             0.2222222222222222,
             "#7201a8"
            ],
            [
             0.3333333333333333,
             "#9c179e"
            ],
            [
             0.4444444444444444,
             "#bd3786"
            ],
            [
             0.5555555555555556,
             "#d8576b"
            ],
            [
             0.6666666666666666,
             "#ed7953"
            ],
            [
             0.7777777777777778,
             "#fb9f3a"
            ],
            [
             0.8888888888888888,
             "#fdca26"
            ],
            [
             1,
             "#f0f921"
            ]
           ]
          },
          "colorway": [
           "#636efa",
           "#EF553B",
           "#00cc96",
           "#ab63fa",
           "#FFA15A",
           "#19d3f3",
           "#FF6692",
           "#B6E880",
           "#FF97FF",
           "#FECB52"
          ],
          "font": {
           "color": "#2a3f5f"
          },
          "geo": {
           "bgcolor": "white",
           "lakecolor": "white",
           "landcolor": "#E5ECF6",
           "showlakes": true,
           "showland": true,
           "subunitcolor": "white"
          },
          "hoverlabel": {
           "align": "left"
          },
          "hovermode": "closest",
          "mapbox": {
           "style": "light"
          },
          "paper_bgcolor": "white",
          "plot_bgcolor": "#E5ECF6",
          "polar": {
           "angularaxis": {
            "gridcolor": "white",
            "linecolor": "white",
            "ticks": ""
           },
           "bgcolor": "#E5ECF6",
           "radialaxis": {
            "gridcolor": "white",
            "linecolor": "white",
            "ticks": ""
           }
          },
          "scene": {
           "xaxis": {
            "backgroundcolor": "#E5ECF6",
            "gridcolor": "white",
            "gridwidth": 2,
            "linecolor": "white",
            "showbackground": true,
            "ticks": "",
            "zerolinecolor": "white"
           },
           "yaxis": {
            "backgroundcolor": "#E5ECF6",
            "gridcolor": "white",
            "gridwidth": 2,
            "linecolor": "white",
            "showbackground": true,
            "ticks": "",
            "zerolinecolor": "white"
           },
           "zaxis": {
            "backgroundcolor": "#E5ECF6",
            "gridcolor": "white",
            "gridwidth": 2,
            "linecolor": "white",
            "showbackground": true,
            "ticks": "",
            "zerolinecolor": "white"
           }
          },
          "shapedefaults": {
           "line": {
            "color": "#2a3f5f"
           }
          },
          "ternary": {
           "aaxis": {
            "gridcolor": "white",
            "linecolor": "white",
            "ticks": ""
           },
           "baxis": {
            "gridcolor": "white",
            "linecolor": "white",
            "ticks": ""
           },
           "bgcolor": "#E5ECF6",
           "caxis": {
            "gridcolor": "white",
            "linecolor": "white",
            "ticks": ""
           }
          },
          "title": {
           "x": 0.05
          },
          "xaxis": {
           "automargin": true,
           "gridcolor": "white",
           "linecolor": "white",
           "ticks": "",
           "title": {
            "standoff": 15
           },
           "zerolinecolor": "white",
           "zerolinewidth": 2
          },
          "yaxis": {
           "automargin": true,
           "gridcolor": "white",
           "linecolor": "white",
           "ticks": "",
           "title": {
            "standoff": 15
           },
           "zerolinecolor": "white",
           "zerolinewidth": 2
          }
         }
        },
        "title": {
         "text": "Rome Temperature 2023"
        },
        "xaxis": {
         "anchor": "y",
         "domain": [
          0,
          1
         ],
         "title": {
          "text": ""
         }
        },
        "yaxis": {
         "anchor": "x",
         "domain": [
          0,
          1
         ],
         "title": {
          "text": "Temperature"
         }
        }
       }
      }
     },
     "metadata": {},
     "output_type": "display_data"
    }
   ],
   "source": [
    "fig = px.scatter(roma_2023, x=\"month name\", y=\"max\", size=\"max\", hover_name=\"max\", title='Rome Temperature 2023', size_max=60, color='max')\n",
    "fig.update_xaxes(title_text='')\n",
    "fig.update_yaxes(title_text='Temperature')\n",
    "fig.show()"
   ]
  },
  {
   "cell_type": "code",
   "execution_count": 174,
   "metadata": {},
   "outputs": [
    {
     "data": {
      "image/png": "[encoded data removed]",
      "text/plain": [
       "<Figure size 1800x600 with 1 Axes>"
      ]
     },
     "metadata": {},
     "output_type": "display_data"
    }
   ],
   "source": [
    "plt.figure(figsize=(18,6))\n",
    "sns.pointplot(data=roma_2023, x=\"month name\", y=\"min\",label=\"Min\")\n",
    "sns.pointplot(data=roma_2023, x=\"month name\", y=\"max\",label=\"Max\",color=\"r\")\n",
    "sns.pointplot(data=roma_2023, x=\"month name\", y=\"mean\",label=\"Mean\",color=\"orange\")\n",
    "plt.xticks(rotation=0)\n",
    "plt.ylabel(\"Temperature\")\n",
    "plt.xlabel(\"Month\")\n",
    "plt.title(\"Evolution of Temperature - Rome 2023\")\n",
    "plt.grid()\n",
    "plt.show()"
   ]
  },
  {
   "cell_type": "code",
   "execution_count": 175,
   "metadata": {},
   "outputs": [
    {
     "data": {
      "image/png": "[encoded data removed]",
      "text/plain": [
       "<Figure size 1000x600 with 1 Axes>"
      ]
     },
     "metadata": {},
     "output_type": "display_data"
    }
   ],
   "source": [
    "plt.figure(figsize=(10,6))\n",
    "ax=sns.barplot(x=\"month name\",y=\"max\",data=roma_2023,color=\"red\",label=\"Max\")\n",
    "for bars in ax.containers:\n",
    "    ax.bar_label(bars)\n",
    "ax1=sns.barplot(x=\"month name\",y=\"min\",data=roma_2023,color=\"blue\",label=\"Min\")\n",
    "for bars in ax1.containers:\n",
    "    ax1.bar_label(bars)\n",
    "plt.title(\"Evolution of Temperature - Rome 2023\")\n",
    "plt.xlabel(\"\",fontsize=12)\n",
    "plt.ylabel(\"\",fontsize=12)\n",
    "plt.xticks(rotation=0,size=9)\n",
    "plt.show()"
   ]
  },
  {
   "cell_type": "code",
   "execution_count": 176,
   "metadata": {},
   "outputs": [
    {
     "data": {
      "image/png": "[encoded data removed]",
      "text/plain": [
       "<Figure size 1000x600 with 1 Axes>"
      ]
     },
     "metadata": {},
     "output_type": "display_data"
    }
   ],
   "source": [
    "plt.figure(figsize=(10,6))\n",
    "ax=sns.barplot(x=\"month name\",y=\"max\",data=roma_2023,color=\"red\")\n",
    "for bars in ax.containers:\n",
    "    ax.bar_label(bars)\n",
    "plt.title(\"Evolution of Max Temperature - Rome 2023\")\n",
    "plt.xlabel(\"\",fontsize=12)\n",
    "plt.ylabel(\"\",fontsize=12)\n",
    "plt.xticks(rotation=0,size=9)\n",
    "plt.show()"
   ]
  }
 ],
 "metadata": {
  "kernelspec": {
   "display_name": "Python 3",
   "language": "python",
   "name": "python3"
  },
  "language_info": {
   "codemirror_mode": {
    "name": "ipython",
    "version": 3
   },
   "file_extension": ".py",
   "mimetype": "text/x-python",
   "name": "python",
   "nbconvert_exporter": "python",
   "pygments_lexer": "ipython3",
   "version": "3.11.8"
  }
 },
 "nbformat": 4,
 "nbformat_minor": 2
}
