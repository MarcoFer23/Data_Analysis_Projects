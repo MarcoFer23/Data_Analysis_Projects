{
 "cells": [
  {
   "cell_type": "markdown",
   "metadata": {},
   "source": [
    "# Evolution of Temperature Study 2019-2024\n",
    "\n",
    "### Website: [Regione Lazio](https://www.regione.lazio.it/)\n",
    "### Data source: [Link](https://www.siarl-lazio.it/E9.asp)"
   ]
  },
  {
   "cell_type": "code",
   "execution_count": 1,
   "metadata": {},
   "outputs": [],
   "source": [
    "# Importing libraries\n",
    "\n",
    "import pandas as pd\n",
    "import numpy as np\n",
    "import seaborn as sns\n",
    "import matplotlib.pyplot as plt\n",
    "import warnings\n",
    "import plotly.express as px\n",
    "import datetime as dt\n",
    "import glob as glob\n",
    "warnings.simplefilter(action=\"ignore\",category=FutureWarning)\n",
    "pd.options.mode.chained_assignment = None"
   ]
  },
  {
   "cell_type": "code",
   "execution_count": null,
   "metadata": {},
   "outputs": [],
   "source": [
    "# Importing Data\n",
    "\n",
    "all_files=glob.glob(\"opdata*.csv\")\n",
    "file_list=[]\n",
    "for file in all_files:\n",
    "    data=pd.read_csv(file,delimiter=\";\",encoding=\"latin1\")\n",
    "    file_list.append(data)\n",
    "df=pd.concat(file_list)"
   ]
  },
  {
   "cell_type": "markdown",
   "metadata": {},
   "source": [
    "### 1. Exploring Data"
   ]
  },
  {
   "cell_type": "code",
   "execution_count": null,
   "metadata": {},
   "outputs": [],
   "source": [
    "df.head()"
   ]
  },
  {
   "cell_type": "code",
   "execution_count": null,
   "metadata": {},
   "outputs": [],
   "source": [
    "df.shape\n",
    "f\"{df.shape[0]} Rows by {df.shape[1]} Columns\""
   ]
  },
  {
   "cell_type": "code",
   "execution_count": null,
   "metadata": {},
   "outputs": [],
   "source": [
    "df.describe()"
   ]
  },
  {
   "cell_type": "code",
   "execution_count": null,
   "metadata": {},
   "outputs": [],
   "source": [
    "df.info()"
   ]
  },
  {
   "cell_type": "markdown",
   "metadata": {},
   "source": [
    "### 2. Cleaning up the Data!"
   ]
  },
  {
   "cell_type": "code",
   "execution_count": null,
   "metadata": {},
   "outputs": [],
   "source": [
    "df"
   ]
  },
  {
   "cell_type": "code",
   "execution_count": null,
   "metadata": {},
   "outputs": [],
   "source": [
    "# Filtering by Station\n",
    "\n",
    "filter=(df[\"Stazione\"]==\"FIUMICINO T. Lepre\")\n",
    "df=df[filter]\n",
    "df"
   ]
  },
  {
   "cell_type": "code",
   "execution_count": null,
   "metadata": {},
   "outputs": [],
   "source": [
    "filter=(df[\"Grandezza\"]==\"TEMPARIA2M_MING\")|(df[\"Grandezza\"]==\"TEMPARIA2M_MAXG\")\n",
    "df=df[filter]\n",
    "df"
   ]
  },
  {
   "cell_type": "code",
   "execution_count": 152,
   "metadata": {},
   "outputs": [],
   "source": [
    "df[\"Valore\"]=df[\"Valore\"].str.replace(\",\",\".\")"
   ]
  },
  {
   "cell_type": "code",
   "execution_count": null,
   "metadata": {},
   "outputs": [],
   "source": [
    "import locale\n",
    "locale.setlocale(locale.LC_ALL,'en_US.UTF-8')"
   ]
  },
  {
   "cell_type": "code",
   "execution_count": 154,
   "metadata": {},
   "outputs": [],
   "source": [
    "df[\"Valore\"]=df[\"Valore\"].apply(locale.atof)"
   ]
  },
  {
   "cell_type": "code",
   "execution_count": null,
   "metadata": {},
   "outputs": [],
   "source": [
    "df[\"Data rilevazione\"]=pd.to_datetime(df[\"Data rilevazione\"], format=\"%d/%m/%Y %H:%M\")\n",
    "df"
   ]
  },
  {
   "cell_type": "code",
   "execution_count": null,
   "metadata": {},
   "outputs": [],
   "source": [
    "df.insert(3,\"year-month\",\"\")\n",
    "df[\"year-month\"]=df[\"Data rilevazione\"].dt.strftime('%Y-%m')\n",
    "df"
   ]
  },
  {
   "cell_type": "code",
   "execution_count": null,
   "metadata": {},
   "outputs": [],
   "source": [
    "df_roma=df.groupby([\"year-month\"],as_index=False)[\"Valore\"].agg([\"min\",\"max\",\"mean\"])\n",
    "df_roma"
   ]
  },
  {
   "cell_type": "markdown",
   "metadata": {},
   "source": [
    "### 3. Analyse Data"
   ]
  },
  {
   "cell_type": "code",
   "execution_count": 158,
   "metadata": {},
   "outputs": [],
   "source": [
    "roma=df_roma.copy()"
   ]
  },
  {
   "cell_type": "code",
   "execution_count": null,
   "metadata": {},
   "outputs": [],
   "source": [
    "roma"
   ]
  },
  {
   "cell_type": "code",
   "execution_count": null,
   "metadata": {},
   "outputs": [],
   "source": [
    "roma[\"max\"].plot(kind=\"box\")"
   ]
  },
  {
   "cell_type": "markdown",
   "metadata": {},
   "source": [
    "No outliers found"
   ]
  },
  {
   "cell_type": "code",
   "execution_count": null,
   "metadata": {},
   "outputs": [],
   "source": [
    "roma[\"min\"].plot(kind=\"box\")"
   ]
  },
  {
   "cell_type": "markdown",
   "metadata": {},
   "source": [
    "No outliers found"
   ]
  },
  {
   "cell_type": "code",
   "execution_count": null,
   "metadata": {},
   "outputs": [],
   "source": [
    "plt.figure(figsize=(18,6))\n",
    "sns.pointplot(data=roma, x=\"year-month\", y=\"min\",label=\"Min\")\n",
    "sns.pointplot(data=roma, x=\"year-month\", y=\"max\",label=\"Max\",color=\"r\")\n",
    "plt.xticks(rotation=45)\n",
    "plt.ylabel(\"Temperature\")\n",
    "plt.xlabel(\"Date\")\n",
    "plt.title(\"Evolution of Temperature - Rome\")\n",
    "plt.grid()\n",
    "plt.show()"
   ]
  },
  {
   "cell_type": "code",
   "execution_count": null,
   "metadata": {},
   "outputs": [],
   "source": [
    "plt.figure(figsize=(18,6))\n",
    "plt.bar(roma[\"year-month\"],roma[\"max\"],color=\"Red\")\n",
    "plt.bar(roma[\"year-month\"],roma[\"min\"],color=\"Blue\")\n",
    "plt.xticks(rotation = 90)\n",
    "plt.title('Evolution of Temperature - Rome')\n",
    "plt.ylabel('Temp')\n",
    "plt.legend(['Max', 'Min'])\n",
    "plt.show()"
   ]
  },
  {
   "cell_type": "code",
   "execution_count": null,
   "metadata": {},
   "outputs": [],
   "source": [
    "plt.figure(figsize=(18,6))\n",
    "sns.pointplot(data=roma, x=\"year-month\", y=\"max\",label=\"max\",color=\"r\")\n",
    "plt.xticks(rotation=45)\n",
    "plt.ylabel(\"Temperature\")\n",
    "plt.xlabel(\"Date\")\n",
    "plt.title(\"Evolution of Max Temperature - Rome\")\n",
    "plt.grid()\n",
    "plt.show()"
   ]
  },
  {
   "cell_type": "code",
   "execution_count": null,
   "metadata": {},
   "outputs": [],
   "source": [
    "fig = px.scatter(roma, x=\"year-month\", y=\"max\", size=\"max\", hover_name=\"max\", title='Rome Temperature 2023', size_max=60, color='max')\n",
    "fig.update_xaxes(title_text='')\n",
    "fig.update_yaxes(title_text='Temperature')\n",
    "fig.show()"
   ]
  },
  {
   "cell_type": "code",
   "execution_count": null,
   "metadata": {},
   "outputs": [],
   "source": [
    "plt.figure(figsize=(18,6))\n",
    "sns.pointplot(data=roma, x=\"year-month\", y=\"min\",label=\"Min\")\n",
    "plt.xticks(rotation=45)\n",
    "plt.ylabel(\"Temperature\")\n",
    "plt.xlabel(\"Date\")\n",
    "plt.title(\"Evolution of Min Temperature - Rome\")\n",
    "plt.grid()\n",
    "plt.show()"
   ]
  },
  {
   "cell_type": "code",
   "execution_count": 167,
   "metadata": {},
   "outputs": [],
   "source": [
    "#roma.to_csv(\"Roma\",index=False)"
   ]
  },
  {
   "cell_type": "markdown",
   "metadata": {},
   "source": [
    "## What happened in 2023?"
   ]
  },
  {
   "cell_type": "code",
   "execution_count": null,
   "metadata": {},
   "outputs": [],
   "source": [
    "df"
   ]
  },
  {
   "cell_type": "code",
   "execution_count": null,
   "metadata": {},
   "outputs": [],
   "source": [
    "filter=df[\"Data rilevazione\"].dt.year.isin([2023])\n",
    "roma_2023=df[filter]\n",
    "roma_2023"
   ]
  },
  {
   "cell_type": "code",
   "execution_count": 170,
   "metadata": {},
   "outputs": [],
   "source": [
    "roma_2023.insert(4,\"month\",\"\")\n",
    "roma_2023.insert(5,\"month name\",\"\")"
   ]
  },
  {
   "cell_type": "code",
   "execution_count": null,
   "metadata": {},
   "outputs": [],
   "source": [
    "roma_2023[\"month\"]=roma_2023[\"Data rilevazione\"].dt.month\n",
    "roma_2023[\"month name\"]=roma_2023[\"Data rilevazione\"].dt.month_name()\n",
    "roma_2023"
   ]
  },
  {
   "cell_type": "code",
   "execution_count": null,
   "metadata": {},
   "outputs": [],
   "source": [
    "roma_2023=roma_2023.groupby([\"month\",\"month name\"],as_index=False)[\"Valore\"].agg([\"min\",\"max\",\"mean\"])\n",
    "roma_2023"
   ]
  },
  {
   "cell_type": "code",
   "execution_count": null,
   "metadata": {},
   "outputs": [],
   "source": [
    "fig = px.scatter(roma_2023, x=\"month name\", y=\"max\", size=\"max\", hover_name=\"max\", title='Rome Temperature 2023', size_max=60, color='max')\n",
    "fig.update_xaxes(title_text='')\n",
    "fig.update_yaxes(title_text='Temperature')\n",
    "fig.show()"
   ]
  },
  {
   "cell_type": "code",
   "execution_count": null,
   "metadata": {},
   "outputs": [],
   "source": [
    "plt.figure(figsize=(18,6))\n",
    "sns.pointplot(data=roma_2023, x=\"month name\", y=\"min\",label=\"Min\")\n",
    "sns.pointplot(data=roma_2023, x=\"month name\", y=\"max\",label=\"Max\",color=\"r\")\n",
    "sns.pointplot(data=roma_2023, x=\"month name\", y=\"mean\",label=\"Mean\",color=\"orange\")\n",
    "plt.xticks(rotation=0)\n",
    "plt.ylabel(\"Temperature\")\n",
    "plt.xlabel(\"Month\")\n",
    "plt.title(\"Evolution of Temperature - Rome 2023\")\n",
    "plt.grid()\n",
    "plt.show()"
   ]
  },
  {
   "cell_type": "code",
   "execution_count": null,
   "metadata": {},
   "outputs": [],
   "source": [
    "plt.figure(figsize=(10,6))\n",
    "ax=sns.barplot(x=\"month name\",y=\"max\",data=roma_2023,color=\"red\",label=\"Max\")\n",
    "for bars in ax.containers:\n",
    "    ax.bar_label(bars)\n",
    "ax1=sns.barplot(x=\"month name\",y=\"min\",data=roma_2023,color=\"blue\",label=\"Min\")\n",
    "for bars in ax1.containers:\n",
    "    ax1.bar_label(bars)\n",
    "plt.title(\"Evolution of Temperature - Rome 2023\")\n",
    "plt.xlabel(\"\",fontsize=12)\n",
    "plt.ylabel(\"\",fontsize=12)\n",
    "plt.xticks(rotation=0,size=9)\n",
    "plt.show()"
   ]
  },
  {
   "cell_type": "code",
   "execution_count": null,
   "metadata": {},
   "outputs": [],
   "source": [
    "plt.figure(figsize=(10,6))\n",
    "ax=sns.barplot(x=\"month name\",y=\"max\",data=roma_2023,color=\"red\")\n",
    "for bars in ax.containers:\n",
    "    ax.bar_label(bars)\n",
    "plt.title(\"Evolution of Max Temperature - Rome 2023\")\n",
    "plt.xlabel(\"\",fontsize=12)\n",
    "plt.ylabel(\"\",fontsize=12)\n",
    "plt.xticks(rotation=0,size=9)\n",
    "plt.show()"
   ]
  }
 ],
 "metadata": {
  "kernelspec": {
   "display_name": "Virtual_Environment",
   "language": "python",
   "name": "python3"
  },
  "language_info": {
   "codemirror_mode": {
    "name": "ipython",
    "version": 3
   },
   "file_extension": ".py",
   "mimetype": "text/x-python",
   "name": "python",
   "nbconvert_exporter": "python",
   "pygments_lexer": "ipython3",
   "version": "3.13.0"
  }
 },
 "nbformat": 4,
 "nbformat_minor": 2
}
