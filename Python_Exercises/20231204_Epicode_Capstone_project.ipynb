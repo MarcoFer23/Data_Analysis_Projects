{
 "cells": [
  {
   "cell_type": "code",
   "execution_count": null,
   "metadata": {},
   "outputs": [],
   "source": [
    "# Part One: Global plastic production and forecasts\n",
    "\n",
    "import pandas as pd\n",
    "import seaborn as sns\n",
    "import matplotlib.pyplot as plt\n",
    "\n",
    "columns_to_use = [\"Year\", \"Annual plastic production between 1950 and 2019\"]\n",
    "global_plastic_production = pd.read_csv(\"C:/Users/marco/Downloads/Capstone_Project/1. Produzione plastica/global-plastics-production_our_world_in_data.csv\", sep=\",\", usecols=columns_to_use)\n",
    "global_plastic_production\n"
   ]
  },
  {
   "cell_type": "code",
   "execution_count": null,
   "metadata": {},
   "outputs": [],
   "source": [
    "global_plastic_production.describe\n",
    "global_plastic_production.info\n",
    "global_plastic_production.shape\n",
    "global_plastic_production.columns\n",
    "\n",
    "global_plastic_production.isnull().sum()\n",
    "global_plastic_production.isna().sum()\n",
    "\n",
    "global_plastic_production.fillna(value=0, inplace=True)\n"
   ]
  },
  {
   "cell_type": "code",
   "execution_count": null,
   "metadata": {},
   "outputs": [],
   "source": [
    "x = global_plastic_production[\"Year\"]\n",
    "y = global_plastic_production[\"Annual plastic production between 1950 and 2019\"]\n",
    "\n",
    "\n",
    "plt.plot(x, y, \"k\", linewidth=1.5)\n",
    "plt.title(\"Global Plastic Production\")\n",
    "plt.xlabel(\"Year\")\n",
    "plt.ylabel(\"Plastic Production (Millions of Tonnes)\")\n",
    "plt.grid(True)\n",
    "plt.show()\n",
    "\n",
    "sns.lineplot(x = x, y = y, data=global_plastic_production, color=\"black\")\n",
    "sns.regplot(x=x, y=y, data=global_plastic_production, scatter=False, order=3, line_kws={'color': 'skyblue', 'linestyle': 'solid'})\n",
    "plt.title(\"Global Plastic Production with Trendline\")\n",
    "plt.xlabel(\"Year\")\n",
    "plt.ylabel(\"Plastic Production (Millions of Tonnes)\")\n",
    "plt.grid(True)\n",
    "plt.show()"
   ]
  },
  {
   "cell_type": "code",
   "execution_count": null,
   "metadata": {},
   "outputs": [],
   "source": [
    "global_plastic_production_projections_full = pd.read_csv(\"C:/Users/marco/Downloads/Capstone_Project/1. Produzione plastica/global-plastic-production-projections.csv\", sep=\",\")\n",
    "global_plastic_production_projections_full\n",
    "\n",
    "world_filter = global_plastic_production_projections_full[\"Entity\"] == \"World\"\n",
    "global_plastic_production_projections = global_plastic_production_projections_full[world_filter]\n",
    "global_plastic_production_projections"
   ]
  },
  {
   "cell_type": "code",
   "execution_count": null,
   "metadata": {},
   "outputs": [],
   "source": [
    "global_plastic_production_projections.describe\n",
    "global_plastic_production_projections.info\n",
    "global_plastic_production_projections.shape\n",
    "global_plastic_production_projections.columns\n",
    "\n",
    "global_plastic_production_projections.isnull().sum()\n",
    "global_plastic_production_projections.isna().sum()\n",
    "\n",
    "global_plastic_production_projections.fillna(value=\"\")"
   ]
  },
  {
   "cell_type": "code",
   "execution_count": null,
   "metadata": {},
   "outputs": [],
   "source": [
    "x = global_plastic_production_projections[\"Year\"]\n",
    "y1 = global_plastic_production_projections[\"Annual plastic production between 1950 and 2019\"]\n",
    "y2 = global_plastic_production_projections[\"Plastic use - projections\"]\n",
    "\n",
    "sns.lineplot(x=x, y=y1, color=\"black\", label=\"Annual Plastic Production 1950-2019\", linestyle=\"-\")\n",
    "sns.lineplot(x=x, y=y2, color=\"orange\", label=\"Plastic Production Projections 2020-2060\", linestyle=\"--\")\n",
    "plt.title(\"Global Plastic Production Projections\")\n",
    "plt.xlabel(\"Year\")\n",
    "plt.ylabel(\"Plastic Production (Millions of Tonnes)\")\n",
    "plt.legend(loc=\"lower center\", bbox_to_anchor=(0.5, -0.3), ncol=1)\n",
    "plt.grid(False)\n",
    "plt.show()"
   ]
  },
  {
   "cell_type": "code",
   "execution_count": null,
   "metadata": {},
   "outputs": [],
   "source": [
    "plastic_production_by_sector = pd.read_csv(\"C:/Users/marco/Downloads/Capstone_Project/1. Produzione plastica/plastic-production-by-sector.csv\", sep=\",\")\n",
    "plastic_production_by_sector"
   ]
  },
  {
   "cell_type": "code",
   "execution_count": null,
   "metadata": {},
   "outputs": [],
   "source": [
    "plastic_production_by_sector.describe\n",
    "plastic_production_by_sector.info\n",
    "plastic_production_by_sector.shape\n",
    "plastic_production_by_sector.columns\n",
    "\n",
    "plastic_production_by_sector.isnull().sum()\n",
    "plastic_production_by_sector.isna().sum()\n",
    "\n",
    "plastic_production_by_sector.fillna(value=0, inplace=True)"
   ]
  },
  {
   "cell_type": "code",
   "execution_count": null,
   "metadata": {},
   "outputs": [],
   "source": [
    "x = plastic_production_by_sector[\"Year\"]\n",
    "y1 = plastic_production_by_sector[\"Road marking\"]\n",
    "y2 = plastic_production_by_sector[\"Marine coatings\"]\n",
    "y3 = plastic_production_by_sector[\"Personal care products\"]\n",
    "y4 = plastic_production_by_sector[\"Industrial machinery\"]\n",
    "y5 = plastic_production_by_sector[\"Electronics\"]\n",
    "y6 = plastic_production_by_sector[\"Textile sector\"]\n",
    "y7 = plastic_production_by_sector[\"Consumer and institutional products\"]\n",
    "y8 = plastic_production_by_sector[\"Transportation\"]\n",
    "y9 = plastic_production_by_sector[\"Building and construction\"]\n",
    "y10 = plastic_production_by_sector[\"Packaging\"]\n",
    "y11 = plastic_production_by_sector[\"Other\"]\n",
    "\n",
    "plt.plot(x, y1, \"#4B90CC\", linewidth=1.5, label=\"Road marking\")\n",
    "plt.plot(x, y2, \"#00CED1\", linewidth=1.5, label=\"Marine coatings\")\n",
    "plt.plot(x, y3, \"#87CEEB\", linewidth=1.5, label=\"Personal care products\")\n",
    "plt.plot(x, y4, \"#40E0D0\", linewidth=1.5, label=\"Industrial machinery\")\n",
    "plt.plot(x, y5, \"#00FFFF\", linewidth=1.5, label=\"Electronics\")\n",
    "plt.plot(x, y6, \"#B0E57C\", linewidth=1.5, label=\"Textile sector\")\n",
    "plt.plot(x, y7, \"#AFEEEE\", linewidth=1.5, label=\"Consumer and institutional products\")\n",
    "plt.plot(x, y8, \"#6A5ACD\", linewidth=1.5, label=\"Transportation\")\n",
    "plt.plot(x, y9, \"#00008B\", linewidth=1.5, label=\"Building and construction\")\n",
    "plt.plot(x, y10, \"#4682B4\", linewidth=1.5, label=\"Packaging\")\n",
    "plt.plot(x, y11, \"#1A4876\", linewidth=1.5, label=\"Other\")\n",
    "plt.title(\"Global Plastic Production by Industry Sector\")\n",
    "plt.xlabel(\"Year\")\n",
    "plt.ylabel(\"Plastic Production (Millions of Tonnes)\")\n",
    "plt.grid(False)\n",
    "plt.legend(loc=\"center right\", bbox_to_anchor=(1.65,0.5))\n",
    "plt.show()"
   ]
  },
  {
   "cell_type": "code",
   "execution_count": null,
   "metadata": {},
   "outputs": [],
   "source": [
    "# Part Two: Problems resulting from improper garbage disposal\n",
    "\n",
    "plastic_waste_per_capita = pd.read_csv(\"C:/Users/marco/Downloads/Capstone_Project/2. Smaltimento malgestito/mismanaged-plastic-waste-per-capita.csv\", sep=\",\")\n",
    "plastic_waste_per_capita"
   ]
  },
  {
   "cell_type": "code",
   "execution_count": null,
   "metadata": {},
   "outputs": [],
   "source": [
    "plastic_waste_per_capita.describe\n",
    "plastic_waste_per_capita.info\n",
    "plastic_waste_per_capita.shape\n",
    "plastic_waste_per_capita.columns\n",
    "\n",
    "plastic_waste_per_capita.isnull().sum()\n",
    "plastic_waste_per_capita.isna().sum()\n",
    "\n",
    "plastic_waste_per_capita.fillna(value=\"\")"
   ]
  },
  {
   "cell_type": "code",
   "execution_count": null,
   "metadata": {},
   "outputs": [],
   "source": [
    "pwpc_ordered = plastic_waste_per_capita.sort_values(by=\"Mismanaged plastic waste per capita (kg per year)\", ascending=False)\n",
    "pwpc_ordered"
   ]
  },
  {
   "cell_type": "code",
   "execution_count": null,
   "metadata": {},
   "outputs": [],
   "source": [
    "pwpc_ordered_top_10 = pwpc_ordered.iloc[0:10]\n",
    "pwpc_ordered_top_10"
   ]
  },
  {
   "cell_type": "code",
   "execution_count": null,
   "metadata": {},
   "outputs": [],
   "source": [
    "x = pwpc_ordered_top_10[\"Entity\"]\n",
    "y = pwpc_ordered_top_10[\"Mismanaged plastic waste per capita (kg per year)\"]\n",
    "\n",
    "plt.figure(figsize=(16, 5)) \n",
    "plt.bar(x, y, color ='skyblue', width = 0.5)\n",
    "plt.title(\"Mismanaged Plastic Waste per Capita, Top 10 Countries\", fontfamily='sans-serif', fontsize=16)\n",
    "plt.xlabel(\"\", fontfamily=\"sans-serif\", fontsize=12)\n",
    "plt.ylabel(\"KG per Year\", fontfamily='sans-serif', fontsize=12)\n",
    "plt.grid(False)\n",
    "plt.show()"
   ]
  },
  {
   "cell_type": "code",
   "execution_count": null,
   "metadata": {},
   "outputs": [],
   "source": [
    "plastic_fate = pd.read_csv(\"C:/Users/marco/Downloads/Capstone_Project/2. Smaltimento malgestito/plastic-fate.csv\", sep=\",\")\n",
    "plastic_fate\n",
    "\n",
    "world_filter = plastic_fate[\"Entity\"] == \"World\"\n",
    "plastic_fate_world = plastic_fate[world_filter]\n",
    "plastic_fate_world"
   ]
  },
  {
   "cell_type": "code",
   "execution_count": null,
   "metadata": {},
   "outputs": [],
   "source": [
    "plastic_fate_world.describe\n",
    "plastic_fate_world.info\n",
    "plastic_fate_world.shape\n",
    "plastic_fate_world.columns\n",
    "\n",
    "plastic_fate_world.isnull().sum()\n",
    "plastic_fate_world.isna().sum()\n",
    "\n",
    "plastic_fate_world.fillna(value=\"\")\n",
    "plastic_fate_world"
   ]
  },
  {
   "cell_type": "code",
   "execution_count": null,
   "metadata": {},
   "outputs": [],
   "source": [
    "x = plastic_fate_world[\"Year\"]\n",
    "y1 = plastic_fate_world[\"Recycled\"]\n",
    "y2 = plastic_fate_world[\"Incinerated\"]\n",
    "y3 = plastic_fate_world[\"Littered and mismanaged\"]\n",
    "y4 = plastic_fate_world[\"Landfilled\"]\n",
    "\n",
    "plt.figure(figsize=(12.5, 5)) \n",
    "plt.plot(x, y1, \"#4B90CC\", linewidth=1.5, label=\"Recycled\")\n",
    "plt.plot(x, y2, \"#00CED1\", linewidth=1.5, label=\"Incinerated\")\n",
    "plt.plot(x, y3, \"#87CEEB\", linewidth=1.5, label=\"Littered and mismanaged\")\n",
    "plt.plot(x, y4, \"#000000\", linewidth=1.5, label=\"Landfilled\")\n",
    "\n",
    "plt.title(\"Plastic Disposal Methods: Trends 2000-2019\")\n",
    "plt.xlabel(\"Year\")\n",
    "plt.xticks(x)\n",
    "plt.ylabel(\"Millions of Tonnes\")\n",
    "plt.grid(False)\n",
    "plt.legend(loc=\"center right\", bbox_to_anchor=(1.30,0.5))\n",
    "plt.show()"
   ]
  },
  {
   "cell_type": "code",
   "execution_count": null,
   "metadata": {},
   "outputs": [],
   "source": [
    "# Part Three: Plastics in aquatic environments\n",
    "\n"
   ]
  },
  {
   "cell_type": "code",
   "execution_count": null,
   "metadata": {},
   "outputs": [],
   "source": []
  },
  {
   "cell_type": "code",
   "execution_count": null,
   "metadata": {},
   "outputs": [],
   "source": [
    "# Part Four: The Great Pacific Garbage Patch"
   ]
  },
  {
   "cell_type": "code",
   "execution_count": null,
   "metadata": {},
   "outputs": [],
   "source": []
  }
 ],
 "metadata": {
  "kernelspec": {
   "display_name": "Python 3",
   "language": "python",
   "name": "python3"
  },
  "language_info": {
   "codemirror_mode": {
    "name": "ipython",
    "version": 3
   },
   "file_extension": ".py",
   "mimetype": "text/x-python",
   "name": "python",
   "nbconvert_exporter": "python",
   "pygments_lexer": "ipython3",
   "version": "3.11.5"
  }
 },
 "nbformat": 4,
 "nbformat_minor": 2
}
