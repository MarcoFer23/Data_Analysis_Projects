{
 "cells": [
  {
   "cell_type": "code",
   "execution_count": null,
   "metadata": {},
   "outputs": [],
   "source": [
    "\"\"\"\n",
    "L'esercizio è mirato a prendere confidenza con l'analisi dati in Python e in particolare con tutte le strutture dati viste, \n",
    "le funzioni e i costrutti principali. Per eseguire l'esercizio è preferibile utilizzare come tool di programmazione Jupyter Lab, \n",
    "Jupyter Notebook o Colaboratory: in alternativa si potranno utilizzare IDE quali PyCharm oppure Spyder.\n",
    "\n",
    "Analisi diffusione COVID-19 nel mondo\n",
    "\n",
    "Il committente richiede di avere un report su casi e vaccinazioni in diverse aree del mondo; a tal fine, richiede di utilizzare il dataset, \n",
    "curato da Our World in Data, all'indirizzo https://github.com/owid/covid-19-data/tree/master/public/data; alla voce “Download our complete COVID-19 dataset\" \n",
    "scaricare il dataset in formato CSV oppure in formato JSON.\n",
    "\n",
    "• Si richiede di verificare le dimensioni del dataset e le diciture presenti nell'intestazione.\n",
    "• Si chiede poi per ogni continente di trovare il numero di casi totali avvenuti in quello stesso continente; \n",
    "    si chiede di non considerare eventuali locazioni che nel dataset non appartengono ad alcun continente.\n",
    "• Sempre riguardo i casi di COVID totali, si chiede di sviluppare una funzione che prenda in input il dataset \n",
    "    e due nomi di continenti, e che ne confronti i seguenti relativi descrittori statistici: valori minimo e massimo, \n",
    "        media, e percentuale rispetto al numero dei casi totali nel mondo (in questo caso calcolati anche sulle locazioni senza indicazione di continente).\n",
    "• Si chiede poi di effettuare lo stesso tipo di analisi - anche in questo caso sviluppando una funzione ad hoc - per il numero di vaccinazioni totali per ogni continente.\n",
    "• Alla fine, basandosi sui calcoli fatti, il committente chiede di stilare un breve (tre o quattro righe) paragrafo testuale riassuntivo sulle statistiche di casi e vaccinazioni, \n",
    "    che si concentri solo sulle differenze esistenti tra Europa, Sud America e Oceania.\n",
    "\n",
    "Per effettuare le analisi si potranno usare, a scelta, strumenti come funzioni e strutture dati built-in quali open. (), liste, dizionari;\n",
    "moduli built-in quali cav o json; moduli esteri quali Pandas e i relativi metodi e tipi di dato.\n",
    "\"\"\"\n",
    "\n",
    "import pandas as pd\n",
    "\n",
    "covid = pd.read_csv(\"C:/Users/marco/Downloads/owid-covid-data.csv\", sep=\",\")\n",
    "covid"
   ]
  },
  {
   "cell_type": "code",
   "execution_count": null,
   "metadata": {},
   "outputs": [],
   "source": [
    "# Si richiede di verificare le dimensioni del dataset e le diciture presenti nell'intestazione.\n",
    "\n",
    "covid.shape\n",
    "covid.columns"
   ]
  },
  {
   "cell_type": "code",
   "execution_count": null,
   "metadata": {},
   "outputs": [],
   "source": [
    "# Si chiede poi per ogni continente di trovare il numero di casi totali avvenuti in quello stesso continente; \n",
    "# si chiede di non considerare eventuali locazioni che nel dataset non appartengono ad alcun continente.\n",
    "\n",
    "covid = pd.read_csv(\"C:/Users/marco/Downloads/owid-covid-data.csv\", sep=\",\", usecols=[\"continent\", \"location\", \"total_cases\", \"total_vaccinations\"])\n",
    "covid"
   ]
  },
  {
   "cell_type": "code",
   "execution_count": null,
   "metadata": {},
   "outputs": [],
   "source": [
    "filtro_righe = covid.loc[covid[\"location\"] != 'World']\n",
    "filtro_righe"
   ]
  },
  {
   "cell_type": "code",
   "execution_count": null,
   "metadata": {},
   "outputs": [],
   "source": [
    "covid_filtrato = filtro_righe.groupby(\"continent\")[\"total_cases\"].max()\n",
    "covid_filtrato"
   ]
  }
 ],
 "metadata": {
  "kernelspec": {
   "display_name": "Python 3",
   "language": "python",
   "name": "python3"
  },
  "language_info": {
   "codemirror_mode": {
    "name": "ipython",
    "version": 3
   },
   "file_extension": ".py",
   "mimetype": "text/x-python",
   "name": "python",
   "nbconvert_exporter": "python",
   "pygments_lexer": "ipython3",
   "version": "3.11.5"
  },
  "orig_nbformat": 4
 },
 "nbformat": 4,
 "nbformat_minor": 2
}
