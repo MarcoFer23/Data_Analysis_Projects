{
 "cells": [
  {
   "cell_type": "code",
   "execution_count": null,
   "metadata": {},
   "outputs": [],
   "source": [
    "\"\"\"\n",
    "1.\n",
    "Abbiamo una lista di liste:\n",
    "\n",
    "mat = [[0, 1, 2, 3, 4], [5, 6, 7, 8, 9], [10, 11, 12, 13, 14]]\n",
    "\n",
    "Che tipo di struttura dati o matematica potrebbe rappresentare? Notare che\n",
    "tutte le liste \"interne\" sono della stessa dimensione\n",
    "\n",
    "Come facciamo per accedere ad un elemento in particolare?\n",
    "\"\"\"\n",
    "\n",
    "mat = [[0, 1, 2, 3, 4], \n",
    "       [5, 6, 7, 8, 9], \n",
    "       [10, 11, 12, 13, 14]\n",
    "      ]"
   ]
  },
  {
   "cell_type": "code",
   "execution_count": null,
   "metadata": {},
   "outputs": [],
   "source": [
    "\"\"\"\n",
    "2.\n",
    "Trasformiamo la lista dell'esercizio precedente\n",
    "mat = [[0, 1, 2, 3, 4],\n",
    "[5, 6, 7, 8, 9]\n",
    "[10, 11, 12, 13, 14]]\n",
    "\n",
    "in un array NumPy:\n",
    "mat = np.array(mat)\n",
    "\n",
    "Come facciamo per accedere ai singoli elementi?\n",
    "\"\"\""
   ]
  },
  {
   "cell_type": "code",
   "execution_count": null,
   "metadata": {},
   "outputs": [],
   "source": [
    "\"\"\"\n",
    "3.\n",
    "Abbiamo il seguente array NumPy:\n",
    "linear_data = np.array([x for x in range(27)])\n",
    "Lo ridimensioniamo mediante il metodo .reshape():\n",
    "reshaped_data = linear_data.reshape((3, 3, 3))\n",
    "\n",
    "Quante dimensioni ha il nuovo array?\n",
    "\n",
    "Come facciamo per accedere ai singoli elementi?\n",
    "\"\"\""
   ]
  },
  {
   "cell_type": "code",
   "execution_count": null,
   "metadata": {},
   "outputs": [],
   "source": [
    "\"\"\"\n",
    "4.1\n",
    "Abbiamo un territorio cittadino diviso in quattro quadranti; in ognuno di essi c'è\n",
    "uno store:\n",
    "\n",
    "Vogliamo contare quanti clienti vengono serviti dai diversi store: creiamo una\n",
    "struttura dati adeguata con un array NumPy, dove il conteggio di ogni store\n",
    "parta da zero.\n",
    "4.2\n",
    "Creiamo un ciclo di 100 iterazioni che riempia, a caso, uno dei quattro\n",
    "quadranti, simulando quindi diversi clienti serviti dai vari store.\n",
    "\n",
    "Alla fine, che valore ha lo store UR? E lo store LL?\n",
    "\n",
    "Quali store hanno avuto più di 25 clienti?\n",
    "\n",
    "Quanti clienti hanno avuto di preciso questi store?\n",
    "\n",
    "Qual è la loro somma?\n",
    "4.3\n",
    "Ripetiamo la traccia precedente, ma stavolta abbiamo nove quadranti e 200\n",
    "iterazioni:\n",
    "\n",
    "L'anno prossimo ci aspettiamo 4 volte tanto i valori appena ottenuti; simuliamo\n",
    "velocemente il tutto e stampiamo il risultato.\n",
    "\"\"\""
   ]
  },
  {
   "cell_type": "code",
   "execution_count": null,
   "metadata": {},
   "outputs": [],
   "source": [
    "\"\"\"\n",
    "5.\n",
    "Chiediamo all'utente di inserire un numero, dividiamolo per 5 e poi stampiamo\n",
    "il risultato a video.\n",
    "\n",
    "Gestiamo correttamente le eccezioni nel caso l'utente immetta un input errato.\n",
    "\"\"\""
   ]
  },
  {
   "cell_type": "code",
   "execution_count": null,
   "metadata": {},
   "outputs": [],
   "source": [
    "\"\"\"\n",
    "6.\n",
    "In una catena di montaggio abbiamo una struttura metallica di 28.75 cm di\n",
    "lunghezza; per assicurarne la stabilità, è necessario inserire 15 rivetti, dei quali\n",
    "uno all'inizio e uno alla fine, e tutti quanti separati dalla stessa distanza; come\n",
    "possiamo calcolare i punti esatti in cui inserire i rivetti tramite NumPy?\n",
    "\"\"\""
   ]
  },
  {
   "cell_type": "code",
   "execution_count": null,
   "metadata": {},
   "outputs": [],
   "source": [
    "\"\"\"\n",
    "7.1\n",
    "Scarichiamo l'Iris dataset da qui: https://archive.ics.uci.edu/dataset/53/iris\n",
    "Troveremo un file .data, che è un CSV, e un file .names con i metadati; questa\n",
    "versione del dataset non ha i nomi di colonna.\n",
    "• Leggiamo il file e carichiamolo in un DataFrame mediante pd.read_csv()\n",
    "senza utilizzare altri parametri\n",
    "• Stampiamo le prime cinque righe\n",
    "• Stampiamo i nomi di colonna: sono corretti?\n",
    "7.2\n",
    "Dal dataset di prima:\n",
    "• Leggiamo il file e carichiamolo in un DataFrame, aggiungendo i nomi di\n",
    "colonna — che si trovano nel file .names — come parametro di\n",
    "pd.read_csv()\n",
    "• Stampiamo le prime cinque righe e le ultime dieci\n",
    "• Stampiamo un riepilogo dei descrittori statistici del dataset\n",
    "\"\"\""
   ]
  },
  {
   "cell_type": "code",
   "execution_count": null,
   "metadata": {},
   "outputs": [],
   "source": [
    "\"\"\"\n",
    "8.\n",
    "Andiamo a questo link e scarichiamo una serie di dataset:\n",
    "https://www.kaggle.com/datasets/ahmettezcantekin/beginner-datasets\n",
    "\n",
    "Tra i vari dataset presenti, ce n'è uno che contiene diverse qualità di vini e le\n",
    "misure di diverse proprietà organolettiche, wine.csv;\n",
    "Leggiamo quindi il dataset wine.csv, e visualizziamone le prime e le ultime\n",
    "righe;\n",
    "Leggiamo nuovamente il dataset, ma stavolta considerando soltanto le ultime 6\n",
    "colonne, ricordandoci che in totale il dataset ha 13 colonne;\n",
    "Visualizziamo un resoconto dei descrittori statistici di questa versione.\n",
    "\"\"\""
   ]
  },
  {
   "cell_type": "code",
   "execution_count": null,
   "metadata": {},
   "outputs": [],
   "source": [
    "\"\"\"\n",
    "9.\n",
    "Consideriamo il seguente dizionario:\n",
    "fatturati_dict = {1997: 12_000, 1998: 15_000,\n",
    "1999: 20_000, 2000: 23_000, 2001: 25_000,\n",
    "2002: 17_000, 2003: 14_000, 2004: 21_000}\n",
    "\n",
    "Consideriamo ora la seguente Series:\n",
    "fatturati_series = pd.Series([12_000, 15_000, 20_000,\n",
    "23_000, 25_000, 17_000, 14_000, 21_000],\n",
    "index=range(1997, 2005))\n",
    "\n",
    "Possiamo accedere alle stesse informazioni nello stesso modo:\n",
    "fatturati_dict[1997]\n",
    "fatturati_series[1997]\n",
    "Dunque qual è la differenza tra i due tipi di dato?\n",
    "Cosa potremmo fare con la Series che non possiamo fare con il dizionario?\n",
    "\"\"\""
   ]
  },
  {
   "cell_type": "code",
   "execution_count": null,
   "metadata": {},
   "outputs": [],
   "source": [
    "\"\"\"\n",
    "10.\n",
    "Abbiamo la seguente matrice:\n",
    "\n",
    "Creiamo un ndarray con gli stessi valori.\n",
    "\n",
    "Ci sono due modalità: inizializzare un array e poi inserire i valori nelle posizioni\n",
    "adatte, oppure creare una lista di liste e poi effettuare un casting.\n",
    "\"\"\""
   ]
  },
  {
   "cell_type": "code",
   "execution_count": null,
   "metadata": {},
   "outputs": [],
   "source": [
    "\"\"\"\n",
    "11.\n",
    "Creiamo il seguente ndarray 5 x 5:\n",
    "\n",
    "Per ogni valore, sottraiamo il minimo (2) e poi dividiamo il risultato per il\n",
    "massimo (42) meno il minimo.\n",
    "\"\"\""
   ]
  }
 ],
 "metadata": {
  "kernelspec": {
   "display_name": "base",
   "language": "python",
   "name": "python3"
  },
  "language_info": {
   "codemirror_mode": {
    "name": "ipython",
    "version": 3
   },
   "file_extension": ".py",
   "mimetype": "text/x-python",
   "name": "python",
   "nbconvert_exporter": "python",
   "pygments_lexer": "ipython3",
   "version": "3.11.5"
  },
  "orig_nbformat": 4
 },
 "nbformat": 4,
 "nbformat_minor": 2
}
