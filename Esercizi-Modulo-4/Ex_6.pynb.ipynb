{
 "cells": [
  {
   "cell_type": "code",
   "execution_count": null,
   "metadata": {},
   "outputs": [],
   "source": [
    "mat = [[0,1,2,3,4],[5,6,7,8,9],[10,11,12,13,14]]\n",
    "\n",
    "# Rappresenta una matrice\n",
    "# mat[0][0] doppio slicing per accedere prima alla prima lista della lista, e poi ai valori delle liste interne"
   ]
  },
  {
   "cell_type": "code",
   "execution_count": null,
   "metadata": {},
   "outputs": [],
   "source": [
    "mat = [[0,1,2,3,4],[5,6,7,8,9],[10,11,12,13,14]]\n",
    "\n",
    "import numpy as ny\n",
    "\n",
    "mat = ny.array(mat)\n",
    "\n",
    "x = mat[2,4]\n",
    "\n",
    "print(x)"
   ]
  },
  {
   "cell_type": "code",
   "execution_count": null,
   "metadata": {},
   "outputs": [],
   "source": [
    "import numpy as np\n",
    "\n",
    "linear_data = np.array([x for x in range(27)])\n",
    "reshaped_data = linear_data.reshape(3,3,3)\n",
    "# Array a tre elementi ---> ci sono tre matrici differenti\n",
    "print(reshaped_data)\n",
    "print(reshaped_data[2,0,1]) # con i numeri indicati accediamo rispettivamente a: matrice n, riga n, colonna n"
   ]
  },
  {
   "cell_type": "code",
   "execution_count": null,
   "metadata": {},
   "outputs": [],
   "source": [
    "# Non ho capito un H"
   ]
  },
  {
   "cell_type": "code",
   "execution_count": null,
   "metadata": {},
   "outputs": [],
   "source": [
    "while True:\n",
    "    try:\n",
    "        numero = int(input(\"Inserisci un numero per iniziare il calcolo:\"))\n",
    "    except:\n",
    "        print(\"Hai inserito un valore non numerico, riprova\")\n",
    "    else:\n",
    "        numero /= 5\n",
    "        break\n",
    "print(numero)"
   ]
  }
 ],
 "metadata": {
  "kernelspec": {
   "display_name": "base",
   "language": "python",
   "name": "python3"
  },
  "language_info": {
   "codemirror_mode": {
    "name": "ipython",
    "version": 3
   },
   "file_extension": ".py",
   "mimetype": "text/x-python",
   "name": "python",
   "nbconvert_exporter": "python",
   "pygments_lexer": "ipython3",
   "version": "3.11.4"
  },
  "orig_nbformat": 4
 },
 "nbformat": 4,
 "nbformat_minor": 2
}
