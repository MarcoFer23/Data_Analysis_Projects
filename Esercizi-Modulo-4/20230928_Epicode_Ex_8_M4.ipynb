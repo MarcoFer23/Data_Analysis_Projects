{
 "cells": [
  {
   "cell_type": "code",
   "execution_count": null,
   "metadata": {},
   "outputs": [],
   "source": [
    "\"\"\"\n",
    "Quesito 1 - Parte 1\n",
    "Da plotly.express importiamo il dataset stocks, mediante:\n",
    "from plotly import express as px\n",
    "stocks = px.data.stocks()\n",
    "\n",
    "• Estraiamo i dati della colonna GOOG relative all'andamento delle azioni di\n",
    "Google, e visualizziamolo mediante pyplot\n",
    "\n",
    "• Estraiamo le prime 5 righe della colonna GOOG e della colonna date, e\n",
    "usiamoli come ascisse e ordinate su un grafico mediante pyplot\n",
    "\n",
    "• Facciamo lo stesso per le ultime 5 righe del dataset\n",
    "\"\"\""
   ]
  },
  {
   "cell_type": "code",
   "execution_count": null,
   "metadata": {},
   "outputs": [],
   "source": [
    "\"\"\"\n",
    "Quesito 1 - Parte 2\n",
    "Estraiamo le prime 20 istanze della colonna AAPL delle azioni di Apple, e\n",
    "visualizziamo il grafico tramite pyplot, in modo che:\n",
    "• il grafico sia rosso\n",
    "• la linea sia tratteggiata\n",
    "• vi sia un pallino come marker\n",
    "• l'asse delle ascisse si chiami \"Data\"\n",
    "• l'asse delle ordinate si chiami \"Valore\"\n",
    "• il titolo del grafico sia \"Azioni Apple\"\n",
    "• il markerfacecolor sia nero\n",
    "• la linea abbia spessore uguale a 2\n",
    "\"\"\""
   ]
  },
  {
   "cell_type": "code",
   "execution_count": null,
   "metadata": {},
   "outputs": [],
   "source": [
    "\"\"\"\n",
    "Quesito 1 - Parte 3\n",
    "• Utilizzando i metodi di rappresentazione grafica dei DataFrame,\n",
    "visualizziamo l'andamento di tutte le azioni sullo stesso grafico\n",
    "\n",
    "• Tramite pyplot, spostiamo la legenda in basso a destra.\n",
    "\"\"\""
   ]
  },
  {
   "cell_type": "code",
   "execution_count": null,
   "metadata": {},
   "outputs": [],
   "source": [
    "\"\"\"\n",
    "Quesito 2\n",
    "Da plotly.express importiamo il dataset elections, mediante:\n",
    "from plotly import express as px\n",
    "election = px.data.election()\n",
    "\n",
    "• Disegnamo un grafico a barre dove confrontiamo i voti totali presi dai tre\n",
    "candidati\n",
    "• Visualizzare un grafico a barre comparativo dove si confrontano i voti presi\n",
    "nei primi 4 distretti\n",
    "• Visualizzarlo sia in formato appaiato che impilato (stacked)\n",
    "• Salvare entrambi i grafici su disco in alta risoluzione\n",
    "\"\"\""
   ]
  },
  {
   "cell_type": "code",
   "execution_count": null,
   "metadata": {},
   "outputs": [],
   "source": [
    "\"\"\"\n",
    "Quesito 3 - Parte 1\n",
    "Da seaborn importiamo il dataset titanic, mediante:\n",
    "import seaborn as sns\n",
    "titanic = sns.load_dataset('titanic')\n",
    "\n",
    "• Quanti ponti c'erano sulla nave?\n",
    "• Ci sono dati mancanti? Dove? Quanti? Come potremmo gestirli?\n",
    "• Tramite seaborn visualizziamo un jointplot sulle colonne fare e age;\n",
    "che cosa stiamo guardando?\n",
    "\"\"\""
   ]
  },
  {
   "cell_type": "code",
   "execution_count": null,
   "metadata": {},
   "outputs": [],
   "source": [
    "\"\"\"\n",
    "Quesito 3 - Parte 2\n",
    "• Visualizzare un grafico con la differenza tra il numero di passeggeri di ogni\n",
    "classe di imbarco\n",
    "• Fare la stessa cosa per la colonna alive\n",
    "• Qual era la distribuzione delle tariffe (fare)?\n",
    "• Riusciamo a vedere la distribuzione delle età dei passeggeri rispetto alla\n",
    "classe di imbarco? Proviamo con un boxplot e con uno swarmplot\n",
    "• Visualizziamo un kdeplot per la colonna age\n",
    "• Visualizziamo un boxplot e un lmplot rispetto alle colonne fare e\n",
    "survived; che cose ne deduciamo?\n",
    "\"\"\""
   ]
  },
  {
   "cell_type": "code",
   "execution_count": null,
   "metadata": {},
   "outputs": [],
   "source": [
    "\"\"\"\n",
    "Quesito 3 - Parte 3\n",
    "Realizziamo un grafico scatter interattivo tramite plotly.express dove\n",
    "avremo:\n",
    "• l'età sull'asse x e il ponte sull'asse y\n",
    "• il colore rispetto a se la persona è sopravvissuta o meno\n",
    "• la dimensione del marker rispetto alla tariffa\n",
    "• il simbolo (tramite il parametro symbol=) rispetto alla colonna sex\n",
    "• riordiniamo l'asse y in modo che rispetti la disposizione dei ponti, mediante il\n",
    "parametro category_orders={\"deck\": list(\"ABCDEFG\")}\n",
    "\n",
    "Che conclusioni possiamo trarne?\n",
    "\"\"\""
   ]
  }
 ],
 "metadata": {
  "language_info": {
   "name": "python"
  },
  "orig_nbformat": 4
 },
 "nbformat": 4,
 "nbformat_minor": 2
}
