{
 "cells": [
  {
   "cell_type": "markdown",
   "metadata": {},
   "source": [
    "Part One: Global plastic production and forecasts"
   ]
  },
  {
   "cell_type": "markdown",
   "metadata": {},
   "source": [
    "Global Plastic Production Trends"
   ]
  },
  {
   "cell_type": "code",
   "execution_count": null,
   "metadata": {},
   "outputs": [],
   "source": [
    "import warnings\n",
    "import pandas as pd\n",
    "import seaborn as sns\n",
    "import plotly.express as px\n",
    "import matplotlib.pyplot as plt\n",
    "\n",
    "columns_to_use = [\"Year\", \"Annual plastic production between 1950 and 2019\"]\n",
    "global_plastic_production = pd.read_csv(\"C:/Users/marco/Downloads/Capstone_Project/1. Produzione plastica/global-plastics-production_our_world_in_data.csv\", sep=\",\", usecols=columns_to_use)\n",
    "global_plastic_production = global_plastic_production.rename(columns={\"Annual plastic production between 1950 and 2019\": \"Annual Plastic Production\"})\n",
    "global_plastic_production"
   ]
  },
  {
   "cell_type": "code",
   "execution_count": null,
   "metadata": {},
   "outputs": [],
   "source": [
    "# Here is a list of instructions in Python to get valuable insights about the datasets being looked at: \n",
    "\n",
    "\"\"\"\n",
    "global_plastic_production.describe\n",
    "global_plastic_production.info\n",
    "global_plastic_production.shape\n",
    "global_plastic_production.columns\n",
    "global_plastic_production.isnull().sum()\n",
    "global_plastic_production.isna().sum()\n",
    "\"\"\"\n",
    "\n",
    "global_plastic_production.fillna(value=0, inplace=True)"
   ]
  },
  {
   "cell_type": "code",
   "execution_count": null,
   "metadata": {},
   "outputs": [],
   "source": [
    "x = global_plastic_production[\"Year\"]\n",
    "y = global_plastic_production[\"Annual Plastic Production\"]\n",
    "\n",
    "warnings.filterwarnings(\"ignore\")\n",
    "\n",
    "plt.figure(figsize=(7.5, 4.6)) \n",
    "plt.plot(x, y, \"#000000\", linewidth=1.5)\n",
    "plt.title(\"Global Plastic Production\", fontfamily=\"sans-serif\", fontsize=12.5)\n",
    "plt.xlabel(\"\", fontfamily=\"sans-serif\", fontsize=12)\n",
    "plt.ylabel(\"Plastic Production (Millions of Tonnes)\", fontfamily=\"sans-serif\", fontsize=12)\n",
    "plt.grid(False)\n",
    "plt.show()\n",
    "\n",
    "plt.figure(figsize=(7.5, 4.6)) \n",
    "sns.lineplot(x=x, y=y, data=global_plastic_production, color=\"#000000\")\n",
    "sns.regplot(x=x, y=y, data=global_plastic_production, scatter=False, order=3, line_kws={\"color\": \"#FFA500\", \"linestyle\": \"solid\"})\n",
    "plt.title(\"Global Plastic Production with Trendline\", fontfamily=\"sans-serif\", fontsize=12.5)\n",
    "plt.xlabel(\"\", fontfamily=\"sans-serif\", fontsize=12)\n",
    "plt.ylabel(\"Plastic Production (Millions of Tonnes)\", fontfamily=\"sans-serif\", fontsize=12)\n",
    "plt.grid(False)\n",
    "plt.show()\n",
    "\n",
    "warnings.resetwarnings()"
   ]
  },
  {
   "cell_type": "code",
   "execution_count": null,
   "metadata": {},
   "outputs": [],
   "source": [
    "fig = px.line(global_plastic_production, x=\"Year\", y=\"Annual Plastic Production\",\n",
    "              line_shape=\"linear\", hover_data={\"Year\", \"Annual Plastic Production\"})\n",
    "\n",
    "\n",
    "fig.update_layout(\n",
    "    title=dict(text=\"Global Plastic Production\", font=dict(family=\"sans-serif\", size=20), x=0.5, y=0.95),\n",
    "    xaxis_title=\"\",\n",
    "    yaxis_title=\"Plastic Production (Millions of Tonnes)\",\n",
    "    font=dict(family=\"sans-serif\", size=12),\n",
    "    width=750,\n",
    "    height=460,\n",
    ")\n",
    "\n",
    "fig.show()"
   ]
  },
  {
   "cell_type": "markdown",
   "metadata": {},
   "source": [
    "Global Plastic Production with Projections"
   ]
  },
  {
   "cell_type": "code",
   "execution_count": null,
   "metadata": {},
   "outputs": [],
   "source": [
    "global_plastic_production_projections_full = pd.read_csv(\"C:/Users/marco/Downloads/Capstone_Project/1. Produzione plastica/global-plastic-production-projections.csv\", sep=\",\")\n",
    "global_plastic_production_projections_full\n",
    "\n",
    "world_filter = global_plastic_production_projections_full[\"Entity\"] == \"World\"\n",
    "global_plastic_production_projections = global_plastic_production_projections_full[world_filter]\n",
    "global_plastic_production_projections"
   ]
  },
  {
   "cell_type": "code",
   "execution_count": null,
   "metadata": {},
   "outputs": [],
   "source": [
    "# Here is a list of instructions in Python to get valuable insights about the datasets being looked at: \n",
    "\n",
    "\"\"\"\n",
    "global_plastic_production_projections.describe\n",
    "global_plastic_production_projections.info\n",
    "global_plastic_production_projections.shape\n",
    "global_plastic_production_projections.columns\n",
    "global_plastic_production_projections.isnull().sum()\n",
    "global_plastic_production_projections.isna().sum()\n",
    "\"\"\"\n",
    "\n",
    "global_plastic_production_projections.fillna(value=\"\")"
   ]
  },
  {
   "cell_type": "code",
   "execution_count": null,
   "metadata": {},
   "outputs": [],
   "source": [
    "x = global_plastic_production_projections[\"Year\"]\n",
    "y1 = global_plastic_production_projections[\"Annual plastic production between 1950 and 2019\"]\n",
    "y2 = global_plastic_production_projections[\"Plastic use - projections\"]\n",
    "\n",
    "warnings.filterwarnings(\"ignore\")\n",
    "\n",
    "plt.figure(figsize=(7.5, 4.6)) \n",
    "sns.lineplot(x=x, y=y1, color=\"#000000\", label=\"Annual Plastic Production 1950-2019\", linestyle=\"-\")\n",
    "sns.lineplot(x=x, y=y2, color=\"#FFA500\", label=\"Plastic Production Projections 2020-2060\", linestyle=\"--\")\n",
    "plt.title(\"Global Plastic Production Projections\", fontfamily=\"sans-serif\", fontsize=12.5)\n",
    "plt.xlabel(\"\", fontfamily=\"sans-serif\", fontsize=12)\n",
    "plt.ylabel(\"Plastic Production (Millions of Tonnes)\", fontfamily=\"sans-serif\", fontsize=12)\n",
    "plt.legend(loc=\"lower center\", bbox_to_anchor=(0.5, -0.3), ncol=1)\n",
    "plt.grid(False)\n",
    "plt.show()\n",
    "\n",
    "warnings.resetwarnings()"
   ]
  },
  {
   "cell_type": "markdown",
   "metadata": {},
   "source": [
    "Global Plastic Production by Sector"
   ]
  },
  {
   "cell_type": "code",
   "execution_count": null,
   "metadata": {},
   "outputs": [],
   "source": [
    "plastic_production_by_sector = pd.read_csv(\"C:/Users/marco/Downloads/Capstone_Project/1. Produzione plastica/plastic-production-by-sector.csv\", sep=\",\")\n",
    "plastic_production_by_sector"
   ]
  },
  {
   "cell_type": "code",
   "execution_count": null,
   "metadata": {},
   "outputs": [],
   "source": [
    "# Here is a list of instructions in Python to get valuable insights about the datasets being looked at: \n",
    "\n",
    "\"\"\"\n",
    "plastic_production_by_sector.describe\n",
    "plastic_production_by_sector.info\n",
    "plastic_production_by_sector.shape\n",
    "plastic_production_by_sector.columns\n",
    "plastic_production_by_sector.isnull().sum()\n",
    "plastic_production_by_sector.isna().sum()\n",
    "\"\"\"\n",
    "\n",
    "plastic_production_by_sector.fillna(value=0, inplace=True)"
   ]
  },
  {
   "cell_type": "code",
   "execution_count": null,
   "metadata": {},
   "outputs": [],
   "source": [
    "x = plastic_production_by_sector[\"Year\"]\n",
    "y1 = plastic_production_by_sector[\"Road marking\"]\n",
    "y2 = plastic_production_by_sector[\"Marine coatings\"]\n",
    "y3 = plastic_production_by_sector[\"Personal care products\"]\n",
    "y4 = plastic_production_by_sector[\"Industrial machinery\"]\n",
    "y5 = plastic_production_by_sector[\"Electronics\"]\n",
    "y6 = plastic_production_by_sector[\"Textile sector\"]\n",
    "y7 = plastic_production_by_sector[\"Consumer and institutional products\"]\n",
    "y8 = plastic_production_by_sector[\"Transportation\"]\n",
    "y9 = plastic_production_by_sector[\"Building and construction\"]\n",
    "y10 = plastic_production_by_sector[\"Packaging\"]\n",
    "y11 = plastic_production_by_sector[\"Other\"]\n",
    "\n",
    "plt.figure(figsize=(7.5, 4.6))\n",
    "plt.plot(x, y1, \"#FF0000\", linewidth=1.5, label=\"Road marking\")\n",
    "plt.plot(x, y2, \"#0000FF\", linewidth=1.5, label=\"Marine coatings\")\n",
    "plt.plot(x, y3, \"#00FF00\", linewidth=1.5, label=\"Personal care products\")\n",
    "plt.plot(x, y4, \"#FFFF00\", linewidth=1.5, label=\"Industrial machinery\")\n",
    "plt.plot(x, y5, \"#800080\", linewidth=1.5, label=\"Electronics\")\n",
    "plt.plot(x, y6, \"#00FFFF\", linewidth=1.5, label=\"Textile sector\")\n",
    "plt.plot(x, y7, \"#FFA500\", linewidth=1.5, label=\"Consumer and institutional products\")\n",
    "plt.plot(x, y8, \"#00FF00\", linewidth=1.5, label=\"Transportation\")\n",
    "plt.plot(x, y9, \"#FF00FF\", linewidth=1.5, label=\"Building and construction\")\n",
    "plt.plot(x, y10, \"#4682B4\", linewidth=1.5, label=\"Packaging\")\n",
    "plt.plot(x, y11, \"#000000\", linewidth=1.5, label=\"Other\")\n",
    "plt.title(\"Global Plastic Production by Industry Sector\", fontfamily=\"sans-serif\", fontsize=12.5)\n",
    "plt.xlabel(\"\", fontfamily=\"sans-serif\", fontsize=12)\n",
    "plt.ylabel(\"Plastic Production (Millions of Tonnes)\", fontfamily=\"sans-serif\", fontsize=12)\n",
    "plt.grid(False)\n",
    "plt.legend(loc=\"center right\", bbox_to_anchor=(1.55,0.5))\n",
    "plt.show()"
   ]
  },
  {
   "cell_type": "markdown",
   "metadata": {},
   "source": [
    "Part Two: Problems resulting from improper garbage disposal"
   ]
  },
  {
   "cell_type": "markdown",
   "metadata": {},
   "source": [
    "Mismanaged Plastic Waste per Capita"
   ]
  },
  {
   "cell_type": "code",
   "execution_count": null,
   "metadata": {},
   "outputs": [],
   "source": [
    "plastic_waste_per_capita = pd.read_csv(\"C:/Users/marco/Downloads/Capstone_Project/2. Smaltimento malgestito/mismanaged-plastic-waste-per-capita.csv\", sep=\",\")\n",
    "plastic_waste_per_capita"
   ]
  },
  {
   "cell_type": "code",
   "execution_count": null,
   "metadata": {},
   "outputs": [],
   "source": [
    "# Here is a list of instructions in Python to get valuable insights about the datasets being looked at: \n",
    "\n",
    "\"\"\"\n",
    "plastic_waste_per_capita.describe\n",
    "plastic_waste_per_capita.info\n",
    "plastic_waste_per_capita.shape\n",
    "plastic_waste_per_capita.columns\n",
    "plastic_waste_per_capita.isnull().sum()\n",
    "plastic_waste_per_capita.isna().sum()\n",
    "\"\"\"\n",
    "\n",
    "plastic_waste_per_capita.fillna(value=\"\")"
   ]
  },
  {
   "cell_type": "code",
   "execution_count": null,
   "metadata": {},
   "outputs": [],
   "source": [
    "pwpc_ordered = plastic_waste_per_capita.sort_values(by=\"Mismanaged plastic waste per capita (kg per year)\", ascending=False)\n",
    "pwpc_ordered"
   ]
  },
  {
   "cell_type": "code",
   "execution_count": null,
   "metadata": {},
   "outputs": [],
   "source": [
    "pwpc_ordered_top_10 = pwpc_ordered.iloc[0:10]\n",
    "pwpc_ordered_top_10"
   ]
  },
  {
   "cell_type": "code",
   "execution_count": null,
   "metadata": {},
   "outputs": [],
   "source": [
    "x = pwpc_ordered_top_10[\"Entity\"]\n",
    "y = pwpc_ordered_top_10[\"Mismanaged plastic waste per capita (kg per year)\"]\n",
    "\n",
    "plt.figure(figsize=(16, 4.6)) \n",
    "plt.bar(x, y, color =\"#4682B4\", width = 0.5)\n",
    "plt.title(\"Mismanaged Plastic Waste per Capita, Top 10 Countries\", fontfamily=\"sans-serif\", fontsize=12.5)\n",
    "plt.xlabel(\"\", fontfamily=\"sans-serif\", fontsize=12)\n",
    "plt.ylabel(\"KG per Year\", fontfamily=\"sans-serif\", fontsize=12)\n",
    "plt.grid(False)\n",
    "plt.show()"
   ]
  },
  {
   "cell_type": "markdown",
   "metadata": {},
   "source": [
    "Plastic Disposal Methods"
   ]
  },
  {
   "cell_type": "code",
   "execution_count": null,
   "metadata": {},
   "outputs": [],
   "source": [
    "plastic_fate = pd.read_csv(\"C:/Users/marco/Downloads/Capstone_Project/2. Smaltimento malgestito/plastic-fate.csv\", sep=\",\")\n",
    "plastic_fate\n",
    "\n",
    "world_filter = plastic_fate[\"Entity\"] == \"World\"\n",
    "plastic_fate_world = plastic_fate[world_filter]\n",
    "plastic_fate_world"
   ]
  },
  {
   "cell_type": "code",
   "execution_count": null,
   "metadata": {},
   "outputs": [],
   "source": [
    "# Here is a list of instructions in Python to get valuable insights about the datasets being looked at: \n",
    "\n",
    "\"\"\"\n",
    "plastic_fate_world.describe\n",
    "plastic_fate_world.info\n",
    "plastic_fate_world.shape\n",
    "plastic_fate_world.columns\n",
    "plastic_fate_world.isnull().sum()\n",
    "plastic_fate_world.isna().sum()\n",
    "\"\"\"\n",
    "\n",
    "plastic_fate_world.fillna(value=\"\")"
   ]
  },
  {
   "cell_type": "code",
   "execution_count": null,
   "metadata": {},
   "outputs": [],
   "source": [
    "x = plastic_fate_world[\"Year\"]\n",
    "y1 = plastic_fate_world[\"Recycled\"]\n",
    "y2 = plastic_fate_world[\"Incinerated\"]\n",
    "y3 = plastic_fate_world[\"Littered and mismanaged\"]\n",
    "y4 = plastic_fate_world[\"Landfilled\"]\n",
    "\n",
    "plt.figure(figsize=(10.75, 7.5)) \n",
    "plt.plot(x, y1, \"#00FF00\", linewidth=1.5, label=\"Recycled\")\n",
    "plt.plot(x, y2, \"#FF0000\", linewidth=1.5, label=\"Incinerated\")\n",
    "plt.plot(x, y3, \"#00FFFF\", linewidth=1.5, label=\"Littered and mismanaged\")\n",
    "plt.plot(x, y4, \"#000000\", linewidth=1.5, label=\"Landfilled\")\n",
    "\n",
    "plt.title(\"Plastic Disposal Methods: Trends 2000-2019\", fontfamily=\"sans-serif\", fontsize=12.5)\n",
    "plt.xlabel(\"\", fontfamily=\"sans-serif\", fontsize=12)\n",
    "plt.xticks(x)\n",
    "plt.ylabel(\"Millions of Tonnes\", fontfamily=\"sans-serif\", fontsize=12)\n",
    "plt.grid(False)\n",
    "plt.legend(loc=\"center right\", bbox_to_anchor=(1.30,0.5))\n",
    "plt.show()"
   ]
  },
  {
   "cell_type": "markdown",
   "metadata": {},
   "source": [
    "Part Three: Plastics in aquatic environments"
   ]
  },
  {
   "cell_type": "markdown",
   "metadata": {},
   "source": [
    "Ocean Plastic Waste per Capita"
   ]
  },
  {
   "cell_type": "code",
   "execution_count": null,
   "metadata": {},
   "outputs": [],
   "source": [
    "ocean_plastic_waste_per_capita = pd.read_csv(\"C:/Users/marco/Downloads/Capstone_Project/3. Plastica in ambienti acquatici/per-capita-ocean-plastic-waste.csv\", sep=\",\")\n",
    "ocean_plastic_waste_per_capita"
   ]
  },
  {
   "cell_type": "code",
   "execution_count": null,
   "metadata": {},
   "outputs": [],
   "source": [
    "# Here is a list of instructions in Python to get valuable insights about the datasets being looked at: \n",
    "\n",
    "\"\"\"\n",
    "ocean_plastic_waste_per_capita.describe\n",
    "ocean_plastic_waste_per_capita.info\n",
    "ocean_plastic_waste_per_capita.shape\n",
    "ocean_plastic_waste_per_capita.columns\n",
    "ocean_plastic_waste_per_capita.isnull().sum()\n",
    "ocean_plastic_waste_per_capita.isna().sum()\n",
    "\"\"\"\n",
    "\n",
    "ocean_plastic_waste_per_capita.fillna(value=\"\")"
   ]
  },
  {
   "cell_type": "code",
   "execution_count": null,
   "metadata": {},
   "outputs": [],
   "source": [
    "ocean_pl_waste_pc_ordered = ocean_plastic_waste_per_capita.sort_values(by=\"Mismanaged plastic waste to ocean per capita (kg per year)\", ascending=False)\n",
    "ocean_pl_waste_pc_ordered"
   ]
  },
  {
   "cell_type": "code",
   "execution_count": null,
   "metadata": {},
   "outputs": [],
   "source": [
    "ocean_pl_waste_pc_ordered_top_10 = ocean_pl_waste_pc_ordered.iloc[0:10]\n",
    "ocean_pl_waste_pc_ordered_top_10"
   ]
  },
  {
   "cell_type": "code",
   "execution_count": null,
   "metadata": {},
   "outputs": [],
   "source": [
    "x = ocean_pl_waste_pc_ordered_top_10[\"Entity\"]\n",
    "y = ocean_pl_waste_pc_ordered_top_10[\"Mismanaged plastic waste to ocean per capita (kg per year)\"]\n",
    "\n",
    "plt.figure(figsize=(16, 4.6)) \n",
    "plt.bar(x, y, color =\"#4682B4\", width = 0.5)\n",
    "plt.title(\"Plastic Waste to Oceans per Capita, Top 10 Countries\", fontfamily=\"sans-serif\", fontsize=12.5)\n",
    "plt.xlabel(\"\", fontfamily=\"sans-serif\", fontsize=12)\n",
    "plt.ylabel(\"KG per Year\", fontfamily=\"sans-serif\", fontsize=12)\n",
    "plt.grid(False)\n",
    "plt.show()"
   ]
  },
  {
   "cell_type": "markdown",
   "metadata": {},
   "source": [
    "Ocean Plastic Waste by Continent"
   ]
  },
  {
   "cell_type": "code",
   "execution_count": null,
   "metadata": {},
   "outputs": [],
   "source": [
    "continents = pd.read_csv(\"C:/Users/marco/Downloads/Capstone_Project/3. Plastica in ambienti acquatici/Countries-Continents.csv\", sep=\",\")\n",
    "continents"
   ]
  },
  {
   "cell_type": "code",
   "execution_count": null,
   "metadata": {},
   "outputs": [],
   "source": [
    "ocean_plastic_waste_per_capita_full = pd.merge(\n",
    "    ocean_plastic_waste_per_capita,\n",
    "    continents,\n",
    "    how=\"inner\",\n",
    "    on=\"Entity\",\n",
    "    left_on=None,\n",
    "    right_on=None,\n",
    "    left_index=False,\n",
    "    right_index=False,\n",
    "    sort=True,\n",
    "    suffixes=(\"_x\", \"_y\"),\n",
    "    copy=True,\n",
    "    indicator=False,\n",
    "    validate=None,\n",
    ")\n",
    "ocean_plastic_waste_per_capita_full"
   ]
  },
  {
   "cell_type": "code",
   "execution_count": null,
   "metadata": {},
   "outputs": [],
   "source": [
    "continent_ocean_plastic_waste_sum = ocean_plastic_waste_per_capita_full.loc[:,[\"Entity\", \"Mismanaged plastic waste to ocean per capita (kg per year)\", \"Continent\"]]\n",
    "continents_sum = continent_ocean_plastic_waste_sum.groupby(\"Continent\")[\"Mismanaged plastic waste to ocean per capita (kg per year)\"].sum()\n",
    "continents_sum"
   ]
  },
  {
   "cell_type": "code",
   "execution_count": null,
   "metadata": {},
   "outputs": [],
   "source": [
    "continents_sum = continents_sum.sort_values(ascending=False)\n",
    "\n",
    "plt.figure(figsize=(10, 4.6))\n",
    "plt.bar(continents_sum.index, continents_sum.values, color =\"#4682B4\", width = 0.5)\n",
    "plt.title(\"Ocean Plastic Waste per Capita by Continent (Sum)\", fontfamily=\"sans-serif\", fontsize=12.5)\n",
    "plt.xlabel(\"\", fontfamily=\"sans-serif\", fontsize=12)\n",
    "plt.ylabel(\"KG per Capita per Year\", fontfamily=\"sans-serif\", fontsize=12)  \n",
    "plt.show()"
   ]
  },
  {
   "cell_type": "code",
   "execution_count": null,
   "metadata": {},
   "outputs": [],
   "source": [
    "continent_ocean_plastic_waste_mean = ocean_plastic_waste_per_capita_full.loc[:,[\"Entity\", \"Mismanaged plastic waste to ocean per capita (kg per year)\", \"Continent\"]]\n",
    "continents_mean = continent_ocean_plastic_waste_mean.groupby(\"Continent\")[\"Mismanaged plastic waste to ocean per capita (kg per year)\"].mean()\n",
    "continents_mean"
   ]
  },
  {
   "cell_type": "code",
   "execution_count": null,
   "metadata": {},
   "outputs": [],
   "source": [
    "continents_mean = continents_mean.sort_values(ascending=False)\n",
    "\n",
    "plt.figure(figsize=(10, 4.6)) \n",
    "plt.bar(continents_mean.index, continents_mean.values, color =\"#4682B4\", width = 0.5)\n",
    "plt.title(\"Ocean Plastic Waste per Capita by Continent (Mean)\", fontfamily=\"sans-serif\", fontsize=12.5)\n",
    "plt.xlabel(\"\", fontfamily=\"sans-serif\", fontsize=12)\n",
    "plt.ylabel(\"KG per Capita per Year\", fontfamily=\"sans-serif\", fontsize=12)  \n",
    "plt.show()"
   ]
  },
  {
   "cell_type": "markdown",
   "metadata": {},
   "source": [
    "Macroplastics in Oceans"
   ]
  },
  {
   "cell_type": "code",
   "execution_count": null,
   "metadata": {},
   "outputs": [],
   "source": [
    "macroplastics_in_oceans = pd.read_csv(\"C:/Users/marco/Downloads/Capstone_Project/3. Plastica in ambienti acquatici/macroplastics-in-ocean.csv\", sep=\",\")\n",
    "macroplastics_in_oceans = macroplastics_in_oceans.drop(columns=[\"Code\"])\n",
    "macroplastics_in_oceans"
   ]
  },
  {
   "cell_type": "code",
   "execution_count": null,
   "metadata": {},
   "outputs": [],
   "source": [
    "# Here is a list of instructions in Python to get valuable insights about the datasets being looked at: \n",
    "\n",
    "\"\"\"\n",
    "macroplastics_in_oceans.describe\n",
    "macroplastics_in_oceans.info\n",
    "macroplastics_in_oceans.shape\n",
    "macroplastics_in_oceans.columns\n",
    "macroplastics_in_oceans.isnull().sum()\n",
    "macroplastics_in_oceans.isna().sum()\n",
    "\"\"\"\n",
    "\n",
    "macroplastics_in_oceans.fillna(value=\"\")"
   ]
  },
  {
   "cell_type": "code",
   "execution_count": null,
   "metadata": {},
   "outputs": [],
   "source": [
    "macroplastics_in_oceans[\"Entity\"].unique()"
   ]
  },
  {
   "cell_type": "code",
   "execution_count": null,
   "metadata": {},
   "outputs": [],
   "source": [
    "ma_growth_to_2050_filter = macroplastics_in_oceans[\"Entity\"] == \"Emissions growth to 2050\"\n",
    "ma_growth_to_2050 = macroplastics_in_oceans[ma_growth_to_2050_filter]\n",
    "ma_growth_to_2050"
   ]
  },
  {
   "cell_type": "code",
   "execution_count": null,
   "metadata": {},
   "outputs": [],
   "source": [
    "ma_level_to_2020_filter = macroplastics_in_oceans[\"Entity\"] == \"Emissions level to 2020\"\n",
    "ma_level_to_2020 = macroplastics_in_oceans[ma_level_to_2020_filter]\n",
    "ma_level_to_2020"
   ]
  },
  {
   "cell_type": "code",
   "execution_count": null,
   "metadata": {},
   "outputs": [],
   "source": [
    "ma_stop_to_2020_filter = macroplastics_in_oceans[\"Entity\"] == \"Emissions stop in 2020\"\n",
    "ma_stop_to_2020 = macroplastics_in_oceans[ma_stop_to_2020_filter]\n",
    "ma_stop_to_2020"
   ]
  },
  {
   "cell_type": "code",
   "execution_count": null,
   "metadata": {},
   "outputs": [],
   "source": [
    "x = macroplastics_in_oceans[\"Year\"]\n",
    "y1 = ma_growth_to_2050[\"Accumulated ocean plastic: Macroplastics (>0.5cm)\"]\n",
    "y2 = ma_level_to_2020[\"Accumulated ocean plastic: Macroplastics (>0.5cm)\"]\n",
    "y3 = ma_stop_to_2020[\"Accumulated ocean plastic: Macroplastics (>0.5cm)\"]\n",
    "\n",
    "warnings.filterwarnings(\"ignore\")\n",
    "\n",
    "plt.figure(figsize=(10, 4.6)) \n",
    "sns.lineplot(x=x, y=y1, color=\"#FF0000\", label=\"Production growth to 2050\", linestyle=\"--\")\n",
    "sns.lineplot(x=x, y=y2, color=\"#000000\", label=\"Production level to 2020\", linestyle=\"-\")\n",
    "sns.lineplot(x=x, y=y3, color=\"#FFA500\", label=\"Production stop in 2020\", linestyle=\"-.\")\n",
    "plt.title(\"Amounts of Macroplastics in Oceans\", fontfamily=\"sans-serif\", fontsize=12.5)\n",
    "plt.xlabel(\"\", fontfamily=\"sans-serif\", fontsize=12)\n",
    "plt.ylabel(\"Plastic Quantity (Millions of Tonnes)\", fontfamily=\"sans-serif\", fontsize=12)\n",
    "plt.legend(loc=\"lower center\", bbox_to_anchor=(0.5, -0.35), ncol=1)\n",
    "plt.grid(False)\n",
    "plt.show()\n",
    "\n",
    "warnings.resetwarnings()"
   ]
  },
  {
   "cell_type": "markdown",
   "metadata": {},
   "source": [
    "Microplastics in Oceans"
   ]
  },
  {
   "cell_type": "code",
   "execution_count": null,
   "metadata": {},
   "outputs": [],
   "source": [
    "microplastics_in_oceans = pd.read_csv(\"C:/Users/marco/Downloads/Capstone_Project/3. Plastica in ambienti acquatici/microplastics-in-ocean.csv\", sep=\",\")\n",
    "microplastics_in_oceans = microplastics_in_oceans.drop(columns=[\"Code\"])\n",
    "microplastics_in_oceans"
   ]
  },
  {
   "cell_type": "code",
   "execution_count": null,
   "metadata": {},
   "outputs": [],
   "source": [
    "# Here is a list of instructions in Python to get valuable insights about the datasets being looked at: \n",
    "\n",
    "\"\"\"\n",
    "microplastics_in_oceans.describe\n",
    "microplastics_in_oceans.info\n",
    "microplastics_in_oceans.shape\n",
    "microplastics_in_oceans.columns\n",
    "microplastics_in_oceans.isnull().sum()\n",
    "microplastics_in_oceans.isna().sum()\n",
    "\"\"\"\n",
    "\n",
    "microplastics_in_oceans.fillna(value=\"\")"
   ]
  },
  {
   "cell_type": "code",
   "execution_count": null,
   "metadata": {},
   "outputs": [],
   "source": [
    "microplastics_in_oceans[\"Entity\"].unique()"
   ]
  },
  {
   "cell_type": "code",
   "execution_count": null,
   "metadata": {},
   "outputs": [],
   "source": [
    "mi_growth_to_2050_filter = microplastics_in_oceans[\"Entity\"] == \"Emissions growth to 2050\"\n",
    "mi_growth_to_2050 = microplastics_in_oceans[mi_growth_to_2050_filter]\n",
    "mi_growth_to_2050"
   ]
  },
  {
   "cell_type": "code",
   "execution_count": null,
   "metadata": {},
   "outputs": [],
   "source": [
    "mi_level_to_2020_filter = microplastics_in_oceans[\"Entity\"] == \"Emissions level to 2020\"\n",
    "mi_level_to_2020 = microplastics_in_oceans[mi_level_to_2020_filter]\n",
    "mi_level_to_2020"
   ]
  },
  {
   "cell_type": "code",
   "execution_count": null,
   "metadata": {},
   "outputs": [],
   "source": [
    "mi_stop_to_2020_filter = microplastics_in_oceans[\"Entity\"] == \"Emissions stop in 2020\"\n",
    "mi_stop_to_2020 = microplastics_in_oceans[mi_stop_to_2020_filter]\n",
    "mi_stop_to_2020"
   ]
  },
  {
   "cell_type": "code",
   "execution_count": null,
   "metadata": {},
   "outputs": [],
   "source": [
    "x = microplastics_in_oceans[\"Year\"]\n",
    "y1 = mi_growth_to_2050[\"Accumulated ocean plastic: Microplastics (<0.5cm)\"]\n",
    "y2 = mi_level_to_2020[\"Accumulated ocean plastic: Microplastics (<0.5cm)\"]\n",
    "y3 = mi_stop_to_2020[\"Accumulated ocean plastic: Microplastics (<0.5cm)\"]\n",
    "\n",
    "warnings.filterwarnings(\"ignore\")\n",
    "\n",
    "plt.figure(figsize=(10, 4.6)) \n",
    "sns.lineplot(x=x, y=y1, color=\"#FF0000\", label=\"Production growth to 2050\", linestyle=\"--\")\n",
    "sns.lineplot(x=x, y=y2, color=\"#000000\", label=\"Production level to 2020\", linestyle=\"-\")\n",
    "sns.lineplot(x=x, y=y3, color=\"#FFA500\", label=\"Production stop in 2020\", linestyle=\"-.\")\n",
    "plt.title(\"Amounts of Microplastics in Oceans\", fontfamily=\"sans-serif\", fontsize=12.5)\n",
    "plt.xlabel(\"\", fontfamily=\"sans-serif\", fontsize=12)\n",
    "plt.ylabel(\"Plastic Quantity (Millions of Tonnes)\", fontfamily=\"sans-serif\", fontsize=12)\n",
    "plt.legend(loc=\"lower center\", bbox_to_anchor=(0.5, -0.35), ncol=1)\n",
    "plt.grid(False)\n",
    "plt.show()\n",
    "\n",
    "warnings.resetwarnings()"
   ]
  },
  {
   "cell_type": "markdown",
   "metadata": {},
   "source": [
    "Part Four: The Great Pacific Garbage Patch"
   ]
  },
  {
   "cell_type": "markdown",
   "metadata": {},
   "source": [
    "Plastic Items Type found in the Great Pacific Garbage Patch"
   ]
  },
  {
   "cell_type": "code",
   "execution_count": null,
   "metadata": {},
   "outputs": [],
   "source": [
    "garbage_patch = pd.read_csv(\"C:/Users/marco/Downloads/Capstone_Project/4. Great Pacific Garbage Patch/plastics-great-pacific-garbage-patch.csv\", sep=\",\")\n",
    "garbage_patch = garbage_patch.drop(columns=[\"Code\"])\n",
    "garbage_patch"
   ]
  },
  {
   "cell_type": "code",
   "execution_count": null,
   "metadata": {},
   "outputs": [],
   "source": [
    "# Here is a list of instructions in Python to get valuable insights about the datasets being looked at: \n",
    "\n",
    "\"\"\"\n",
    "garbage_patch.describe\n",
    "garbage_patch.info\n",
    "garbage_patch.shape\n",
    "garbage_patch.columns\n",
    "garbage_patch.isnull().sum()\n",
    "garbage_patch.isna().sum()\n",
    "\"\"\"\n",
    "\n",
    "garbage_patch.fillna(value=\"\")"
   ]
  },
  {
   "cell_type": "code",
   "execution_count": null,
   "metadata": {},
   "outputs": [],
   "source": [
    "garbage_patch[\"share_mass_plastic_items\"].values.sum()"
   ]
  },
  {
   "cell_type": "code",
   "execution_count": null,
   "metadata": {},
   "outputs": [],
   "source": [
    "garbage_patch[\"share_number_plastic_items\"].values.sum()"
   ]
  },
  {
   "cell_type": "code",
   "execution_count": null,
   "metadata": {},
   "outputs": [],
   "source": [
    "garbage_patch = garbage_patch.sort_values(by=\"share_mass_plastic_items\", ascending=False)\n",
    "\n",
    "y = garbage_patch[\"Entity\"]\n",
    "x1 = garbage_patch[\"share_mass_plastic_items\"].values\n",
    "\n",
    "garbage_patch = garbage_patch.sort_values(by=\"share_number_plastic_items\", ascending=False)\n",
    "\n",
    "x2 = garbage_patch[\"share_number_plastic_items\"].values\n",
    "\n",
    "\n",
    "warnings.filterwarnings(\"ignore\")\n",
    "\n",
    "plt.figure(figsize=(9, 4.6))\n",
    "sns.barplot(x=x1, y=y, palette=\"viridis\", label=\"\")\n",
    "plt.suptitle(\"Plastic Objects Mass in the Great Pacific Garbage Patch (Percentage)\", fontfamily=\"sans-serif\", fontsize=12.5)\n",
    "plt.xlabel(\"\", fontfamily=\"sans-serif\", fontsize=12)\n",
    "plt.ylabel(\"\", fontfamily=\"sans-serif\", fontsize=12)\n",
    "plt.show()\n",
    "\n",
    "plt.figure(figsize=(9, 4.6))\n",
    "sns.barplot(x=x2, y=y, palette=\"viridis\", label=\"\")\n",
    "plt.suptitle(\"Plastic Objects Number in the Great Pacific Garbage Patch (Percentage)\", fontfamily=\"sans-serif\", fontsize=12.5)\n",
    "plt.xlabel(\"\", fontfamily=\"sans-serif\", fontsize=12)\n",
    "plt.ylabel(\"\", fontfamily=\"sans-serif\", fontsize=12)\n",
    "plt.show()\n",
    "\n",
    "warnings.resetwarnings()"
   ]
  },
  {
   "cell_type": "code",
   "execution_count": null,
   "metadata": {},
   "outputs": [],
   "source": [
    "fig = px.pie(garbage_patch, \n",
    "             names=\"Entity\", \n",
    "             values=\"share_mass_plastic_items\",\n",
    "             labels={\"Entity\": \"Plastic Type\", \"share_mass_plastic_items\": \"Objects Mass (%)\"})\n",
    "fig.update_layout(\n",
    "    title=dict(text=\"Plastic Objects Mass in the Great Pacific Garbage Patch (Percentage)\", font=dict(family=\"sans-serif\", size=18), x=0.5, y=0.95),\n",
    "    font=dict(family=\"sans-serif\", size=14),\n",
    "    width=920,\n",
    "    height=460,\n",
    "    legend=dict(x=1.0, y=0.5)\n",
    ")\n",
    "fig.show()\n",
    "\n",
    "\n",
    "fig = px.pie(garbage_patch, \n",
    "             names=\"Entity\", \n",
    "             values=\"share_number_plastic_items\",\n",
    "             labels={\"Entity\": \"Plastic Type\", \"share_number_plastic_items\": \"Objects Number (%)\"})\n",
    "fig.update_layout(\n",
    "    title=dict(text=\"Plastic Objects Number in the Great Pacific Garbage Patch (Percentage)\", font=dict(family=\"sans-serif\", size=18), x=0.5, y=0.95),\n",
    "    font=dict(family=\"sans-serif\", size=14),\n",
    "    width=920,\n",
    "    height=460,\n",
    "    legend=dict(x=1.0, y=0.5)\n",
    ")\n",
    "fig.show()"
   ]
  }
 ],
 "metadata": {
  "kernelspec": {
   "display_name": "Python 3",
   "language": "python",
   "name": "python3"
  },
  "language_info": {
   "codemirror_mode": {
    "name": "ipython",
    "version": 3
   },
   "file_extension": ".py",
   "mimetype": "text/x-python",
   "name": "python",
   "nbconvert_exporter": "python",
   "pygments_lexer": "ipython3",
   "version": "3.11.5"
  }
 },
 "nbformat": 4,
 "nbformat_minor": 2
}
